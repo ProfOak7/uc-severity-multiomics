{
 "cells": [
  {
   "cell_type": "markdown",
   "metadata": {
    "collapsed": true
   },
   "source": [
    "<b> This notebook aggregates the results from 100 iterations of random forest. </b>\n",
    "    \n",
    "Notebook by YB & RM\n",
    "\n",
    "Environment (Qiime2 2018.11)"
   ]
  },
  {
   "cell_type": "code",
   "execution_count": null,
   "metadata": {},
   "outputs": [],
   "source": [
    "%matplotlib inline\n",
    "\n",
    "import numpy as np, pandas as pd, qiime2 as q2, seaborn as sns\n",
    "import os\n",
    "from skbio import DistanceMatrix\n",
    "from scipy.spatial import procrustes\n",
    "from skbio.stats.ordination import pcoa\n",
    "\n"
   ]
  },
  {
   "cell_type": "markdown",
   "metadata": {},
   "source": [
    "Download the results from the N jobs that you run on barnacle."
   ]
  },
  {
   "cell_type": "code",
   "execution_count": 3,
   "metadata": {},
   "outputs": [
    {
     "name": "stdout",
     "output_type": "stream",
     "text": [
      "\u001b[34m1\u001b[m\u001b[m/   \u001b[34m15\u001b[m\u001b[m/  \u001b[34m21\u001b[m\u001b[m/  \u001b[34m28\u001b[m\u001b[m/  \u001b[34m34\u001b[m\u001b[m/  \u001b[34m40\u001b[m\u001b[m/  \u001b[34m47\u001b[m\u001b[m/  \u001b[34m53\u001b[m\u001b[m/  \u001b[34m6\u001b[m\u001b[m/   \u001b[34m66\u001b[m\u001b[m/  \u001b[34m72\u001b[m\u001b[m/  \u001b[34m79\u001b[m\u001b[m/  \u001b[34m85\u001b[m\u001b[m/  \u001b[34m91\u001b[m\u001b[m/  \u001b[34m98\u001b[m\u001b[m/\r\n",
      "\u001b[34m10\u001b[m\u001b[m/  \u001b[34m16\u001b[m\u001b[m/  \u001b[34m22\u001b[m\u001b[m/  \u001b[34m29\u001b[m\u001b[m/  \u001b[34m35\u001b[m\u001b[m/  \u001b[34m41\u001b[m\u001b[m/  \u001b[34m48\u001b[m\u001b[m/  \u001b[34m54\u001b[m\u001b[m/  \u001b[34m60\u001b[m\u001b[m/  \u001b[34m67\u001b[m\u001b[m/  \u001b[34m73\u001b[m\u001b[m/  \u001b[34m8\u001b[m\u001b[m/   \u001b[34m86\u001b[m\u001b[m/  \u001b[34m92\u001b[m\u001b[m/  \u001b[34m99\u001b[m\u001b[m/\r\n",
      "\u001b[34m100\u001b[m\u001b[m/ \u001b[34m17\u001b[m\u001b[m/  \u001b[34m23\u001b[m\u001b[m/  \u001b[34m3\u001b[m\u001b[m/   \u001b[34m36\u001b[m\u001b[m/  \u001b[34m42\u001b[m\u001b[m/  \u001b[34m49\u001b[m\u001b[m/  \u001b[34m55\u001b[m\u001b[m/  \u001b[34m61\u001b[m\u001b[m/  \u001b[34m68\u001b[m\u001b[m/  \u001b[34m74\u001b[m\u001b[m/  \u001b[34m80\u001b[m\u001b[m/  \u001b[34m87\u001b[m\u001b[m/  \u001b[34m93\u001b[m\u001b[m/\r\n",
      "\u001b[34m11\u001b[m\u001b[m/  \u001b[34m18\u001b[m\u001b[m/  \u001b[34m24\u001b[m\u001b[m/  \u001b[34m30\u001b[m\u001b[m/  \u001b[34m37\u001b[m\u001b[m/  \u001b[34m43\u001b[m\u001b[m/  \u001b[34m5\u001b[m\u001b[m/   \u001b[34m56\u001b[m\u001b[m/  \u001b[34m62\u001b[m\u001b[m/  \u001b[34m69\u001b[m\u001b[m/  \u001b[34m75\u001b[m\u001b[m/  \u001b[34m81\u001b[m\u001b[m/  \u001b[34m88\u001b[m\u001b[m/  \u001b[34m94\u001b[m\u001b[m/\r\n",
      "\u001b[34m12\u001b[m\u001b[m/  \u001b[34m19\u001b[m\u001b[m/  \u001b[34m25\u001b[m\u001b[m/  \u001b[34m31\u001b[m\u001b[m/  \u001b[34m38\u001b[m\u001b[m/  \u001b[34m44\u001b[m\u001b[m/  \u001b[34m50\u001b[m\u001b[m/  \u001b[34m57\u001b[m\u001b[m/  \u001b[34m63\u001b[m\u001b[m/  \u001b[34m7\u001b[m\u001b[m/   \u001b[34m76\u001b[m\u001b[m/  \u001b[34m82\u001b[m\u001b[m/  \u001b[34m89\u001b[m\u001b[m/  \u001b[34m95\u001b[m\u001b[m/\r\n",
      "\u001b[34m13\u001b[m\u001b[m/  \u001b[34m2\u001b[m\u001b[m/   \u001b[34m26\u001b[m\u001b[m/  \u001b[34m32\u001b[m\u001b[m/  \u001b[34m39\u001b[m\u001b[m/  \u001b[34m45\u001b[m\u001b[m/  \u001b[34m51\u001b[m\u001b[m/  \u001b[34m58\u001b[m\u001b[m/  \u001b[34m64\u001b[m\u001b[m/  \u001b[34m70\u001b[m\u001b[m/  \u001b[34m77\u001b[m\u001b[m/  \u001b[34m83\u001b[m\u001b[m/  \u001b[34m9\u001b[m\u001b[m/   \u001b[34m96\u001b[m\u001b[m/\r\n",
      "\u001b[34m14\u001b[m\u001b[m/  \u001b[34m20\u001b[m\u001b[m/  \u001b[34m27\u001b[m\u001b[m/  \u001b[34m33\u001b[m\u001b[m/  \u001b[34m4\u001b[m\u001b[m/   \u001b[34m46\u001b[m\u001b[m/  \u001b[34m52\u001b[m\u001b[m/  \u001b[34m59\u001b[m\u001b[m/  \u001b[34m65\u001b[m\u001b[m/  \u001b[34m71\u001b[m\u001b[m/  \u001b[34m78\u001b[m\u001b[m/  \u001b[34m84\u001b[m\u001b[m/  \u001b[34m90\u001b[m\u001b[m/  \u001b[34m97\u001b[m\u001b[m/\r\n"
     ]
    }
   ],
   "source": [
    "ls Metabolomics/"
   ]
  },
  {
   "cell_type": "code",
   "execution_count": 45,
   "metadata": {
    "collapsed": true
   },
   "outputs": [],
   "source": [
    "#random-forests-results\n",
    "#Metabolomics\n",
    "#MP_Common/MP_Common\n",
    "#Metagenome\n",
    "#16S\n",
    "#Serum_Proteins\n",
    "\n",
    "for i in range(1, 100):\n",
    "    visualization = os.path.join('Serum_Proteins', str(i), 'accuracy_results.qzv')\n",
    "    data_path = os.path.join('Serum_Proteins', str(i), 'results')\n",
    "    \n",
    "    artifact = q2.Visualization.load(visualization)\n",
    "    artifact.export_data(data_path)"
   ]
  },
  {
   "cell_type": "markdown",
   "metadata": {},
   "source": [
    "Compile the results together from `predictive_accuracy.tsv`. Probably better to put them all in a single dataframe."
   ]
  },
  {
   "cell_type": "code",
   "execution_count": 46,
   "metadata": {
    "collapsed": true
   },
   "outputs": [],
   "source": [
    "collation = []\n",
    "\n",
    "for i in range(1, 100):\n",
    "    results_path = os.path.join('Serum_Proteins', str(i), 'results', 'predictive_accuracy.tsv')\n",
    "    \n",
    "    collation.append(pd.read_table(results_path))\n",
    "    \n",
    "collation = pd.concat(collation)"
   ]
  },
  {
   "cell_type": "code",
   "execution_count": 47,
   "metadata": {},
   "outputs": [
    {
     "data": {
      "image/png": "[encoded data removed]",
      "text/plain": [
       "<Figure size 432x288 with 1 Axes>"
      ]
     },
     "metadata": {
      "needs_background": "light"
     },
     "output_type": "display_data"
    }
   ],
   "source": [
    "fig = sns.violinplot(data=collation, x='Mean squared error').get_figure()\n",
    "fig.savefig(\"SerumProteins_rndmforests_meansqurderror.pdf\")"
   ]
  },
  {
   "cell_type": "code",
   "execution_count": 48,
   "metadata": {},
   "outputs": [
    {
     "data": {
      "text/plain": [
       "count    99.000000\n",
       "mean      7.106859\n",
       "std       3.054861\n",
       "min       0.816064\n",
       "25%       4.958853\n",
       "50%       7.049061\n",
       "75%       9.128139\n",
       "max      15.746500\n",
       "Name: Mean squared error, dtype: float64"
      ]
     },
     "execution_count": 48,
     "metadata": {},
     "output_type": "execute_result"
    }
   ],
   "source": [
    "collation['Mean squared error'].describe()"
   ]
  },
  {
   "cell_type": "markdown",
   "metadata": {},
   "source": [
    "# Looking at the feature importances over the 100 runs"
   ]
  },
  {
   "cell_type": "code",
   "execution_count": 11,
   "metadata": {
    "collapsed": true
   },
   "outputs": [],
   "source": [
    "x = q2.Artifact.load('random-forests-results/1/feature_importance.qza').view(pd.DataFrame)"
   ]
  },
  {
   "cell_type": "code",
   "execution_count": 12,
   "metadata": {},
   "outputs": [
    {
     "data": {
      "text/plain": [
       "1.0"
      ]
     },
     "execution_count": 12,
     "metadata": {},
     "output_type": "execute_result"
    }
   ],
   "source": [
    "x.importance.astype(np.float64).sum()"
   ]
  },
  {
   "cell_type": "code",
   "execution_count": 49,
   "metadata": {
    "collapsed": true
   },
   "outputs": [],
   "source": [
    "importances = []\n",
    "\n",
    "for i in range(1, 101):\n",
    "    results_path = os.path.join('Serum_Proteins', str(i), 'feature_importance.qza')\n",
    "    \n",
    "    importances.append(q2.Artifact.load(results_path).view(pd.DataFrame).astype(np.float64))\n",
    "    \n",
    "importances = pd.concat(importances, axis=1)"
   ]
  },
  {
   "cell_type": "code",
   "execution_count": 50,
   "metadata": {
    "collapsed": true
   },
   "outputs": [],
   "source": [
    "original = importances.copy()"
   ]
  },
  {
   "cell_type": "code",
   "execution_count": 51,
   "metadata": {
    "collapsed": true
   },
   "outputs": [],
   "source": [
    "importances.fillna(value=0, inplace=True)"
   ]
  },
  {
   "cell_type": "code",
   "execution_count": 52,
   "metadata": {
    "collapsed": true
   },
   "outputs": [],
   "source": [
    "sums = importances.sum(axis=1).sort_values(ascending=False)"
   ]
  },
  {
   "cell_type": "code",
   "execution_count": 53,
   "metadata": {
    "collapsed": true
   },
   "outputs": [],
   "source": [
    "sums.to_csv('./SerumProteins_rndmforests_featureimportance.csv')"
   ]
  }
 ],
 "metadata": {
  "kernelspec": {
   "display_name": "Python 3",
   "language": "python",
   "name": "python3"
  },
  "language_info": {
   "codemirror_mode": {
    "name": "ipython",
    "version": 3
   },
   "file_extension": ".py",
   "mimetype": "text/x-python",
   "name": "python",
   "nbconvert_exporter": "python",
   "pygments_lexer": "ipython3",
   "version": "3.5.5"
  }
 },
 "nbformat": 4,
 "nbformat_minor": 2
}
