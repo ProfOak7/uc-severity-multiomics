{
 "cells": [
  {
   "cell_type": "markdown",
   "metadata": {
    "collapsed": true
   },
   "source": [
    "<b> This notebook aggregates the results from 100 iterations of random forest. </b>\n",
    "    \n",
    "Notebook by YB & RM\n",
    "\n",
    "Environment (Qiime2 2018.11)"
   ]
  },
  {
   "cell_type": "code",
   "execution_count": 1,
   "metadata": {},
   "outputs": [],
   "source": [
    "%matplotlib inline\n",
    "\n",
    "import numpy as np, pandas as pd, qiime2 as q2, seaborn as sns\n",
    "import os\n",
    "from skbio import DistanceMatrix\n",
    "from scipy.spatial import procrustes\n",
    "from skbio.stats.ordination import pcoa\n",
    "\n"
   ]
  },
  {
   "cell_type": "markdown",
   "metadata": {},
   "source": [
    "Download the results from the N jobs that you run on barnacle."
   ]
  },
  {
   "cell_type": "code",
   "execution_count": 2,
   "metadata": {},
   "outputs": [],
   "source": [
    "#random-forests-results\n",
    "#Metabolomics\n",
    "#MP_Common/MP_Common\n",
    "#Metagenome\n",
    "#MG_gOTU\n",
    "#16S\n",
    "#Serum_Proteins\n",
    "#MB_Norm\n",
    "\n",
    "for i in range(1, 100):\n",
    "    visualization = os.path.join('MG_gOTU', str(i), 'accuracy_results.qzv')\n",
    "    data_path = os.path.join('MG_gOTU', str(i), 'results')\n",
    "    \n",
    "    artifact = q2.Visualization.load(visualization)\n",
    "    artifact.export_data(data_path)\n",
    "    \n",
    "    features = os.path.join('MG_gOTU', str(i), 'feature_importance.qza')\n",
    "    feat_path = os.path.join('MG_gOTU', str(i), 'features')\n",
    "    \n",
    "    artifact_feat = q2.Artifact.load(features)\n",
    "    artifact_feat.export_data(feat_path)"
   ]
  },
  {
   "cell_type": "markdown",
   "metadata": {},
   "source": [
    "Compile the results together from `predictive_accuracy.tsv`. Probably better to put them all in a single dataframe."
   ]
  },
  {
   "cell_type": "code",
   "execution_count": 3,
   "metadata": {},
   "outputs": [
    {
     "name": "stderr",
     "output_type": "stream",
     "text": [
      "/Users/rhmills/miniconda3/envs/qiime2-2019.7/lib/python3.6/site-packages/ipykernel_launcher.py:6: FutureWarning: read_table is deprecated, use read_csv instead, passing sep='\\t'.\n",
      "  \n"
     ]
    }
   ],
   "source": [
    "collation = []\n",
    "\n",
    "for i in range(1, 100):\n",
    "    results_path = os.path.join('MG_gOTU', str(i), 'results', 'predictive_accuracy.tsv')\n",
    "    \n",
    "    collation.append(pd.read_table(results_path))\n",
    "    \n",
    "collation = pd.concat(collation)"
   ]
  },
  {
   "cell_type": "code",
   "execution_count": 4,
   "metadata": {
    "scrolled": true
   },
   "outputs": [],
   "source": [
    "collation.rename(columns = {'Mean squared error' : 'Mean squared error_MGgOTU'}, inplace=True)"
   ]
  },
  {
   "cell_type": "code",
   "execution_count": 5,
   "metadata": {},
   "outputs": [],
   "source": [
    "collation['Data_type'] = 'MGgOTU'"
   ]
  },
  {
   "cell_type": "code",
   "execution_count": 6,
   "metadata": {},
   "outputs": [],
   "source": [
    "collation['Mean squared error_MGgOTU_scaled'] = ((collation['Mean squared error_MGgOTU']**(0.5))*9)**2"
   ]
  },
  {
   "cell_type": "code",
   "execution_count": 7,
   "metadata": {},
   "outputs": [],
   "source": [
    "collation_melt = collation.melt(id_vars = 'Data_type', value_vars = 'Mean squared error_MGgOTU_scaled')"
   ]
  },
  {
   "cell_type": "code",
   "execution_count": 8,
   "metadata": {},
   "outputs": [],
   "source": [
    "#random-forests-results\n",
    "#Metabolomics\n",
    "#MP_Common/MP_Common\n",
    "#Metagenome\n",
    "#16S\n",
    "#Serum_Proteins\n",
    "\n",
    "for i in range(1, 100):\n",
    "    visualization = os.path.join('Metagenome', str(i), 'accuracy_results.qzv')\n",
    "    data_path = os.path.join('Metagenome', str(i), 'results')\n",
    "    \n",
    "    artifact = q2.Visualization.load(visualization)\n",
    "    artifact.export_data(data_path)\n",
    "    \n",
    "    features = os.path.join('Metagenome', str(i), 'feature_importance.qza')\n",
    "    feat_path = os.path.join('Metagenome', str(i), 'features')\n",
    "    \n",
    "    artifact_feat = q2.Artifact.load(features)\n",
    "    artifact_feat.export_data(feat_path)"
   ]
  },
  {
   "cell_type": "code",
   "execution_count": 9,
   "metadata": {},
   "outputs": [
    {
     "name": "stderr",
     "output_type": "stream",
     "text": [
      "/Users/rhmills/miniconda3/envs/qiime2-2019.7/lib/python3.6/site-packages/ipykernel_launcher.py:6: FutureWarning: read_table is deprecated, use read_csv instead, passing sep='\\t'.\n",
      "  \n"
     ]
    }
   ],
   "source": [
    "collation2 = []\n",
    "\n",
    "for i in range(1, 100):\n",
    "    results_path = os.path.join('Metagenome', str(i), 'results', 'predictive_accuracy.tsv')\n",
    "    \n",
    "    collation2.append(pd.read_table(results_path))\n",
    "    \n",
    "collation2 = pd.concat(collation2)"
   ]
  },
  {
   "cell_type": "code",
   "execution_count": 10,
   "metadata": {},
   "outputs": [],
   "source": [
    "collation2.rename(columns = {'Mean squared error' : 'Mean squared error_MG'}, inplace=True)"
   ]
  },
  {
   "cell_type": "code",
   "execution_count": 11,
   "metadata": {},
   "outputs": [],
   "source": [
    "collation2['Data_type'] = 'MG'"
   ]
  },
  {
   "cell_type": "code",
   "execution_count": 12,
   "metadata": {},
   "outputs": [],
   "source": [
    "collation2_melt = collation2.melt(id_vars = 'Data_type', value_vars = 'Mean squared error_MG')"
   ]
  },
  {
   "cell_type": "code",
   "execution_count": 3,
   "metadata": {},
   "outputs": [],
   "source": [
    "#random-forests-results\n",
    "#Metabolomics\n",
    "#MP_Common/MP_Common\n",
    "#Metagenome\n",
    "#16S\n",
    "#Serum_Proteins\n",
    "\n",
    "for i in range(1, 100):\n",
    "    visualization = os.path.join('16S', str(i), 'accuracy_results.qzv')\n",
    "    data_path = os.path.join('16S', str(i), 'results')\n",
    "    \n",
    "    artifact = q2.Visualization.load(visualization)\n",
    "    artifact.export_data(data_path)\n",
    "    \n",
    "    features = os.path.join('16S', str(i), 'feature_importance.qza')\n",
    "    feat_path = os.path.join('16S', str(i), 'features')\n",
    "    \n",
    "    artifact_feat = q2.Artifact.load(features)\n",
    "    artifact_feat.export_data(feat_path)"
   ]
  },
  {
   "cell_type": "code",
   "execution_count": 4,
   "metadata": {},
   "outputs": [],
   "source": [
    "collation3 = []\n",
    "\n",
    "for i in range(1, 100):\n",
    "    results_path = os.path.join('16S', str(i), 'results', 'predictive_accuracy.tsv')\n",
    "    \n",
    "    collation3.append(pd.read_table(results_path))\n",
    "    \n",
    "collation3 = pd.concat(collation3)"
   ]
  },
  {
   "cell_type": "code",
   "execution_count": 5,
   "metadata": {},
   "outputs": [],
   "source": [
    "collation3['Data_type'] = '16S'"
   ]
  },
  {
   "cell_type": "code",
   "execution_count": 6,
   "metadata": {},
   "outputs": [],
   "source": [
    "collation3.rename(columns = {'Mean squared error' : 'Mean squared error_16S'}, inplace=True)\n"
   ]
  },
  {
   "cell_type": "code",
   "execution_count": 17,
   "metadata": {},
   "outputs": [],
   "source": [
    "collation3_melt = collation3.melt(id_vars = 'Data_type', value_vars = 'Mean squared error_16S')"
   ]
  },
  {
   "cell_type": "code",
   "execution_count": 18,
   "metadata": {},
   "outputs": [],
   "source": [
    "#random-forests-results\n",
    "#Metabolomics\n",
    "#MP_Common/MP_Common\n",
    "#Metagenome\n",
    "#16S\n",
    "#Serum_Proteins\n",
    "\n",
    "for i in range(1, 100):\n",
    "    visualization = os.path.join('MP_Common/MP_Common', str(i), 'accuracy_results.qzv')\n",
    "    data_path = os.path.join('MP_Common/MP_Common', str(i), 'results')\n",
    "    \n",
    "    artifact = q2.Visualization.load(visualization)\n",
    "    artifact.export_data(data_path)\n",
    "    \n",
    "    features = os.path.join('MP_Common/MP_Common', str(i), 'feature_importance.qza')\n",
    "    feat_path = os.path.join('MP_Common/MP_Common', str(i), 'features')\n",
    "    \n",
    "    artifact_feat = q2.Artifact.load(features)\n",
    "    artifact_feat.export_data(feat_path)"
   ]
  },
  {
   "cell_type": "code",
   "execution_count": 19,
   "metadata": {},
   "outputs": [
    {
     "name": "stderr",
     "output_type": "stream",
     "text": [
      "/Users/rhmills/miniconda3/envs/qiime2-2019.7/lib/python3.6/site-packages/ipykernel_launcher.py:6: FutureWarning: read_table is deprecated, use read_csv instead, passing sep='\\t'.\n",
      "  \n"
     ]
    }
   ],
   "source": [
    "collation4 = []\n",
    "\n",
    "for i in range(1, 100):\n",
    "    results_path = os.path.join('MP_Common/MP_Common', str(i), 'results', 'predictive_accuracy.tsv')\n",
    "    \n",
    "    collation4.append(pd.read_table(results_path))\n",
    "    \n",
    "collation4 = pd.concat(collation4)"
   ]
  },
  {
   "cell_type": "code",
   "execution_count": 20,
   "metadata": {},
   "outputs": [],
   "source": [
    "collation4['Data_type'] = 'Metaproteome'"
   ]
  },
  {
   "cell_type": "code",
   "execution_count": 21,
   "metadata": {},
   "outputs": [],
   "source": [
    "collation4.rename(columns = {'Mean squared error' : 'Mean squared error_Metaproteome'}, inplace=True)"
   ]
  },
  {
   "cell_type": "code",
   "execution_count": 22,
   "metadata": {
    "scrolled": true
   },
   "outputs": [],
   "source": [
    "collation4_melt = collation4.melt(id_vars = 'Data_type', value_vars = 'Mean squared error_Metaproteome')"
   ]
  },
  {
   "cell_type": "code",
   "execution_count": 23,
   "metadata": {},
   "outputs": [],
   "source": [
    "#random-forests-results\n",
    "#Metabolomics\n",
    "#MP_Common/MP_Common\n",
    "#Metagenome\n",
    "#16S\n",
    "#Serum_Proteins\n",
    "\n",
    "for i in range(1, 100):\n",
    "    visualization = os.path.join('MB_Norm', str(i), 'accuracy_results.qzv')\n",
    "    data_path = os.path.join('MB_Norm', str(i), 'results')\n",
    "    \n",
    "    artifact = q2.Visualization.load(visualization)\n",
    "    artifact.export_data(data_path)\n",
    "    \n",
    "    features = os.path.join('MB_Norm', str(i), 'feature_importance.qza')\n",
    "    feat_path = os.path.join('MB_Norm', str(i), 'features')\n",
    "    \n",
    "    artifact_feat = q2.Artifact.load(features)\n",
    "    artifact_feat.export_data(feat_path)    "
   ]
  },
  {
   "cell_type": "code",
   "execution_count": 24,
   "metadata": {},
   "outputs": [
    {
     "name": "stderr",
     "output_type": "stream",
     "text": [
      "/Users/rhmills/miniconda3/envs/qiime2-2019.7/lib/python3.6/site-packages/ipykernel_launcher.py:6: FutureWarning: read_table is deprecated, use read_csv instead, passing sep='\\t'.\n",
      "  \n"
     ]
    }
   ],
   "source": [
    "collation5 = []\n",
    "\n",
    "for i in range(1, 100):\n",
    "    results_path = os.path.join('MB_Norm', str(i), 'results', 'predictive_accuracy.tsv')\n",
    "    \n",
    "    collation5.append(pd.read_table(results_path))\n",
    "    \n",
    "collation5 = pd.concat(collation5)"
   ]
  },
  {
   "cell_type": "code",
   "execution_count": 25,
   "metadata": {
    "scrolled": true
   },
   "outputs": [],
   "source": [
    "collation5['Data_type'] = 'Metabolome'"
   ]
  },
  {
   "cell_type": "code",
   "execution_count": 26,
   "metadata": {},
   "outputs": [],
   "source": [
    "collation5.rename(columns = {'Mean squared error' : 'Mean squared error_Metabolome'}, inplace=True)"
   ]
  },
  {
   "cell_type": "code",
   "execution_count": 27,
   "metadata": {},
   "outputs": [],
   "source": [
    "collation5_melt = collation5.melt(id_vars = 'Data_type', value_vars = 'Mean squared error_Metabolome')"
   ]
  },
  {
   "cell_type": "code",
   "execution_count": 28,
   "metadata": {},
   "outputs": [],
   "source": [
    "#random-forests-results - this is the folder name for the combined results\n",
    "#random-forests-results\n",
    "#Metabolomics\n",
    "#MP_Common/MP_Common\n",
    "#Metagenome\n",
    "#16S\n",
    "#Serum_Proteins\n",
    "\n",
    "for i in range(1, 100):\n",
    "    visualization = os.path.join('allfeatgotu_Norm', str(i), 'accuracy_results.qzv')\n",
    "    data_path = os.path.join('allfeatgotu_Norm', str(i), 'results')\n",
    "    \n",
    "    artifact = q2.Visualization.load(visualization)\n",
    "    artifact.export_data(data_path)\n",
    "    \n",
    "    features = os.path.join('allfeatgotu_Norm', str(i), 'feature_importance.qza')\n",
    "    feat_path = os.path.join('allfeatgotu_Norm', str(i), 'features')\n",
    "    \n",
    "    artifact_feat = q2.Artifact.load(features)\n",
    "    artifact_feat.export_data(feat_path)"
   ]
  },
  {
   "cell_type": "code",
   "execution_count": 29,
   "metadata": {},
   "outputs": [
    {
     "name": "stderr",
     "output_type": "stream",
     "text": [
      "/Users/rhmills/miniconda3/envs/qiime2-2019.7/lib/python3.6/site-packages/ipykernel_launcher.py:6: FutureWarning: read_table is deprecated, use read_csv instead, passing sep='\\t'.\n",
      "  \n"
     ]
    }
   ],
   "source": [
    "collation6 = []\n",
    "\n",
    "for i in range(1, 100):\n",
    "    results_path = os.path.join('allfeatgotu_Norm', str(i), 'results', 'predictive_accuracy.tsv')\n",
    "    \n",
    "    collation6.append(pd.read_table(results_path))\n",
    "    \n",
    "collation6 = pd.concat(collation6)"
   ]
  },
  {
   "cell_type": "code",
   "execution_count": 30,
   "metadata": {},
   "outputs": [],
   "source": [
    "collation6['Data_type'] = 'Combined Data'"
   ]
  },
  {
   "cell_type": "code",
   "execution_count": 31,
   "metadata": {},
   "outputs": [],
   "source": [
    "collation6.rename(columns = {'Mean squared error' : 'Mean squared error_Combined'}, inplace=True)"
   ]
  },
  {
   "cell_type": "code",
   "execution_count": 32,
   "metadata": {},
   "outputs": [],
   "source": [
    "collation6_melt = collation6.melt(id_vars = 'Data_type', value_vars = 'Mean squared error_Combined')"
   ]
  },
  {
   "cell_type": "code",
   "execution_count": 33,
   "metadata": {},
   "outputs": [],
   "source": [
    "#random-forests-results - this is the folder name for the combined results\n",
    "#random-forests-results\n",
    "#Metabolomics\n",
    "#MP_Common/MP_Common\n",
    "#Metagenome\n",
    "#16S\n",
    "#Serum_Proteins\n",
    "\n",
    "for i in range(1, 100):\n",
    "    visualization = os.path.join('Serum_Proteins', str(i), 'accuracy_results.qzv')\n",
    "    data_path = os.path.join('Serum_Proteins', str(i), 'results')\n",
    "    \n",
    "    artifact = q2.Visualization.load(visualization)\n",
    "    artifact.export_data(data_path)\n",
    "    \n",
    "    features = os.path.join('Serum_Proteins', str(i), 'feature_importance.qza')\n",
    "    feat_path = os.path.join('Serum_Proteins', str(i), 'features')\n",
    "    \n",
    "    artifact_feat = q2.Artifact.load(features)\n",
    "    artifact_feat.export_data(feat_path)"
   ]
  },
  {
   "cell_type": "code",
   "execution_count": 34,
   "metadata": {},
   "outputs": [
    {
     "name": "stderr",
     "output_type": "stream",
     "text": [
      "/Users/rhmills/miniconda3/envs/qiime2-2019.7/lib/python3.6/site-packages/ipykernel_launcher.py:6: FutureWarning: read_table is deprecated, use read_csv instead, passing sep='\\t'.\n",
      "  \n"
     ]
    }
   ],
   "source": [
    "collation7 = []\n",
    "\n",
    "for i in range(1, 100):\n",
    "    results_path = os.path.join('Serum_Proteins', str(i), 'results', 'predictive_accuracy.tsv')\n",
    "    \n",
    "    collation7.append(pd.read_table(results_path))\n",
    "    \n",
    "collation7 = pd.concat(collation7)"
   ]
  },
  {
   "cell_type": "code",
   "execution_count": 35,
   "metadata": {},
   "outputs": [],
   "source": [
    "collation7['Data_type'] = 'Serum_Proteins'"
   ]
  },
  {
   "cell_type": "code",
   "execution_count": 36,
   "metadata": {},
   "outputs": [],
   "source": [
    "collation7.rename(columns = {'Mean squared error' : 'Mean squared error_Serum'}, inplace=True)"
   ]
  },
  {
   "cell_type": "code",
   "execution_count": 37,
   "metadata": {},
   "outputs": [],
   "source": [
    "collation7_melt = collation7.melt(id_vars = 'Data_type', value_vars = 'Mean squared error_Serum')"
   ]
  },
  {
   "cell_type": "code",
   "execution_count": 38,
   "metadata": {},
   "outputs": [],
   "source": [
    "merge_melt = pd.concat([collation_melt,collation2_melt,collation3_melt,collation4_melt,collation5_melt,collation6_melt,collation7_melt])"
   ]
  },
  {
   "cell_type": "code",
   "execution_count": 39,
   "metadata": {},
   "outputs": [],
   "source": [
    "order = ['Metabolome', 'Combined Data', 'Metaproteome', 'MG','MGgOTU', '16S', 'Serum_Proteins']"
   ]
  },
  {
   "cell_type": "code",
   "execution_count": 40,
   "metadata": {},
   "outputs": [
    {
     "data": {
      "image/png": "[encoded data removed]",
      "text/plain": [
       "<Figure size 432x576 with 1 Axes>"
      ]
     },
     "metadata": {},
     "output_type": "display_data"
    }
   ],
   "source": [
    "#Plot the RF mean squared error values in each data type\n",
    "\n",
    "import matplotlib.pyplot as plt\n",
    "\n",
    "#Set style to have grids\n",
    "sns.set_style(\"whitegrid\")\n",
    "\n",
    "fig, ax = plt.subplots(figsize = (6,8))\n",
    "#sns.violinplot(x = 'value', y = 'Description', inner = None, data = merge_melt,cut=0, palette = sns.hls_palette(20, l=.4, s=.8))\n",
    "sns.swarmplot(x = 'value', y = 'Data_type', order = order, alpha = 1, data = merge_melt, color = 'black', size=5)\n",
    "sns.boxplot(x = 'value', y = 'Data_type', order = order, data = merge_melt, palette = 'Reds')\n",
    "#fig.autofmt_xdate(rotation = 90, ha = 'center')\n",
    "plt.savefig('./DataType_RF_MeanSqurdError_boxplots_UC40_3.pdf', bbox_inches = 'tight')"
   ]
  },
  {
   "cell_type": "markdown",
   "metadata": {
    "collapsed": true
   },
   "source": [
    "### Updates with second cohort"
   ]
  },
  {
   "cell_type": "code",
   "execution_count": 41,
   "metadata": {},
   "outputs": [],
   "source": [
    "#random-forests-results\n",
    "#IBD200/16S\n",
    "#IBD200/Combined2\n",
    "#IBD200/MBNorm\n",
    "#IBD200/MGgOTU\n",
    "#IBD200/MG\n",
    "#IBD200/MP\n",
    "\n",
    "for i in range(1, 100):\n",
    "    if os.path.exists('IBD200/16S/%s' % str(i)):\n",
    "        visualization = os.path.join('IBD200/16S', str(i), 'accuracy_results.qzv')\n",
    "        data_path = os.path.join('IBD200/16S', str(i), 'results')\n",
    "\n",
    "        artifact = q2.Visualization.load(visualization)\n",
    "        artifact.export_data(data_path)\n",
    "        \n",
    "        features = os.path.join('IBD200/16S', str(i), 'feature_importance.qza')\n",
    "        feat_path = os.path.join('IBD200/16S', str(i), 'features')\n",
    "    \n",
    "        artifact_feat = q2.Artifact.load(features)\n",
    "        artifact_feat.export_data(feat_path)"
   ]
  },
  {
   "cell_type": "code",
   "execution_count": 42,
   "metadata": {},
   "outputs": [
    {
     "name": "stderr",
     "output_type": "stream",
     "text": [
      "/Users/rhmills/miniconda3/envs/qiime2-2019.7/lib/python3.6/site-packages/ipykernel_launcher.py:7: FutureWarning: read_table is deprecated, use read_csv instead, passing sep='\\t'.\n",
      "  import sys\n"
     ]
    }
   ],
   "source": [
    "collation = []\n",
    "\n",
    "for i in range(1, 100):\n",
    "    if os.path.exists('IBD200/16S/%s' % str(i)):\n",
    "        results_path = os.path.join('IBD200/16S/%s' % str(i), 'results', 'predictive_accuracy.tsv')\n",
    "\n",
    "        collation.append(pd.read_table(results_path))\n",
    "    \n",
    "collation = pd.concat(collation)"
   ]
  },
  {
   "cell_type": "code",
   "execution_count": 43,
   "metadata": {},
   "outputs": [],
   "source": [
    "collation.rename(columns = {'Mean squared error' : 'Mean squared error_16S'}, inplace=True)"
   ]
  },
  {
   "cell_type": "code",
   "execution_count": 44,
   "metadata": {},
   "outputs": [],
   "source": [
    "collation['Data_type'] = '16S'"
   ]
  },
  {
   "cell_type": "code",
   "execution_count": 45,
   "metadata": {},
   "outputs": [],
   "source": [
    "collation_melt = collation.melt(id_vars = 'Data_type', value_vars = 'Mean squared error_16S')"
   ]
  },
  {
   "cell_type": "code",
   "execution_count": 46,
   "metadata": {},
   "outputs": [],
   "source": [
    "#random-forests-results\n",
    "#IBD200/16S\n",
    "#IBD200/Combined\n",
    "#IBD200/MB\n",
    "#IBD200/MGgOTU\n",
    "#IBD200/MP\n",
    "\n",
    "for i in range(1, 100):\n",
    "    if os.path.exists('IBD200/Combined2/%s' % str(i)):\n",
    "        visualization = os.path.join('IBD200/Combined2', str(i), 'accuracy_results.qzv')\n",
    "        data_path = os.path.join('IBD200/Combined2', str(i), 'results')\n",
    "\n",
    "        artifact = q2.Visualization.load(visualization)\n",
    "        artifact.export_data(data_path)\n",
    "        \n",
    "        features = os.path.join('IBD200/Combined2', str(i), 'feature_importance.qza')\n",
    "        feat_path = os.path.join('IBD200/Combined2', str(i), 'features')\n",
    "    \n",
    "        artifact_feat = q2.Artifact.load(features)\n",
    "        artifact_feat.export_data(feat_path)"
   ]
  },
  {
   "cell_type": "code",
   "execution_count": 47,
   "metadata": {},
   "outputs": [
    {
     "name": "stderr",
     "output_type": "stream",
     "text": [
      "/Users/rhmills/miniconda3/envs/qiime2-2019.7/lib/python3.6/site-packages/ipykernel_launcher.py:7: FutureWarning: read_table is deprecated, use read_csv instead, passing sep='\\t'.\n",
      "  import sys\n"
     ]
    }
   ],
   "source": [
    "collation = []\n",
    "\n",
    "for i in range(1, 100):\n",
    "    if os.path.exists('IBD200/Combined2/%s' % str(i)):\n",
    "        results_path = os.path.join('IBD200/Combined2/%s' % str(i), 'results', 'predictive_accuracy.tsv')\n",
    "\n",
    "        collation.append(pd.read_table(results_path))\n",
    "    \n",
    "collation = pd.concat(collation)"
   ]
  },
  {
   "cell_type": "code",
   "execution_count": 48,
   "metadata": {},
   "outputs": [],
   "source": [
    "collation.rename(columns = {'Mean squared error' : 'Mean squared error_Combined'}, inplace=True)"
   ]
  },
  {
   "cell_type": "code",
   "execution_count": 49,
   "metadata": {},
   "outputs": [],
   "source": [
    "collation['Data_type'] = 'Combined Data'"
   ]
  },
  {
   "cell_type": "code",
   "execution_count": 50,
   "metadata": {},
   "outputs": [],
   "source": [
    "collation_melt2 = collation.melt(id_vars = 'Data_type', value_vars = 'Mean squared error_Combined')"
   ]
  },
  {
   "cell_type": "code",
   "execution_count": 51,
   "metadata": {},
   "outputs": [],
   "source": [
    "#random-forests-results\n",
    "#IBD200/16S\n",
    "#IBD200/Combined\n",
    "#IBD200/MB\n",
    "#IBD200/MGgOTU\n",
    "#IBD200/MP\n",
    "\n",
    "for i in range(1, 100):\n",
    "    if os.path.exists('IBD200/MBNorm/%s' % str(i)):\n",
    "        visualization = os.path.join('IBD200/MBNorm', str(i), 'accuracy_results.qzv')\n",
    "        data_path = os.path.join('IBD200/MBNorm', str(i), 'results')\n",
    "\n",
    "        artifact = q2.Visualization.load(visualization)\n",
    "        artifact.export_data(data_path)\n",
    "        \n",
    "        features = os.path.join('IBD200/MBNorm', str(i), 'feature_importance.qza')\n",
    "        feat_path = os.path.join('IBD200/MBNorm', str(i), 'features')\n",
    "    \n",
    "        artifact_feat = q2.Artifact.load(features)\n",
    "        artifact_feat.export_data(feat_path)"
   ]
  },
  {
   "cell_type": "code",
   "execution_count": 52,
   "metadata": {},
   "outputs": [
    {
     "name": "stderr",
     "output_type": "stream",
     "text": [
      "/Users/rhmills/miniconda3/envs/qiime2-2019.7/lib/python3.6/site-packages/ipykernel_launcher.py:7: FutureWarning: read_table is deprecated, use read_csv instead, passing sep='\\t'.\n",
      "  import sys\n"
     ]
    }
   ],
   "source": [
    "collation = []\n",
    "\n",
    "for i in range(1, 100):\n",
    "    if os.path.exists('IBD200/MBNorm/%s' % str(i)):\n",
    "        results_path = os.path.join('IBD200/MBNorm/%s' % str(i), 'results', 'predictive_accuracy.tsv')\n",
    "\n",
    "        collation.append(pd.read_table(results_path))\n",
    "    \n",
    "collation = pd.concat(collation)"
   ]
  },
  {
   "cell_type": "code",
   "execution_count": 53,
   "metadata": {},
   "outputs": [],
   "source": [
    "collation.rename(columns = {'Mean squared error' : 'Mean squared error_MB'}, inplace=True)"
   ]
  },
  {
   "cell_type": "code",
   "execution_count": 54,
   "metadata": {},
   "outputs": [],
   "source": [
    "collation['Data_type'] = 'Metabolome'"
   ]
  },
  {
   "cell_type": "code",
   "execution_count": 55,
   "metadata": {},
   "outputs": [],
   "source": [
    "collation_melt3 = collation.melt(id_vars = 'Data_type', value_vars = 'Mean squared error_MB')"
   ]
  },
  {
   "cell_type": "code",
   "execution_count": 56,
   "metadata": {},
   "outputs": [],
   "source": [
    "#random-forests-results\n",
    "#IBD200/16S\n",
    "#IBD200/Combined\n",
    "#IBD200/MB\n",
    "#IBD200/MGgOTU\n",
    "#IBD200/MP\n",
    "\n",
    "for i in range(1, 100):\n",
    "    if os.path.exists('IBD200/MGgOTU/%s' % str(i)):\n",
    "        visualization = os.path.join('IBD200/MGgOTU', str(i), 'accuracy_results.qzv')\n",
    "        data_path = os.path.join('IBD200/MGgOTU', str(i), 'results')\n",
    "\n",
    "        artifact = q2.Visualization.load(visualization)\n",
    "        artifact.export_data(data_path)\n",
    "        features = os.path.join('IBD200/MGgOTU', str(i), 'feature_importance.qza')\n",
    "        feat_path = os.path.join('IBD200/MGgOTU', str(i), 'features')\n",
    "    \n",
    "        artifact_feat = q2.Artifact.load(features)\n",
    "        artifact_feat.export_data(feat_path)"
   ]
  },
  {
   "cell_type": "code",
   "execution_count": 57,
   "metadata": {},
   "outputs": [
    {
     "name": "stderr",
     "output_type": "stream",
     "text": [
      "/Users/rhmills/miniconda3/envs/qiime2-2019.7/lib/python3.6/site-packages/ipykernel_launcher.py:6: FutureWarning: read_table is deprecated, use read_csv instead, passing sep='\\t'.\n",
      "  \n"
     ]
    }
   ],
   "source": [
    "collation = []\n",
    "\n",
    "for i in range(1, 100):\n",
    "    if os.path.exists('IBD200/MGgOTU/%s' % str(i)):\n",
    "        results_path = os.path.join('IBD200/MGgOTU/%s' % str(i), 'results', 'predictive_accuracy.tsv')\n",
    "        collation.append(pd.read_table(results_path))\n",
    "collation = pd.concat(collation)"
   ]
  },
  {
   "cell_type": "code",
   "execution_count": 58,
   "metadata": {},
   "outputs": [],
   "source": [
    "collation.rename(columns = {'Mean squared error' : 'Mean squared error_MGgOTU'}, inplace=True)"
   ]
  },
  {
   "cell_type": "code",
   "execution_count": 59,
   "metadata": {},
   "outputs": [],
   "source": [
    "collation['Data_type'] = 'Metagenome'"
   ]
  },
  {
   "cell_type": "code",
   "execution_count": 60,
   "metadata": {},
   "outputs": [],
   "source": [
    "collation_melt4 = collation.melt(id_vars = 'Data_type', value_vars = 'Mean squared error_MGgOTU')"
   ]
  },
  {
   "cell_type": "code",
   "execution_count": 61,
   "metadata": {},
   "outputs": [],
   "source": [
    "#random-forests-results\n",
    "#IBD200/16S\n",
    "#IBD200/Combined\n",
    "#IBD200/MB\n",
    "#IBD200/MGgOTU\n",
    "#IBD200/MP\n",
    "\n",
    "for i in range(1, 100):\n",
    "    if os.path.exists('IBD200/MP/%s' % str(i)):\n",
    "        visualization = os.path.join('IBD200/MP', str(i), 'accuracy_results.qzv')\n",
    "        data_path = os.path.join('IBD200/MP', str(i), 'results')\n",
    "\n",
    "        artifact = q2.Visualization.load(visualization)\n",
    "        artifact.export_data(data_path)\n",
    "        features = os.path.join('IBD200/MP', str(i), 'feature_importance.qza')\n",
    "        feat_path = os.path.join('IBD200/MP', str(i), 'features')\n",
    "    \n",
    "        artifact_feat = q2.Artifact.load(features)\n",
    "        artifact_feat.export_data(feat_path)"
   ]
  },
  {
   "cell_type": "code",
   "execution_count": 62,
   "metadata": {},
   "outputs": [
    {
     "name": "stderr",
     "output_type": "stream",
     "text": [
      "/Users/rhmills/miniconda3/envs/qiime2-2019.7/lib/python3.6/site-packages/ipykernel_launcher.py:6: FutureWarning: read_table is deprecated, use read_csv instead, passing sep='\\t'.\n",
      "  \n"
     ]
    }
   ],
   "source": [
    "collation = []\n",
    "\n",
    "for i in range(1, 100):\n",
    "    if os.path.exists('IBD200/MP/%s' % str(i)):\n",
    "        results_path = os.path.join('IBD200/MP/%s' % str(i), 'results', 'predictive_accuracy.tsv')\n",
    "        collation.append(pd.read_table(results_path))\n",
    "collation = pd.concat(collation)"
   ]
  },
  {
   "cell_type": "code",
   "execution_count": 63,
   "metadata": {},
   "outputs": [],
   "source": [
    "collation.rename(columns = {'Mean squared error' : 'Mean squared error_MP'}, inplace=True)"
   ]
  },
  {
   "cell_type": "code",
   "execution_count": 64,
   "metadata": {},
   "outputs": [],
   "source": [
    "collation['Data_type'] = 'Metaproteome'"
   ]
  },
  {
   "cell_type": "code",
   "execution_count": 65,
   "metadata": {},
   "outputs": [],
   "source": [
    "collation_melt5 = collation.melt(id_vars = 'Data_type', value_vars = 'Mean squared error_MP')"
   ]
  },
  {
   "cell_type": "code",
   "execution_count": 66,
   "metadata": {},
   "outputs": [],
   "source": [
    "#random-forests-results\n",
    "#IBD200/16S\n",
    "#IBD200/Combined\n",
    "#IBD200/MB\n",
    "#IBD200/MGgOTU\n",
    "#IBD200/MP\n",
    "\n",
    "for i in range(1, 100):\n",
    "    if os.path.exists('IBD200/MG/%s' % str(i)):\n",
    "        visualization = os.path.join('IBD200/MG', str(i), 'accuracy_results.qzv')\n",
    "        data_path = os.path.join('IBD200/MG', str(i), 'results')\n",
    "\n",
    "        artifact = q2.Visualization.load(visualization)\n",
    "        artifact.export_data(data_path)\n",
    "        features = os.path.join('IBD200/MG', str(i), 'feature_importance.qza')\n",
    "        feat_path = os.path.join('IBD200/MG', str(i), 'features')\n",
    "    \n",
    "        artifact_feat = q2.Artifact.load(features)\n",
    "        artifact_feat.export_data(feat_path)"
   ]
  },
  {
   "cell_type": "code",
   "execution_count": 67,
   "metadata": {},
   "outputs": [
    {
     "name": "stderr",
     "output_type": "stream",
     "text": [
      "/Users/rhmills/miniconda3/envs/qiime2-2019.7/lib/python3.6/site-packages/ipykernel_launcher.py:6: FutureWarning: read_table is deprecated, use read_csv instead, passing sep='\\t'.\n",
      "  \n"
     ]
    }
   ],
   "source": [
    "collation = []\n",
    "\n",
    "for i in range(1, 100):\n",
    "    if os.path.exists('IBD200/MG/%s' % str(i)):\n",
    "        results_path = os.path.join('IBD200/MG/%s' % str(i), 'results', 'predictive_accuracy.tsv')\n",
    "        collation.append(pd.read_table(results_path))\n",
    "collation = pd.concat(collation)"
   ]
  },
  {
   "cell_type": "code",
   "execution_count": 68,
   "metadata": {},
   "outputs": [],
   "source": [
    "collation.rename(columns = {'Mean squared error' : 'Mean squared error_MG'}, inplace=True)\n",
    "collation['Data_type'] = 'Metagenome_ReadBased'\n",
    "\n",
    "#This version was done on a different scale (0-1 instead of 0-9 scale, so adjusting errors accordingly)\n",
    "collation['Mean squared error_MG_scaled'] = ((collation['Mean squared error_MG']**(0.5))*9)**2\n",
    "collation_melt6 = collation.melt(id_vars = 'Data_type', value_vars = 'Mean squared error_MG_scaled')"
   ]
  },
  {
   "cell_type": "code",
   "execution_count": 69,
   "metadata": {},
   "outputs": [],
   "source": [
    "merge_melt2 = pd.concat([collation_melt,collation_melt2,collation_melt3,collation_melt4,collation_melt5,collation_melt6])"
   ]
  },
  {
   "cell_type": "code",
   "execution_count": 70,
   "metadata": {},
   "outputs": [],
   "source": [
    "order = ['16S', 'Combined Data', 'Metabolome', 'Metagenome','Metagenome_ReadBased', 'Metaproteome']"
   ]
  },
  {
   "cell_type": "code",
   "execution_count": 71,
   "metadata": {},
   "outputs": [
    {
     "data": {
      "image/png": "[encoded data removed]",
      "text/plain": [
       "<Figure size 432x576 with 1 Axes>"
      ]
     },
     "metadata": {},
     "output_type": "display_data"
    }
   ],
   "source": [
    "#Plot the RF mean squared error values in each data type\n",
    "\n",
    "import matplotlib.pyplot as plt\n",
    "\n",
    "#Set style to have grids\n",
    "sns.set_style(\"whitegrid\")\n",
    "\n",
    "fig, ax = plt.subplots(figsize = (6,8))\n",
    "#sns.violinplot(x = 'value', y = 'Description', inner = None, data = merge_melt,cut=0, palette = sns.hls_palette(20, l=.4, s=.8))\n",
    "sns.swarmplot(x = 'value', y = 'Data_type', order = order, alpha = 1, data = merge_melt2, color = 'black', size=5)\n",
    "sns.boxplot(x = 'value', y = 'Data_type', order = order, data = merge_melt2, palette = 'Reds')\n",
    "#fig.autofmt_xdate(rotation = 90, ha = 'center')\n",
    "plt.savefig('./DataType_RF_MeanSqurdError_IBD200UCsub_boxplots3.pdf', bbox_inches = 'tight')"
   ]
  },
  {
   "cell_type": "code",
   "execution_count": 72,
   "metadata": {},
   "outputs": [],
   "source": [
    "#Rename columns to align between studies\n",
    "merge_melt['Data_type'].replace({'MGgOTU':'Metagenome','Serum_Proteins':'Serum Proteome'},inplace=True)"
   ]
  },
  {
   "cell_type": "code",
   "execution_count": 73,
   "metadata": {},
   "outputs": [],
   "source": [
    "merge_melt['Data_set'] = 'UC40'\n",
    "merge_melt2['Data_set'] = 'IBD200'"
   ]
  },
  {
   "cell_type": "code",
   "execution_count": 74,
   "metadata": {
    "collapsed": true
   },
   "outputs": [
    {
     "data": {
      "text/html": [
       "<div>\n",
       "<style scoped>\n",
       "    .dataframe tbody tr th:only-of-type {\n",
       "        vertical-align: middle;\n",
       "    }\n",
       "\n",
       "    .dataframe tbody tr th {\n",
       "        vertical-align: top;\n",
       "    }\n",
       "\n",
       "    .dataframe thead th {\n",
       "        text-align: right;\n",
       "    }\n",
       "</style>\n",
       "<table border=\"1\" class=\"dataframe\">\n",
       "  <thead>\n",
       "    <tr style=\"text-align: right;\">\n",
       "      <th></th>\n",
       "      <th>Data_type</th>\n",
       "      <th>variable</th>\n",
       "      <th>value</th>\n",
       "      <th>Data_set</th>\n",
       "    </tr>\n",
       "  </thead>\n",
       "  <tbody>\n",
       "    <tr>\n",
       "      <th>0</th>\n",
       "      <td>Metagenome</td>\n",
       "      <td>Mean squared error_MGgOTU</td>\n",
       "      <td>6.453419</td>\n",
       "      <td>IBD200</td>\n",
       "    </tr>\n",
       "    <tr>\n",
       "      <th>1</th>\n",
       "      <td>Metagenome</td>\n",
       "      <td>Mean squared error_MGgOTU</td>\n",
       "      <td>8.150869</td>\n",
       "      <td>IBD200</td>\n",
       "    </tr>\n",
       "    <tr>\n",
       "      <th>2</th>\n",
       "      <td>Metagenome</td>\n",
       "      <td>Mean squared error_MGgOTU</td>\n",
       "      <td>6.616894</td>\n",
       "      <td>IBD200</td>\n",
       "    </tr>\n",
       "    <tr>\n",
       "      <th>3</th>\n",
       "      <td>Metagenome</td>\n",
       "      <td>Mean squared error_MGgOTU</td>\n",
       "      <td>9.144380</td>\n",
       "      <td>IBD200</td>\n",
       "    </tr>\n",
       "    <tr>\n",
       "      <th>4</th>\n",
       "      <td>Metagenome</td>\n",
       "      <td>Mean squared error_MGgOTU</td>\n",
       "      <td>5.558104</td>\n",
       "      <td>IBD200</td>\n",
       "    </tr>\n",
       "    <tr>\n",
       "      <th>5</th>\n",
       "      <td>Metagenome</td>\n",
       "      <td>Mean squared error_MGgOTU</td>\n",
       "      <td>9.208654</td>\n",
       "      <td>IBD200</td>\n",
       "    </tr>\n",
       "    <tr>\n",
       "      <th>6</th>\n",
       "      <td>Metagenome</td>\n",
       "      <td>Mean squared error_MGgOTU</td>\n",
       "      <td>13.571502</td>\n",
       "      <td>IBD200</td>\n",
       "    </tr>\n",
       "    <tr>\n",
       "      <th>7</th>\n",
       "      <td>Metagenome</td>\n",
       "      <td>Mean squared error_MGgOTU</td>\n",
       "      <td>2.077243</td>\n",
       "      <td>IBD200</td>\n",
       "    </tr>\n",
       "    <tr>\n",
       "      <th>8</th>\n",
       "      <td>Metagenome</td>\n",
       "      <td>Mean squared error_MGgOTU</td>\n",
       "      <td>7.762024</td>\n",
       "      <td>IBD200</td>\n",
       "    </tr>\n",
       "    <tr>\n",
       "      <th>9</th>\n",
       "      <td>Metagenome</td>\n",
       "      <td>Mean squared error_MGgOTU</td>\n",
       "      <td>6.623045</td>\n",
       "      <td>IBD200</td>\n",
       "    </tr>\n",
       "    <tr>\n",
       "      <th>10</th>\n",
       "      <td>Metagenome</td>\n",
       "      <td>Mean squared error_MGgOTU</td>\n",
       "      <td>7.292865</td>\n",
       "      <td>IBD200</td>\n",
       "    </tr>\n",
       "    <tr>\n",
       "      <th>11</th>\n",
       "      <td>Metagenome</td>\n",
       "      <td>Mean squared error_MGgOTU</td>\n",
       "      <td>5.580549</td>\n",
       "      <td>IBD200</td>\n",
       "    </tr>\n",
       "    <tr>\n",
       "      <th>12</th>\n",
       "      <td>Metagenome</td>\n",
       "      <td>Mean squared error_MGgOTU</td>\n",
       "      <td>8.000457</td>\n",
       "      <td>IBD200</td>\n",
       "    </tr>\n",
       "    <tr>\n",
       "      <th>13</th>\n",
       "      <td>Metagenome</td>\n",
       "      <td>Mean squared error_MGgOTU</td>\n",
       "      <td>4.362200</td>\n",
       "      <td>IBD200</td>\n",
       "    </tr>\n",
       "    <tr>\n",
       "      <th>14</th>\n",
       "      <td>Metagenome</td>\n",
       "      <td>Mean squared error_MGgOTU</td>\n",
       "      <td>5.765729</td>\n",
       "      <td>IBD200</td>\n",
       "    </tr>\n",
       "    <tr>\n",
       "      <th>15</th>\n",
       "      <td>Metagenome</td>\n",
       "      <td>Mean squared error_MGgOTU</td>\n",
       "      <td>10.164191</td>\n",
       "      <td>IBD200</td>\n",
       "    </tr>\n",
       "    <tr>\n",
       "      <th>16</th>\n",
       "      <td>Metagenome</td>\n",
       "      <td>Mean squared error_MGgOTU</td>\n",
       "      <td>2.237729</td>\n",
       "      <td>IBD200</td>\n",
       "    </tr>\n",
       "    <tr>\n",
       "      <th>17</th>\n",
       "      <td>Metagenome</td>\n",
       "      <td>Mean squared error_MGgOTU</td>\n",
       "      <td>7.330827</td>\n",
       "      <td>IBD200</td>\n",
       "    </tr>\n",
       "    <tr>\n",
       "      <th>18</th>\n",
       "      <td>Metagenome</td>\n",
       "      <td>Mean squared error_MGgOTU</td>\n",
       "      <td>5.816900</td>\n",
       "      <td>IBD200</td>\n",
       "    </tr>\n",
       "    <tr>\n",
       "      <th>19</th>\n",
       "      <td>Metagenome</td>\n",
       "      <td>Mean squared error_MGgOTU</td>\n",
       "      <td>7.100778</td>\n",
       "      <td>IBD200</td>\n",
       "    </tr>\n",
       "    <tr>\n",
       "      <th>20</th>\n",
       "      <td>Metagenome</td>\n",
       "      <td>Mean squared error_MGgOTU</td>\n",
       "      <td>7.027157</td>\n",
       "      <td>IBD200</td>\n",
       "    </tr>\n",
       "    <tr>\n",
       "      <th>21</th>\n",
       "      <td>Metagenome</td>\n",
       "      <td>Mean squared error_MGgOTU</td>\n",
       "      <td>7.528843</td>\n",
       "      <td>IBD200</td>\n",
       "    </tr>\n",
       "    <tr>\n",
       "      <th>22</th>\n",
       "      <td>Metagenome</td>\n",
       "      <td>Mean squared error_MGgOTU</td>\n",
       "      <td>3.512066</td>\n",
       "      <td>IBD200</td>\n",
       "    </tr>\n",
       "    <tr>\n",
       "      <th>23</th>\n",
       "      <td>Metagenome</td>\n",
       "      <td>Mean squared error_MGgOTU</td>\n",
       "      <td>5.633657</td>\n",
       "      <td>IBD200</td>\n",
       "    </tr>\n",
       "    <tr>\n",
       "      <th>24</th>\n",
       "      <td>Metagenome</td>\n",
       "      <td>Mean squared error_MGgOTU</td>\n",
       "      <td>6.062192</td>\n",
       "      <td>IBD200</td>\n",
       "    </tr>\n",
       "    <tr>\n",
       "      <th>25</th>\n",
       "      <td>Metagenome</td>\n",
       "      <td>Mean squared error_MGgOTU</td>\n",
       "      <td>9.140891</td>\n",
       "      <td>IBD200</td>\n",
       "    </tr>\n",
       "    <tr>\n",
       "      <th>26</th>\n",
       "      <td>Metagenome</td>\n",
       "      <td>Mean squared error_MGgOTU</td>\n",
       "      <td>4.594544</td>\n",
       "      <td>IBD200</td>\n",
       "    </tr>\n",
       "    <tr>\n",
       "      <th>27</th>\n",
       "      <td>Metagenome</td>\n",
       "      <td>Mean squared error_MGgOTU</td>\n",
       "      <td>6.923414</td>\n",
       "      <td>IBD200</td>\n",
       "    </tr>\n",
       "    <tr>\n",
       "      <th>28</th>\n",
       "      <td>Metagenome</td>\n",
       "      <td>Mean squared error_MGgOTU</td>\n",
       "      <td>10.156914</td>\n",
       "      <td>IBD200</td>\n",
       "    </tr>\n",
       "    <tr>\n",
       "      <th>29</th>\n",
       "      <td>Metagenome</td>\n",
       "      <td>Mean squared error_MGgOTU</td>\n",
       "      <td>7.715602</td>\n",
       "      <td>IBD200</td>\n",
       "    </tr>\n",
       "    <tr>\n",
       "      <th>...</th>\n",
       "      <td>...</td>\n",
       "      <td>...</td>\n",
       "      <td>...</td>\n",
       "      <td>...</td>\n",
       "    </tr>\n",
       "    <tr>\n",
       "      <th>69</th>\n",
       "      <td>Metagenome</td>\n",
       "      <td>Mean squared error_MGgOTU_scaled</td>\n",
       "      <td>6.785450</td>\n",
       "      <td>UC40</td>\n",
       "    </tr>\n",
       "    <tr>\n",
       "      <th>70</th>\n",
       "      <td>Metagenome</td>\n",
       "      <td>Mean squared error_MGgOTU_scaled</td>\n",
       "      <td>2.952241</td>\n",
       "      <td>UC40</td>\n",
       "    </tr>\n",
       "    <tr>\n",
       "      <th>71</th>\n",
       "      <td>Metagenome</td>\n",
       "      <td>Mean squared error_MGgOTU_scaled</td>\n",
       "      <td>5.482315</td>\n",
       "      <td>UC40</td>\n",
       "    </tr>\n",
       "    <tr>\n",
       "      <th>72</th>\n",
       "      <td>Metagenome</td>\n",
       "      <td>Mean squared error_MGgOTU_scaled</td>\n",
       "      <td>8.246697</td>\n",
       "      <td>UC40</td>\n",
       "    </tr>\n",
       "    <tr>\n",
       "      <th>73</th>\n",
       "      <td>Metagenome</td>\n",
       "      <td>Mean squared error_MGgOTU_scaled</td>\n",
       "      <td>8.868350</td>\n",
       "      <td>UC40</td>\n",
       "    </tr>\n",
       "    <tr>\n",
       "      <th>74</th>\n",
       "      <td>Metagenome</td>\n",
       "      <td>Mean squared error_MGgOTU_scaled</td>\n",
       "      <td>7.500900</td>\n",
       "      <td>UC40</td>\n",
       "    </tr>\n",
       "    <tr>\n",
       "      <th>75</th>\n",
       "      <td>Metagenome</td>\n",
       "      <td>Mean squared error_MGgOTU_scaled</td>\n",
       "      <td>4.400880</td>\n",
       "      <td>UC40</td>\n",
       "    </tr>\n",
       "    <tr>\n",
       "      <th>76</th>\n",
       "      <td>Metagenome</td>\n",
       "      <td>Mean squared error_MGgOTU_scaled</td>\n",
       "      <td>3.797025</td>\n",
       "      <td>UC40</td>\n",
       "    </tr>\n",
       "    <tr>\n",
       "      <th>77</th>\n",
       "      <td>Metagenome</td>\n",
       "      <td>Mean squared error_MGgOTU_scaled</td>\n",
       "      <td>3.813775</td>\n",
       "      <td>UC40</td>\n",
       "    </tr>\n",
       "    <tr>\n",
       "      <th>78</th>\n",
       "      <td>Metagenome</td>\n",
       "      <td>Mean squared error_MGgOTU_scaled</td>\n",
       "      <td>2.476150</td>\n",
       "      <td>UC40</td>\n",
       "    </tr>\n",
       "    <tr>\n",
       "      <th>79</th>\n",
       "      <td>Metagenome</td>\n",
       "      <td>Mean squared error_MGgOTU_scaled</td>\n",
       "      <td>1.313325</td>\n",
       "      <td>UC40</td>\n",
       "    </tr>\n",
       "    <tr>\n",
       "      <th>80</th>\n",
       "      <td>Metagenome</td>\n",
       "      <td>Mean squared error_MGgOTU_scaled</td>\n",
       "      <td>1.475105</td>\n",
       "      <td>UC40</td>\n",
       "    </tr>\n",
       "    <tr>\n",
       "      <th>81</th>\n",
       "      <td>Metagenome</td>\n",
       "      <td>Mean squared error_MGgOTU_scaled</td>\n",
       "      <td>4.348949</td>\n",
       "      <td>UC40</td>\n",
       "    </tr>\n",
       "    <tr>\n",
       "      <th>82</th>\n",
       "      <td>Metagenome</td>\n",
       "      <td>Mean squared error_MGgOTU_scaled</td>\n",
       "      <td>2.104103</td>\n",
       "      <td>UC40</td>\n",
       "    </tr>\n",
       "    <tr>\n",
       "      <th>83</th>\n",
       "      <td>Metagenome</td>\n",
       "      <td>Mean squared error_MGgOTU_scaled</td>\n",
       "      <td>1.814284</td>\n",
       "      <td>UC40</td>\n",
       "    </tr>\n",
       "    <tr>\n",
       "      <th>84</th>\n",
       "      <td>Metagenome</td>\n",
       "      <td>Mean squared error_MGgOTU_scaled</td>\n",
       "      <td>6.414950</td>\n",
       "      <td>UC40</td>\n",
       "    </tr>\n",
       "    <tr>\n",
       "      <th>85</th>\n",
       "      <td>Metagenome</td>\n",
       "      <td>Mean squared error_MGgOTU_scaled</td>\n",
       "      <td>4.354575</td>\n",
       "      <td>UC40</td>\n",
       "    </tr>\n",
       "    <tr>\n",
       "      <th>86</th>\n",
       "      <td>Metagenome</td>\n",
       "      <td>Mean squared error_MGgOTU_scaled</td>\n",
       "      <td>6.848450</td>\n",
       "      <td>UC40</td>\n",
       "    </tr>\n",
       "    <tr>\n",
       "      <th>87</th>\n",
       "      <td>Metagenome</td>\n",
       "      <td>Mean squared error_MGgOTU_scaled</td>\n",
       "      <td>9.869048</td>\n",
       "      <td>UC40</td>\n",
       "    </tr>\n",
       "    <tr>\n",
       "      <th>88</th>\n",
       "      <td>Metagenome</td>\n",
       "      <td>Mean squared error_MGgOTU_scaled</td>\n",
       "      <td>4.537475</td>\n",
       "      <td>UC40</td>\n",
       "    </tr>\n",
       "    <tr>\n",
       "      <th>89</th>\n",
       "      <td>Metagenome</td>\n",
       "      <td>Mean squared error_MGgOTU_scaled</td>\n",
       "      <td>2.140498</td>\n",
       "      <td>UC40</td>\n",
       "    </tr>\n",
       "    <tr>\n",
       "      <th>90</th>\n",
       "      <td>Metagenome</td>\n",
       "      <td>Mean squared error_MGgOTU_scaled</td>\n",
       "      <td>2.577375</td>\n",
       "      <td>UC40</td>\n",
       "    </tr>\n",
       "    <tr>\n",
       "      <th>91</th>\n",
       "      <td>Metagenome</td>\n",
       "      <td>Mean squared error_MGgOTU_scaled</td>\n",
       "      <td>1.307900</td>\n",
       "      <td>UC40</td>\n",
       "    </tr>\n",
       "    <tr>\n",
       "      <th>92</th>\n",
       "      <td>Metagenome</td>\n",
       "      <td>Mean squared error_MGgOTU_scaled</td>\n",
       "      <td>7.610350</td>\n",
       "      <td>UC40</td>\n",
       "    </tr>\n",
       "    <tr>\n",
       "      <th>93</th>\n",
       "      <td>Metagenome</td>\n",
       "      <td>Mean squared error_MGgOTU_scaled</td>\n",
       "      <td>5.074262</td>\n",
       "      <td>UC40</td>\n",
       "    </tr>\n",
       "    <tr>\n",
       "      <th>94</th>\n",
       "      <td>Metagenome</td>\n",
       "      <td>Mean squared error_MGgOTU_scaled</td>\n",
       "      <td>8.194204</td>\n",
       "      <td>UC40</td>\n",
       "    </tr>\n",
       "    <tr>\n",
       "      <th>95</th>\n",
       "      <td>Metagenome</td>\n",
       "      <td>Mean squared error_MGgOTU_scaled</td>\n",
       "      <td>2.971282</td>\n",
       "      <td>UC40</td>\n",
       "    </tr>\n",
       "    <tr>\n",
       "      <th>96</th>\n",
       "      <td>Metagenome</td>\n",
       "      <td>Mean squared error_MGgOTU_scaled</td>\n",
       "      <td>1.860150</td>\n",
       "      <td>UC40</td>\n",
       "    </tr>\n",
       "    <tr>\n",
       "      <th>97</th>\n",
       "      <td>Metagenome</td>\n",
       "      <td>Mean squared error_MGgOTU_scaled</td>\n",
       "      <td>13.125403</td>\n",
       "      <td>UC40</td>\n",
       "    </tr>\n",
       "    <tr>\n",
       "      <th>98</th>\n",
       "      <td>Metagenome</td>\n",
       "      <td>Mean squared error_MGgOTU_scaled</td>\n",
       "      <td>4.755405</td>\n",
       "      <td>UC40</td>\n",
       "    </tr>\n",
       "  </tbody>\n",
       "</table>\n",
       "<p>198 rows × 4 columns</p>\n",
       "</div>"
      ],
      "text/plain": [
       "     Data_type                          variable      value Data_set\n",
       "0   Metagenome         Mean squared error_MGgOTU   6.453419   IBD200\n",
       "1   Metagenome         Mean squared error_MGgOTU   8.150869   IBD200\n",
       "2   Metagenome         Mean squared error_MGgOTU   6.616894   IBD200\n",
       "3   Metagenome         Mean squared error_MGgOTU   9.144380   IBD200\n",
       "4   Metagenome         Mean squared error_MGgOTU   5.558104   IBD200\n",
       "5   Metagenome         Mean squared error_MGgOTU   9.208654   IBD200\n",
       "6   Metagenome         Mean squared error_MGgOTU  13.571502   IBD200\n",
       "7   Metagenome         Mean squared error_MGgOTU   2.077243   IBD200\n",
       "8   Metagenome         Mean squared error_MGgOTU   7.762024   IBD200\n",
       "9   Metagenome         Mean squared error_MGgOTU   6.623045   IBD200\n",
       "10  Metagenome         Mean squared error_MGgOTU   7.292865   IBD200\n",
       "11  Metagenome         Mean squared error_MGgOTU   5.580549   IBD200\n",
       "12  Metagenome         Mean squared error_MGgOTU   8.000457   IBD200\n",
       "13  Metagenome         Mean squared error_MGgOTU   4.362200   IBD200\n",
       "14  Metagenome         Mean squared error_MGgOTU   5.765729   IBD200\n",
       "15  Metagenome         Mean squared error_MGgOTU  10.164191   IBD200\n",
       "16  Metagenome         Mean squared error_MGgOTU   2.237729   IBD200\n",
       "17  Metagenome         Mean squared error_MGgOTU   7.330827   IBD200\n",
       "18  Metagenome         Mean squared error_MGgOTU   5.816900   IBD200\n",
       "19  Metagenome         Mean squared error_MGgOTU   7.100778   IBD200\n",
       "20  Metagenome         Mean squared error_MGgOTU   7.027157   IBD200\n",
       "21  Metagenome         Mean squared error_MGgOTU   7.528843   IBD200\n",
       "22  Metagenome         Mean squared error_MGgOTU   3.512066   IBD200\n",
       "23  Metagenome         Mean squared error_MGgOTU   5.633657   IBD200\n",
       "24  Metagenome         Mean squared error_MGgOTU   6.062192   IBD200\n",
       "25  Metagenome         Mean squared error_MGgOTU   9.140891   IBD200\n",
       "26  Metagenome         Mean squared error_MGgOTU   4.594544   IBD200\n",
       "27  Metagenome         Mean squared error_MGgOTU   6.923414   IBD200\n",
       "28  Metagenome         Mean squared error_MGgOTU  10.156914   IBD200\n",
       "29  Metagenome         Mean squared error_MGgOTU   7.715602   IBD200\n",
       "..         ...                               ...        ...      ...\n",
       "69  Metagenome  Mean squared error_MGgOTU_scaled   6.785450     UC40\n",
       "70  Metagenome  Mean squared error_MGgOTU_scaled   2.952241     UC40\n",
       "71  Metagenome  Mean squared error_MGgOTU_scaled   5.482315     UC40\n",
       "72  Metagenome  Mean squared error_MGgOTU_scaled   8.246697     UC40\n",
       "73  Metagenome  Mean squared error_MGgOTU_scaled   8.868350     UC40\n",
       "74  Metagenome  Mean squared error_MGgOTU_scaled   7.500900     UC40\n",
       "75  Metagenome  Mean squared error_MGgOTU_scaled   4.400880     UC40\n",
       "76  Metagenome  Mean squared error_MGgOTU_scaled   3.797025     UC40\n",
       "77  Metagenome  Mean squared error_MGgOTU_scaled   3.813775     UC40\n",
       "78  Metagenome  Mean squared error_MGgOTU_scaled   2.476150     UC40\n",
       "79  Metagenome  Mean squared error_MGgOTU_scaled   1.313325     UC40\n",
       "80  Metagenome  Mean squared error_MGgOTU_scaled   1.475105     UC40\n",
       "81  Metagenome  Mean squared error_MGgOTU_scaled   4.348949     UC40\n",
       "82  Metagenome  Mean squared error_MGgOTU_scaled   2.104103     UC40\n",
       "83  Metagenome  Mean squared error_MGgOTU_scaled   1.814284     UC40\n",
       "84  Metagenome  Mean squared error_MGgOTU_scaled   6.414950     UC40\n",
       "85  Metagenome  Mean squared error_MGgOTU_scaled   4.354575     UC40\n",
       "86  Metagenome  Mean squared error_MGgOTU_scaled   6.848450     UC40\n",
       "87  Metagenome  Mean squared error_MGgOTU_scaled   9.869048     UC40\n",
       "88  Metagenome  Mean squared error_MGgOTU_scaled   4.537475     UC40\n",
       "89  Metagenome  Mean squared error_MGgOTU_scaled   2.140498     UC40\n",
       "90  Metagenome  Mean squared error_MGgOTU_scaled   2.577375     UC40\n",
       "91  Metagenome  Mean squared error_MGgOTU_scaled   1.307900     UC40\n",
       "92  Metagenome  Mean squared error_MGgOTU_scaled   7.610350     UC40\n",
       "93  Metagenome  Mean squared error_MGgOTU_scaled   5.074262     UC40\n",
       "94  Metagenome  Mean squared error_MGgOTU_scaled   8.194204     UC40\n",
       "95  Metagenome  Mean squared error_MGgOTU_scaled   2.971282     UC40\n",
       "96  Metagenome  Mean squared error_MGgOTU_scaled   1.860150     UC40\n",
       "97  Metagenome  Mean squared error_MGgOTU_scaled  13.125403     UC40\n",
       "98  Metagenome  Mean squared error_MGgOTU_scaled   4.755405     UC40\n",
       "\n",
       "[198 rows x 4 columns]"
      ]
     },
     "execution_count": 74,
     "metadata": {},
     "output_type": "execute_result"
    }
   ],
   "source": [
    "merge_melt_combined = pd.concat([merge_melt2,merge_melt])\n",
    "merge_melt_combined[merge_melt_combined['Data_type']=='Metagenome']"
   ]
  },
  {
   "cell_type": "code",
   "execution_count": 89,
   "metadata": {},
   "outputs": [],
   "source": [
    "order = ['Metaproteome','Combined Data','Metabolome',  'Metagenome', '16S','Serum Proteome']"
   ]
  },
  {
   "cell_type": "code",
   "execution_count": 90,
   "metadata": {},
   "outputs": [
    {
     "data": {
      "image/png": "[encoded data removed]",
      "text/plain": [
       "<Figure size 216x288 with 1 Axes>"
      ]
     },
     "metadata": {},
     "output_type": "display_data"
    }
   ],
   "source": [
    "#Plot the RF mean squared error values in each data type\n",
    "\n",
    "import matplotlib.pyplot as plt\n",
    "\n",
    "#Set style to have grids\n",
    "sns.set_style(\"whitegrid\")\n",
    "\n",
    "fig, ax = plt.subplots(figsize = (3,4))\n",
    "#sns.violinplot(x = 'value', y = 'Description', inner = None, data = merge_melt,cut=0, palette = sns.hls_palette(20, l=.4, s=.8))\n",
    "sns.swarmplot(x = 'value', y = 'Data_type', order = order, alpha = 1, data = merge_melt_combined, hue='Data_set',palette=['gray','blue'], size=1.5)\n",
    "sns.boxplot(x = 'value', y = 'Data_type', order = order, data = merge_melt_combined, palette = 'Reds')\n",
    "#fig.autofmt_xdate(rotation = 90, ha = 'center')\n",
    "plt.legend(loc='center left', bbox_to_anchor=(1, 0.5))\n",
    "plt.savefig('./DataType_RF_MeanSqurdError_CombinedData_boxplots_gOTUs2.pdf', bbox_inches = 'tight')"
   ]
  },
  {
   "cell_type": "code",
   "execution_count": 77,
   "metadata": {},
   "outputs": [],
   "source": [
    "#Determine statistics on different datatypes:\n",
    "Combined = merge_melt_combined[merge_melt_combined['Data_type'] == 'Combined Data']"
   ]
  },
  {
   "cell_type": "code",
   "execution_count": 78,
   "metadata": {},
   "outputs": [
    {
     "data": {
      "text/plain": [
       "count    198.000000\n",
       "mean       4.298612\n",
       "std        2.566092\n",
       "min        0.355161\n",
       "25%        2.279609\n",
       "50%        3.866287\n",
       "75%        5.899767\n",
       "max       13.575550\n",
       "Name: value, dtype: float64"
      ]
     },
     "execution_count": 78,
     "metadata": {},
     "output_type": "execute_result"
    }
   ],
   "source": [
    "Combined['value'].describe()"
   ]
  },
  {
   "cell_type": "code",
   "execution_count": 79,
   "metadata": {},
   "outputs": [],
   "source": [
    "#Determine statistics on different datatypes:\n",
    "Amp = merge_melt_combined[merge_melt_combined['Data_type'] == '16S']"
   ]
  },
  {
   "cell_type": "code",
   "execution_count": 80,
   "metadata": {},
   "outputs": [
    {
     "data": {
      "text/plain": [
       "count    189.000000\n",
       "mean       5.877531\n",
       "std        2.986770\n",
       "min        0.943937\n",
       "25%        3.525311\n",
       "50%        5.379755\n",
       "75%        7.383990\n",
       "max       17.766824\n",
       "Name: value, dtype: float64"
      ]
     },
     "execution_count": 80,
     "metadata": {},
     "output_type": "execute_result"
    }
   ],
   "source": [
    "Amp['value'].describe()"
   ]
  },
  {
   "cell_type": "code",
   "execution_count": 81,
   "metadata": {},
   "outputs": [],
   "source": [
    "#Determine statistics on different datatypes:\n",
    "MP = merge_melt_combined[merge_melt_combined['Data_type'] == 'Metaproteome']"
   ]
  },
  {
   "cell_type": "code",
   "execution_count": 82,
   "metadata": {},
   "outputs": [
    {
     "data": {
      "text/plain": [
       "count    191.000000\n",
       "mean       4.281190\n",
       "std        2.472172\n",
       "min        0.087874\n",
       "25%        2.428654\n",
       "50%        4.043434\n",
       "75%        5.577758\n",
       "max       14.233450\n",
       "Name: value, dtype: float64"
      ]
     },
     "execution_count": 82,
     "metadata": {},
     "output_type": "execute_result"
    }
   ],
   "source": [
    "MP['value'].describe()"
   ]
  },
  {
   "cell_type": "code",
   "execution_count": 83,
   "metadata": {},
   "outputs": [],
   "source": [
    "#Determine statistics on different datatypes:\n",
    "MB = merge_melt_combined[merge_melt_combined['Data_type'] == 'Metabolome']"
   ]
  },
  {
   "cell_type": "code",
   "execution_count": 84,
   "metadata": {},
   "outputs": [
    {
     "data": {
      "text/plain": [
       "count    198.000000\n",
       "mean       5.270654\n",
       "std        3.044406\n",
       "min        0.417317\n",
       "25%        2.683058\n",
       "50%        4.945426\n",
       "75%        7.132563\n",
       "max       16.384633\n",
       "Name: value, dtype: float64"
      ]
     },
     "execution_count": 84,
     "metadata": {},
     "output_type": "execute_result"
    }
   ],
   "source": [
    "MB['value'].describe()"
   ]
  },
  {
   "cell_type": "code",
   "execution_count": 85,
   "metadata": {},
   "outputs": [],
   "source": [
    "#Determine statistics on different datatypes:\n",
    "MG = merge_melt_combined[merge_melt_combined['Data_type'] == 'Metagenome']"
   ]
  },
  {
   "cell_type": "code",
   "execution_count": 86,
   "metadata": {},
   "outputs": [
    {
     "data": {
      "text/plain": [
       "count    198.000000\n",
       "mean       5.811956\n",
       "std        3.068117\n",
       "min        0.354225\n",
       "25%        3.671058\n",
       "50%        5.403479\n",
       "75%        7.482798\n",
       "max       16.899382\n",
       "Name: value, dtype: float64"
      ]
     },
     "execution_count": 86,
     "metadata": {},
     "output_type": "execute_result"
    }
   ],
   "source": [
    "MG['value'].describe()"
   ]
  },
  {
   "cell_type": "code",
   "execution_count": 87,
   "metadata": {},
   "outputs": [],
   "source": [
    "#Determine statistics on different datatypes:\n",
    "SP = merge_melt_combined[merge_melt_combined['Data_type'] == 'Serum Proteome']"
   ]
  },
  {
   "cell_type": "code",
   "execution_count": 88,
   "metadata": {},
   "outputs": [
    {
     "data": {
      "text/plain": [
       "count    99.000000\n",
       "mean      7.106859\n",
       "std       3.054861\n",
       "min       0.816064\n",
       "25%       4.958853\n",
       "50%       7.049061\n",
       "75%       9.128139\n",
       "max      15.746500\n",
       "Name: value, dtype: float64"
      ]
     },
     "execution_count": 88,
     "metadata": {},
     "output_type": "execute_result"
    }
   ],
   "source": [
    "SP['value'].describe()"
   ]
  },
  {
   "cell_type": "markdown",
   "metadata": {},
   "source": [
    "### Aggregate RF feature importance"
   ]
  },
  {
   "cell_type": "code",
   "execution_count": 2,
   "metadata": {},
   "outputs": [
    {
     "name": "stderr",
     "output_type": "stream",
     "text": [
      "/Users/rhmills/miniconda3/envs/qiime2-2019.7/lib/python3.6/site-packages/ipykernel_launcher.py:6: FutureWarning: read_table is deprecated, use read_csv instead, passing sep='\\t'.\n",
      "  \n"
     ]
    }
   ],
   "source": [
    "collation = []\n",
    "\n",
    "for i in range(1, 100):\n",
    "    if os.path.exists('IBD200/MP/%s' % str(i)):\n",
    "        results_path = os.path.join('IBD200/MP/%s' % str(i), 'features', 'importance.tsv')\n",
    "        collation.append(pd.read_table(results_path))\n",
    "collation = pd.concat(collation)"
   ]
  },
  {
   "cell_type": "code",
   "execution_count": 3,
   "metadata": {},
   "outputs": [],
   "source": [
    "collation2=collation.groupby('feature')['importance'].sum()\n",
    "MP100=collation2.to_frame().sort_values(by='importance',ascending=False)"
   ]
  },
  {
   "cell_type": "code",
   "execution_count": 4,
   "metadata": {},
   "outputs": [
    {
     "name": "stderr",
     "output_type": "stream",
     "text": [
      "/Users/rhmills/miniconda3/envs/qiime2-2019.7/lib/python3.6/site-packages/IPython/core/interactiveshell.py:3058: DtypeWarning: Columns (7,24) have mixed types. Specify dtype option on import or set low_memory=False.\n",
      "  interactivity=interactivity, compiler=compiler, result=result)\n"
     ]
    }
   ],
   "source": [
    "protein_ann = pd.read_csv('../../IBD200/Metagenomics/MGDB/MGDB_Full_Protein_Annotations_AllProteomic_hits2.csv')"
   ]
  },
  {
   "cell_type": "code",
   "execution_count": 5,
   "metadata": {},
   "outputs": [],
   "source": [
    "MP100=MP100.merge(protein_ann,left_on='feature',right_on='queryID',how='left')\n",
    "MP100.index=MP100['queryID']\n",
    "MP100['Protein_and_Species']=MP100['Protein names'] + ' ' +MP100['Species']"
   ]
  },
  {
   "cell_type": "code",
   "execution_count": 6,
   "metadata": {},
   "outputs": [],
   "source": [
    "IBD200MP=MP100.groupby('Protein_and_Species')['importance'].sum().to_frame().sort_values(by='importance',ascending=False)"
   ]
  },
  {
   "cell_type": "code",
   "execution_count": 7,
   "metadata": {},
   "outputs": [
    {
     "name": "stderr",
     "output_type": "stream",
     "text": [
      "/Users/rhmills/miniconda3/envs/qiime2-2019.7/lib/python3.6/site-packages/ipykernel_launcher.py:6: FutureWarning: read_table is deprecated, use read_csv instead, passing sep='\\t'.\n",
      "  \n"
     ]
    }
   ],
   "source": [
    "collation = []\n",
    "\n",
    "for i in range(1, 100):\n",
    "    if os.path.exists('MP_Common/MP_Common/%s' % str(i)):\n",
    "        results_path = os.path.join('MP_Common/MP_Common/%s' % str(i), 'features', 'importance.tsv')\n",
    "        collation.append(pd.read_table(results_path))\n",
    "collation = pd.concat(collation)"
   ]
  },
  {
   "cell_type": "code",
   "execution_count": 8,
   "metadata": {},
   "outputs": [],
   "source": [
    "collation2=collation.groupby('feature')['importance'].sum()\n",
    "MP100=collation2.to_frame().sort_values(by='importance',ascending=False)"
   ]
  },
  {
   "cell_type": "code",
   "execution_count": 98,
   "metadata": {},
   "outputs": [
    {
     "name": "stderr",
     "output_type": "stream",
     "text": [
      "/Users/rhmills/miniconda3/envs/qiime2-2019.7/lib/python3.6/site-packages/IPython/core/interactiveshell.py:3058: DtypeWarning: Columns (10,22,31,36,37,44) have mixed types. Specify dtype option on import or set low_memory=False.\n",
      "  interactivity=interactivity, compiler=compiler, result=result)\n"
     ]
    }
   ],
   "source": [
    "protein_meta = pd.read_csv('../../IBD200/Metagenomics/MGDB/UC40_Full_Protein_Annotations_All_hitsV2.csv')"
   ]
  },
  {
   "cell_type": "code",
   "execution_count": 99,
   "metadata": {},
   "outputs": [],
   "source": [
    "MP100=MP100.merge(protein_ann,left_on='feature',right_on='queryID',how='left')\n",
    "MP100.index=MP100['queryID']\n",
    "MP100['Protein_and_Species']=MP100['Protein names'] + ' ' +MP100['Species']"
   ]
  },
  {
   "cell_type": "code",
   "execution_count": 100,
   "metadata": {},
   "outputs": [],
   "source": [
    "UC40MP=MP100.groupby('Protein_and_Species')['importance'].sum().to_frame().sort_values(by='importance',ascending=False)"
   ]
  },
  {
   "cell_type": "code",
   "execution_count": 101,
   "metadata": {},
   "outputs": [],
   "source": [
    "UC40MP.rename(columns={'importance':'Importance (Cohort1)'},inplace=True)\n",
    "IBD200MP.rename(columns={'importance':'Importance (Cohort2)'},inplace=True)\n",
    "MPtab=UC40MP.merge(IBD200MP,left_index=True,right_index=True,how='outer')\n",
    "MPtab['Importance (Cohort1)'] = MPtab['Importance (Cohort1)']/MPtab['Importance (Cohort1)'].sum()\n",
    "MPtab['Importance (Cohort2)'] = MPtab['Importance (Cohort2)']/MPtab['Importance (Cohort2)'].sum()\n",
    "MPtab=MPtab.fillna(0)"
   ]
  },
  {
   "cell_type": "code",
   "execution_count": 102,
   "metadata": {},
   "outputs": [],
   "source": [
    "MPtab['Importance Sum'] = MPtab['Importance (Cohort1)']+MPtab['Importance (Cohort2)']"
   ]
  },
  {
   "cell_type": "code",
   "execution_count": 103,
   "metadata": {},
   "outputs": [],
   "source": [
    "MPtab=MPtab.sort_values(by='Importance Sum',ascending=False)[0:100]"
   ]
  },
  {
   "cell_type": "code",
   "execution_count": 145,
   "metadata": {},
   "outputs": [],
   "source": [
    "MPtab.to_csv('./Top100_MP_CombinedCohorts.csv')"
   ]
  },
  {
   "cell_type": "code",
   "execution_count": 10,
   "metadata": {},
   "outputs": [],
   "source": [
    "collation = []\n",
    "\n",
    "for i in range(1, 100):\n",
    "    if os.path.exists('IBD200/MGgOTU/%s' % str(i)):\n",
    "        results_path = os.path.join('IBD200/MGgOTU/%s' % str(i), 'features', 'importance.tsv')\n",
    "        collation.append(pd.read_table(results_path))\n",
    "collation = pd.concat(collation)\n",
    "collation2=collation.groupby('feature')['importance'].sum()\n",
    "IBD200=collation2.to_frame().sort_values(by='importance',ascending=False)"
   ]
  },
  {
   "cell_type": "code",
   "execution_count": 11,
   "metadata": {},
   "outputs": [],
   "source": [
    "collation = []\n",
    "\n",
    "for i in range(1, 100):\n",
    "    if os.path.exists('MG_gOTU/%s' % str(i)):\n",
    "        results_path = os.path.join('MG_gOTU/%s' % str(i), 'features', 'importance.tsv')\n",
    "        collation.append(pd.read_table(results_path))\n",
    "collation = pd.concat(collation)\n",
    "collation2=collation.groupby('feature')['importance'].sum()\n",
    "UC40=collation2.to_frame().sort_values(by='importance',ascending=False)"
   ]
  },
  {
   "cell_type": "code",
   "execution_count": 12,
   "metadata": {},
   "outputs": [],
   "source": [
    "UC40.rename(columns={'importance':'Importance (Cohort1)'},inplace=True)\n",
    "IBD200.rename(columns={'importance':'Importance (Cohort2)'},inplace=True)\n",
    "MGtab=UC40.merge(IBD200,left_index=True,right_index=True,how='outer')\n",
    "MGtab['Importance (Cohort1)'] = MGtab['Importance (Cohort1)']/MGtab['Importance (Cohort1)'].sum()\n",
    "MGtab['Importance (Cohort2)'] = MGtab['Importance (Cohort2)']/MGtab['Importance (Cohort2)'].sum()\n",
    "MGtab=MGtab.fillna(0)"
   ]
  },
  {
   "cell_type": "code",
   "execution_count": 13,
   "metadata": {},
   "outputs": [],
   "source": [
    "MGtab['Importance Sum'] = MGtab['Importance (Cohort1)']+MGtab['Importance (Cohort2)']"
   ]
  },
  {
   "cell_type": "code",
   "execution_count": 14,
   "metadata": {},
   "outputs": [],
   "source": [
    "ann=pd.read_csv('../../IBD200/lineage.txt',sep='\\t',header=None)\n",
    "ann.rename(columns={0:'gOTU',1:'Lineage'},inplace=True)"
   ]
  },
  {
   "cell_type": "code",
   "execution_count": 15,
   "metadata": {},
   "outputs": [],
   "source": [
    "MGtab=MGtab.merge(ann,left_index=True,right_on='gOTU',how='left')\n",
    "MGtab=MGtab.sort_values(by='Importance Sum',ascending=False)[0:100]"
   ]
  },
  {
   "cell_type": "code",
   "execution_count": 16,
   "metadata": {
    "scrolled": true
   },
   "outputs": [],
   "source": [
    "MGtab.index=MGtab['gOTU']"
   ]
  },
  {
   "cell_type": "code",
   "execution_count": 146,
   "metadata": {},
   "outputs": [],
   "source": [
    "MGtab.to_csv('./Top100_MG_CombinedCohorts.csv')"
   ]
  },
  {
   "cell_type": "code",
   "execution_count": 111,
   "metadata": {},
   "outputs": [
    {
     "name": "stderr",
     "output_type": "stream",
     "text": [
      "/Users/rhmills/miniconda3/envs/qiime2-2019.7/lib/python3.6/site-packages/ipykernel_launcher.py:6: FutureWarning: read_table is deprecated, use read_csv instead, passing sep='\\t'.\n",
      "  \n"
     ]
    }
   ],
   "source": [
    "collation = []\n",
    "\n",
    "for i in range(1, 100):\n",
    "    if os.path.exists('IBD200/16S/%s' % str(i)):\n",
    "        results_path = os.path.join('IBD200/16S/%s' % str(i), 'features', 'importance.tsv')\n",
    "        collation.append(pd.read_table(results_path))\n",
    "collation = pd.concat(collation)\n",
    "collation2=collation.groupby('feature')['importance'].sum()\n",
    "IBD200=collation2.to_frame().sort_values(by='importance',ascending=False)"
   ]
  },
  {
   "cell_type": "code",
   "execution_count": 112,
   "metadata": {},
   "outputs": [
    {
     "name": "stderr",
     "output_type": "stream",
     "text": [
      "/Users/rhmills/miniconda3/envs/qiime2-2019.7/lib/python3.6/site-packages/ipykernel_launcher.py:6: FutureWarning: read_table is deprecated, use read_csv instead, passing sep='\\t'.\n",
      "  \n"
     ]
    }
   ],
   "source": [
    "collation = []\n",
    "\n",
    "for i in range(1, 100):\n",
    "    if os.path.exists('16S/%s' % str(i)):\n",
    "        results_path = os.path.join('16S/%s' % str(i), 'features', 'importance.tsv')\n",
    "        collation.append(pd.read_table(results_path))\n",
    "collation = pd.concat(collation)\n",
    "collation2=collation.groupby('feature')['importance'].sum()\n",
    "UC40=collation2.to_frame().sort_values(by='importance',ascending=False)"
   ]
  },
  {
   "cell_type": "code",
   "execution_count": 113,
   "metadata": {},
   "outputs": [],
   "source": [
    "UC40.rename(columns={'importance':'Importance (Cohort1)'},inplace=True)\n",
    "IBD200.rename(columns={'importance':'Importance (Cohort2)'},inplace=True)\n",
    "amptab=UC40.merge(IBD200,left_index=True,right_index=True,how='outer')\n",
    "amptab['Importance (Cohort1)'] = amptab['Importance (Cohort1)']/amptab['Importance (Cohort1)'].sum()\n",
    "amptab['Importance (Cohort2)'] = amptab['Importance (Cohort2)']/amptab['Importance (Cohort2)'].sum()\n",
    "amptab=amptab.fillna(0)"
   ]
  },
  {
   "cell_type": "code",
   "execution_count": 114,
   "metadata": {},
   "outputs": [],
   "source": [
    "amptab['Importance Sum'] = amptab['Importance (Cohort1)']+amptab['Importance (Cohort2)']"
   ]
  },
  {
   "cell_type": "code",
   "execution_count": 115,
   "metadata": {},
   "outputs": [],
   "source": [
    "ann=pd.read_csv('../Genomics/16S/Taxonomy_metadata.tsv',sep='\\t')\n",
    "ann2=pd.read_csv('./IBD20016STaxonomy.tsv/taxonomy.tsv',sep='\\t')\n",
    "\n",
    "anns=pd.concat([ann,ann2])\n",
    "amptab=amptab.merge(anns,left_index=True,right_on='Feature ID',how='left')\n",
    "amptab.index = amptab['Taxon']\n",
    "columns=['Importance (Cohort1)','Importance (Cohort2)','Importance Sum']\n",
    "amptab=amptab[columns]\n",
    "amptab=amptab.drop_duplicates()\n",
    "amptab=amptab.sort_values(by='Importance Sum',ascending=False)[0:100]"
   ]
  },
  {
   "cell_type": "code",
   "execution_count": 147,
   "metadata": {
    "scrolled": true
   },
   "outputs": [],
   "source": [
    "amptab.to_csv('./Top100_16S_CombinedCohorts.csv')"
   ]
  },
  {
   "cell_type": "code",
   "execution_count": 118,
   "metadata": {},
   "outputs": [
    {
     "name": "stderr",
     "output_type": "stream",
     "text": [
      "/Users/rhmills/miniconda3/envs/qiime2-2019.7/lib/python3.6/site-packages/ipykernel_launcher.py:6: FutureWarning: read_table is deprecated, use read_csv instead, passing sep='\\t'.\n",
      "  \n"
     ]
    }
   ],
   "source": [
    "collation = []\n",
    "\n",
    "for i in range(1, 100):\n",
    "    if os.path.exists('IBD200/MBNorm/%s' % str(i)):\n",
    "        results_path = os.path.join('IBD200/MBNorm/%s' % str(i), 'features', 'importance.tsv')\n",
    "        collation.append(pd.read_table(results_path))\n",
    "collation = pd.concat(collation)\n",
    "collation2=collation.groupby('feature')['importance'].sum()\n",
    "IBD200=collation2.to_frame().sort_values(by='importance',ascending=False)"
   ]
  },
  {
   "cell_type": "code",
   "execution_count": 119,
   "metadata": {},
   "outputs": [
    {
     "name": "stderr",
     "output_type": "stream",
     "text": [
      "/Users/rhmills/miniconda3/envs/qiime2-2019.7/lib/python3.6/site-packages/ipykernel_launcher.py:6: FutureWarning: read_table is deprecated, use read_csv instead, passing sep='\\t'.\n",
      "  \n"
     ]
    }
   ],
   "source": [
    "collation = []\n",
    "\n",
    "for i in range(1, 100):\n",
    "    if os.path.exists('MB_Norm/%s' % str(i)):\n",
    "        results_path = os.path.join('MB_Norm/%s' % str(i), 'features', 'importance.tsv')\n",
    "        collation.append(pd.read_table(results_path))\n",
    "collation = pd.concat(collation)\n",
    "collation2=collation.groupby('feature')['importance'].sum()\n",
    "UC40=collation2.to_frame().sort_values(by='importance',ascending=False)"
   ]
  },
  {
   "cell_type": "code",
   "execution_count": 120,
   "metadata": {},
   "outputs": [],
   "source": [
    "ann2=pd.read_csv('../Metabolomics/StandardizedMzMIne2020Rerun/UC40_MB_Annotations.txt',sep='\\t')\n",
    "ann=pd.read_csv('../../IBD200/Metabolomics/Qemistree_IDs.txt',sep='\\t')"
   ]
  },
  {
   "cell_type": "code",
   "execution_count": 124,
   "metadata": {
    "scrolled": true
   },
   "outputs": [],
   "source": [
    "UC40=UC40.merge(ann2,left_index=True,right_on='rowID',how='left')\n",
    "IBD200=IBD200.merge(ann,left_index=True,right_on='rowid',how='left')"
   ]
  },
  {
   "cell_type": "code",
   "execution_count": 130,
   "metadata": {
    "scrolled": true
   },
   "outputs": [],
   "source": [
    "IBD200=IBD200.fillna('None')\n",
    "IBD200['LibraryMatch_and_DirectParent']=IBD200['ms2_library_match']+ ' '+IBD200['direct_parent']\n",
    "\n",
    "UC40=UC40.fillna('None')\n",
    "UC40['LibraryMatch_and_DirectParent']=UC40['ms2_library_match']+ ' '+UC40['direct_parent']"
   ]
  },
  {
   "cell_type": "code",
   "execution_count": 135,
   "metadata": {},
   "outputs": [],
   "source": [
    "UC40MB=UC40.groupby('LibraryMatch_and_DirectParent')['importance'].sum().to_frame().sort_values(by='importance',ascending=False)\n",
    "IBD200MB=IBD200.groupby('LibraryMatch_and_DirectParent')['importance'].sum().to_frame().sort_values(by='importance',ascending=False)"
   ]
  },
  {
   "cell_type": "code",
   "execution_count": 139,
   "metadata": {},
   "outputs": [],
   "source": [
    "UC40MB.rename(columns={'importance':'Importance (Cohort1)'},inplace=True)\n",
    "IBD200MB.rename(columns={'importance':'Importance (Cohort2)'},inplace=True)\n",
    "\n",
    "MBtab=UC40MB.merge(IBD200MB,left_on='LibraryMatch_and_DirectParent',right_on='LibraryMatch_and_DirectParent',how='outer')\n",
    "MBtab['Importance (Cohort1)'] = MBtab['Importance (Cohort1)']/MBtab['Importance (Cohort1)'].sum()\n",
    "MBtab['Importance (Cohort2)'] = MBtab['Importance (Cohort2)']/MBtab['Importance (Cohort2)'].sum()\n",
    "MBtab=MBtab.fillna(0)"
   ]
  },
  {
   "cell_type": "code",
   "execution_count": 141,
   "metadata": {},
   "outputs": [],
   "source": [
    "MBtab['Importance Sum'] = MBtab['Importance (Cohort1)']+MBtab['Importance (Cohort2)']\n",
    "MBtab=MBtab.sort_values(by='Importance Sum',ascending=False)[0:100]"
   ]
  },
  {
   "cell_type": "code",
   "execution_count": 148,
   "metadata": {},
   "outputs": [],
   "source": [
    "MBtab.to_csv('./Top100_MB_CombinedCohorts.csv')"
   ]
  },
  {
   "cell_type": "code",
   "execution_count": 154,
   "metadata": {},
   "outputs": [
    {
     "name": "stderr",
     "output_type": "stream",
     "text": [
      "/Users/rhmills/miniconda3/envs/qiime2-2019.7/lib/python3.6/site-packages/ipykernel_launcher.py:6: FutureWarning: read_table is deprecated, use read_csv instead, passing sep='\\t'.\n",
      "  \n"
     ]
    }
   ],
   "source": [
    "collation = []\n",
    "\n",
    "for i in range(1, 100):\n",
    "    if os.path.exists('Serum_Proteins/%s' % str(i)):\n",
    "        results_path = os.path.join('Serum_Proteins/%s' % str(i), 'features', 'importance.tsv')\n",
    "        collation.append(pd.read_table(results_path))\n",
    "collation = pd.concat(collation)\n",
    "collation2=collation.groupby('feature')['importance'].sum()\n",
    "UC40=collation2.to_frame().sort_values(by='importance',ascending=False)"
   ]
  },
  {
   "cell_type": "code",
   "execution_count": 158,
   "metadata": {},
   "outputs": [],
   "source": [
    "ann = pd.read_csv('../Serum/All_uniprot_annotations.txt',sep='\\t')\n",
    "UC40=UC40.merge(ann,left_index=True,right_on='Entry')\n",
    "UC40.index=UC40['Entry']\n"
   ]
  },
  {
   "cell_type": "code",
   "execution_count": 161,
   "metadata": {},
   "outputs": [],
   "source": [
    "UC40[0:100].to_csv('./Top100_SerumProteins_UC1.csv')"
   ]
  },
  {
   "cell_type": "code",
   "execution_count": 9,
   "metadata": {},
   "outputs": [
    {
     "name": "stderr",
     "output_type": "stream",
     "text": [
      "/Users/rhmills/miniconda3/envs/qiime2-2019.7/lib/python3.6/site-packages/ipykernel_launcher.py:6: FutureWarning: read_table is deprecated, use read_csv instead, passing sep='\\t'.\n",
      "  \n"
     ]
    }
   ],
   "source": [
    "collation = []\n",
    "\n",
    "for i in range(1, 100):\n",
    "    if os.path.exists('IBD200/Combined2/%s' % str(i)):\n",
    "        results_path = os.path.join('IBD200/Combined2/%s' % str(i), 'features', 'importance.tsv')\n",
    "        collation.append(pd.read_table(results_path))\n",
    "collation = pd.concat(collation)\n",
    "collation2=collation.groupby('feature')['importance'].sum()\n",
    "IBD200=collation2.to_frame().sort_values(by='importance',ascending=False)"
   ]
  },
  {
   "cell_type": "code",
   "execution_count": 35,
   "metadata": {},
   "outputs": [
    {
     "name": "stderr",
     "output_type": "stream",
     "text": [
      "/Users/rhmills/miniconda3/envs/qiime2-2019.7/lib/python3.6/site-packages/ipykernel_launcher.py:6: FutureWarning: read_table is deprecated, use read_csv instead, passing sep='\\t'.\n",
      "  \n"
     ]
    }
   ],
   "source": [
    "collation = []\n",
    "\n",
    "for i in range(1, 100):\n",
    "    if os.path.exists('allfeatgotu_Norm/%s' % str(i)):\n",
    "        results_path = os.path.join('allfeatgotu_Norm/%s' % str(i), 'features', 'importance.tsv')\n",
    "        collation.append(pd.read_table(results_path))\n",
    "collation = pd.concat(collation)\n",
    "collation2=collation.groupby('feature')['importance'].sum()\n",
    "UC40=collation2.to_frame().sort_values(by='importance',ascending=False)"
   ]
  },
  {
   "cell_type": "code",
   "execution_count": 59,
   "metadata": {},
   "outputs": [
    {
     "name": "stderr",
     "output_type": "stream",
     "text": [
      "/Users/rhmills/miniconda3/envs/qiime2-2019.7/lib/python3.6/site-packages/IPython/core/interactiveshell.py:3058: DtypeWarning: Columns (10,22,31,36,37,44) have mixed types. Specify dtype option on import or set low_memory=False.\n",
      "  interactivity=interactivity, compiler=compiler, result=result)\n",
      "/Users/rhmills/miniconda3/envs/qiime2-2019.7/lib/python3.6/site-packages/IPython/core/interactiveshell.py:3058: DtypeWarning: Columns (7,24) have mixed types. Specify dtype option on import or set low_memory=False.\n",
      "  interactivity=interactivity, compiler=compiler, result=result)\n"
     ]
    }
   ],
   "source": [
    "#Annotate IBD200 top hits:\n",
    "UC_MB=pd.read_csv('../Metabolomics/StandardizedMzMIne2020Rerun/UC40_MB_Annotations.txt',sep='\\t',index_col='rowID')\n",
    "IBD_MB=pd.read_csv('../../IBD200/Metabolomics/Qemistree_IDs.txt',sep='\\t',index_col='rowid')\n",
    "UC_16S=pd.read_csv('../Genomics/16S/Taxonomy_metadata.tsv',sep='\\t',index_col='Feature ID')\n",
    "IBD_16S=pd.read_csv('./IBD20016STaxonomy.tsv/taxonomy.tsv',sep='\\t',index_col='Feature ID')\n",
    "UC_Serum= pd.read_csv('../Serum/All_uniprot_annotations.txt',sep='\\t',index_col='Entry')\n",
    "MG=pd.read_csv('../../IBD200/lineage.txt',sep='\\t',header=None)\n",
    "MG.rename(columns={0:'gOTU',1:'Lineage'},inplace=True)\n",
    "MG.index=MG['gOTU']\n",
    "UC_MP=pd.read_csv('../../IBD200/Metagenomics/MGDB/UC40_Full_Protein_Annotations_All_hitsV2.csv',index_col='queryID')\n",
    "IBD_MP=pd.read_csv('../../IBD200/Metagenomics/MGDB/MGDB_Full_Protein_Annotations_AllProteomic_hits2.csv',index_col='queryID')"
   ]
  },
  {
   "cell_type": "code",
   "execution_count": 62,
   "metadata": {},
   "outputs": [],
   "source": [
    "UC_MB['Feature']=UC_MB.index\n",
    "IBD_MB['Feature']=IBD_MB.index\n",
    "IBD_MB['Feature']=IBD_MB['Feature'].astype('str')\n",
    "UC_16S['Feature']=UC_16S.index\n",
    "IBD_16S['Feature']=IBD_16S.index\n",
    "UC_Serum['Feature']=UC_Serum.index\n",
    "MG['Feature']=MG.index\n",
    "UC_MP['Feature']=UC_MP.index\n",
    "IBD_MP['Feature']=IBD_MP.index\n",
    "UC_MP['Feature']= UC_MP['Feature']+'_MP'"
   ]
  },
  {
   "cell_type": "code",
   "execution_count": 64,
   "metadata": {},
   "outputs": [
    {
     "data": {
      "text/html": [
       "<div>\n",
       "<style scoped>\n",
       "    .dataframe tbody tr th:only-of-type {\n",
       "        vertical-align: middle;\n",
       "    }\n",
       "\n",
       "    .dataframe tbody tr th {\n",
       "        vertical-align: top;\n",
       "    }\n",
       "\n",
       "    .dataframe thead th {\n",
       "        text-align: right;\n",
       "    }\n",
       "</style>\n",
       "<table border=\"1\" class=\"dataframe\">\n",
       "  <thead>\n",
       "    <tr style=\"text-align: right;\">\n",
       "      <th></th>\n",
       "      <th>importance</th>\n",
       "      <th>csi_smiles</th>\n",
       "      <th>ms2_smiles</th>\n",
       "      <th>ms2_library_match</th>\n",
       "      <th>parent_mass</th>\n",
       "      <th>retention_time</th>\n",
       "      <th>table_number</th>\n",
       "      <th>smiles</th>\n",
       "      <th>structure_source</th>\n",
       "      <th>kingdom</th>\n",
       "      <th>superclass</th>\n",
       "      <th>class</th>\n",
       "      <th>subclass</th>\n",
       "      <th>direct_parent</th>\n",
       "      <th>Feature</th>\n",
       "    </tr>\n",
       "  </thead>\n",
       "  <tbody>\n",
       "  </tbody>\n",
       "</table>\n",
       "</div>"
      ],
      "text/plain": [
       "Empty DataFrame\n",
       "Columns: [importance, csi_smiles, ms2_smiles, ms2_library_match, parent_mass, retention_time, table_number, smiles, structure_source, kingdom, superclass, class, subclass, direct_parent, Feature]\n",
       "Index: []"
      ]
     },
     "execution_count": 64,
     "metadata": {},
     "output_type": "execute_result"
    }
   ],
   "source": [
    "IBD200.merge(IBD_MB,left_index=True,right_index=True)"
   ]
  },
  {
   "cell_type": "code",
   "execution_count": 65,
   "metadata": {},
   "outputs": [
    {
     "name": "stderr",
     "output_type": "stream",
     "text": [
      "/Users/rhmills/miniconda3/envs/qiime2-2019.7/lib/python3.6/site-packages/ipykernel_launcher.py:1: FutureWarning: Sorting because non-concatenation axis is not aligned. A future version\n",
      "of pandas will change to not sort by default.\n",
      "\n",
      "To accept the future behavior, pass 'sort=False'.\n",
      "\n",
      "To retain the current behavior and silence the warning, pass 'sort=True'.\n",
      "\n",
      "  \"\"\"Entry point for launching an IPython kernel.\n",
      "/Users/rhmills/miniconda3/envs/qiime2-2019.7/lib/python3.6/site-packages/ipykernel_launcher.py:2: FutureWarning: Sorting because non-concatenation axis is not aligned. A future version\n",
      "of pandas will change to not sort by default.\n",
      "\n",
      "To accept the future behavior, pass 'sort=False'.\n",
      "\n",
      "To retain the current behavior and silence the warning, pass 'sort=True'.\n",
      "\n",
      "  \n"
     ]
    }
   ],
   "source": [
    "UC_Ann=pd.concat([UC_MB,UC_16S,UC_Serum,MG,UC_MP])\n",
    "IBD_Ann=pd.concat([IBD_MB,IBD_16S,MG,IBD_MP])"
   ]
  },
  {
   "cell_type": "code",
   "execution_count": 43,
   "metadata": {},
   "outputs": [],
   "source": [
    "UC100_ann=UC40[0:100].merge(UC_Ann,left_index=True,right_on='Feature',how='left')"
   ]
  },
  {
   "cell_type": "code",
   "execution_count": 44,
   "metadata": {},
   "outputs": [],
   "source": [
    "UC100_ann.to_csv('./UC40_combined_top100_annotated.csv')"
   ]
  },
  {
   "cell_type": "code",
   "execution_count": 67,
   "metadata": {},
   "outputs": [],
   "source": [
    "IBD100_ann=IBD200[0:100].merge(IBD_Ann,left_index=True,right_on='Feature',how='left')"
   ]
  },
  {
   "cell_type": "code",
   "execution_count": 68,
   "metadata": {},
   "outputs": [],
   "source": [
    "IBD100_ann.to_csv('./IBD200_combined_top100_annotated.csv')"
   ]
  },
  {
   "cell_type": "code",
   "execution_count": 49,
   "metadata": {},
   "outputs": [],
   "source": [
    "IBD100_ann=IBD200.merge(IBD_Ann,left_index=True,right_on='Feature',how='left')\n",
    "IBD100_ann.to_csv('./IBD200_combined_all_annotated.csv')"
   ]
  },
  {
   "cell_type": "code",
   "execution_count": null,
   "metadata": {},
   "outputs": [],
   "source": []
  }
 ],
 "metadata": {
  "kernelspec": {
   "display_name": "Python 3",
   "language": "python",
   "name": "python3"
  },
  "language_info": {
   "codemirror_mode": {
    "name": "ipython",
    "version": 3
   },
   "file_extension": ".py",
   "mimetype": "text/x-python",
   "name": "python",
   "nbconvert_exporter": "python",
   "pygments_lexer": "ipython3",
   "version": "3.6.7"
  }
 },
 "nbformat": 4,
 "nbformat_minor": 2
}
