{
 "cells": [
  {
   "cell_type": "markdown",
   "metadata": {
    "collapsed": true
   },
   "source": [
    "<b> This notebook performs a mantel test to determine the correlations between each of the PCoAs generated for this project </b>\n",
    "\n",
    "Notebook by YB & RM\n",
    "\n",
    "Environment - Qiime2 2018.4"
   ]
  },
  {
   "cell_type": "code",
   "execution_count": null,
   "metadata": {},
   "outputs": [],
   "source": [
    "%matplotlib inline\n",
    "import qiime2 as q2\n",
    "import seaborn as sns, numpy as np\n",
    "from skbio import DistanceMatrix\n",
    "from skbio.stats.distance import mantel\n",
    "import pandas as pd"
   ]
  },
  {
   "cell_type": "code",
   "execution_count": 58,
   "metadata": {
    "collapsed": true
   },
   "outputs": [],
   "source": [
    "# /Users/rhmills/Documents/Thesis Work/UC_Severity\n",
    "PREPS = {\n",
    "    'Serum Proteomics': 'core-metrics-results_Serum/bray_curtis_distance_matrix.qza',\n",
    "    'Metabolomics': 'pDB_Proteomics/core-metrics-results_Metabolomics/bray_curtis_distance_matrix.qza',\n",
    "    'Metaproteomics': 'pDB_Proteomics/core-metrics-results_2search/bray_curtis_distance_matrix.qza',\n",
    "    #'Metagenomics': 'core-metrics-results_MG/bray_curtis_distance_matrix.qza',\n",
    "    'Metagenomics': 'core-metrics-results-MGall13000/unweighted_unifrac_distance_matrix.qza',\n",
    "    #'16S': 'Genomics/16S/core-metrics-results_idswap2_newmetadata/unweighted_unifrac_distance_matrix.qza'\n",
    "    #'16S': 'Genomics/16S/core-metrics-results_idswap2_newmetadata/bray_curtis_distance_matrix.qza'\n",
    "    '16S':'Genomics/16S/core-metrics-results_idswap2_newmetadata_allsamples/unweighted_unifrac_distance_matrix.qza'\n",
    "    #'16S':'Genomics/16S/core-metrics-results_idswap2_newmetadata_allsamples/bray_curtis_distance_matrix.qza'\n",
    "}"
   ]
  },
  {
   "cell_type": "code",
   "execution_count": 59,
   "metadata": {
    "collapsed": true
   },
   "outputs": [],
   "source": [
    "dms = {}\n",
    "for prep, path in PREPS.items():\n",
    "    dms[prep] = q2.Artifact.load(path).view(DistanceMatrix)\n",
    "    \n",
    "# fix the sample ids for the 16S\n",
    "dms['16S'].ids = [i.replace('11549.', '') for i in dms['16S'].ids]\n",
    "\n",
    "corr = pd.DataFrame(columns=dms.keys(), index=dms.keys(), dtype=np.float)"
   ]
  },
  {
   "cell_type": "markdown",
   "metadata": {
    "collapsed": true
   },
   "source": [
    "#Two samples, H6 and L16, were removed from 16S PCoA analysis because they did not meet rarefaction requirements \n",
    "#of <5000 - should be resolved in the allsamples file\n",
    "shared = set()\n",
    "for prep, dm in dms.items():\n",
    "    if len(shared) == 0:\n",
    "        shared = set(dm.ids)\n",
    "    else:\n",
    "        shared &= set(dm.ids)\n",
    "\n",
    "dms = {prep: dm.filter(shared) for prep, dm in  dms.items()}"
   ]
  },
  {
   "cell_type": "code",
   "execution_count": 62,
   "metadata": {},
   "outputs": [
    {
     "data": {
      "text/plain": [
       "40"
      ]
     },
     "execution_count": 62,
     "metadata": {},
     "output_type": "execute_result"
    }
   ],
   "source": [
    "len(shared)"
   ]
  },
  {
   "cell_type": "code",
   "execution_count": 63,
   "metadata": {
    "collapsed": true
   },
   "outputs": [],
   "source": [
    "from itertools import combinations\n",
    "\n",
    "for prep_a, prep_b in combinations(dms.keys(), 2):\n",
    "    r, p, n = mantel(dms[prep_a], dms[prep_b])\n",
    "    \n",
    "    corr.loc[prep_a, prep_b] = r\n",
    "    corr.loc[prep_b, prep_a] = r"
   ]
  },
  {
   "cell_type": "code",
   "execution_count": 64,
   "metadata": {
    "collapsed": true
   },
   "outputs": [],
   "source": [
    "corr = corr.sort_values(by = ['Serum Proteomics', 'Metabolomics', 'Metagenomics', 'Metaproteomics', '16S'])\n",
    "corr = corr.sort_values(by = ['Serum Proteomics', 'Metabolomics', 'Metagenomics', 'Metaproteomics', '16S'], axis = 1)"
   ]
  },
  {
   "cell_type": "code",
   "execution_count": 65,
   "metadata": {},
   "outputs": [
    {
     "data": {
      "image/png": "[encoded data removed]",
      "text/plain": [
       "<Figure size 432x288 with 2 Axes>"
      ]
     },
     "metadata": {},
     "output_type": "display_data"
    }
   ],
   "source": [
    "# Generate a mask for the upper triangle\n",
    "mask = np.zeros_like(corr, dtype=np.bool)\n",
    "mask[np.triu_indices_from(mask)] = True\n",
    "\n",
    "# Draw the heatmap with the mask and correct aspect ratio viridis\n",
    "plot1 = sns.heatmap(corr, mask=mask, cmap='Reds', annot = True,\n",
    "            square=True, linewidths=.5, cbar_kws={\"shrink\": .5}).get_figure()\n",
    "\n",
    "plot1.savefig('./pdfs/Omics_Heatmap_UniFracMGs.pdf')"
   ]
  },
  {
   "cell_type": "code",
   "execution_count": null,
   "metadata": {
    "collapsed": true
   },
   "outputs": [],
   "source": []
  },
  {
   "cell_type": "code",
   "execution_count": null,
   "metadata": {
    "collapsed": true
   },
   "outputs": [],
   "source": []
  }
 ],
 "metadata": {
  "anaconda-cloud": {},
  "kernelspec": {
   "display_name": "Python 3",
   "language": "python",
   "name": "python3"
  },
  "language_info": {
   "codemirror_mode": {
    "name": "ipython",
    "version": 3
   },
   "file_extension": ".py",
   "mimetype": "text/x-python",
   "name": "python",
   "nbconvert_exporter": "python",
   "pygments_lexer": "ipython3",
   "version": "3.5.5"
  }
 },
 "nbformat": 4,
 "nbformat_minor": 2
}
