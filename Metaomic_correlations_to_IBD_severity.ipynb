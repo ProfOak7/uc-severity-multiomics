{
 "cells": [
  {
   "cell_type": "markdown",
   "metadata": {},
   "source": [
    "## Meta -omic correlations to IBD severity"
   ]
  },
  {
   "cell_type": "markdown",
   "metadata": {},
   "source": [
    "11/03/2020<br>\n",
    "Author: Robert Mills<br>\n",
    "Environment: Qiime2-2019.7<br>\n",
    "<br>\n",
    "<i>This notebook contains code for reproducing several figures related to meta -omic associations to IBD from the manuscript, <b> \"Meta–omics Reveals Microbiome Driven Proteolysis as a Contributing Factor to Severity of Ulcerative Colitis Disease Activity\" </b>by Mills et al. <br><br>\n",
    "Data sheets used here will be made available on Massive.ucsd.edu"
   ]
  },
  {
   "cell_type": "code",
   "execution_count": 1,
   "metadata": {},
   "outputs": [],
   "source": [
    "#Import dependencies\n",
    "import math\n",
    "import re\n",
    "\n",
    "import matplotlib.pyplot as plt\n",
    "import numpy as np\n",
    "import pandas as pd\n",
    "import scipy.stats as stats\n",
    "import seaborn as sns\n",
    "import sys\n",
    "import scipy\n",
    "from scipy.stats import linregress\n",
    "from matplotlib_venn import venn2"
   ]
  },
  {
   "cell_type": "code",
   "execution_count": 2,
   "metadata": {},
   "outputs": [],
   "source": [
    "#Makes figures with white background\n",
    "sns.set_style(\"whitegrid\")\n",
    "#Allows visualization within the ipython notebook format\n",
    "%matplotlib inline"
   ]
  },
  {
   "cell_type": "code",
   "execution_count": 3,
   "metadata": {},
   "outputs": [],
   "source": [
    "#Optional for disabling warnings\n",
    "if not sys.warnoptions:\n",
    "    import warnings\n",
    "    warnings.simplefilter(\"ignore\")"
   ]
  },
  {
   "cell_type": "code",
   "execution_count": null,
   "metadata": {},
   "outputs": [],
   "source": [
    "#Option for re-enabling warnings\n",
    "if not sys.warnoptions:\n",
    "    import warnings\n",
    "    warnings.simplefilter(\"default\")"
   ]
  },
  {
   "cell_type": "markdown",
   "metadata": {},
   "source": [
    "#### User defined functions"
   ]
  },
  {
   "cell_type": "code",
   "execution_count": 4,
   "metadata": {},
   "outputs": [],
   "source": [
    "def LinearRegressions(df,metadata,variable):\n",
    "    \"\"\"\n",
    "    This function will perform linear regressions on all features in a dataframe. Each row is a feature and each column is a sample. The function appends appends new columns for the stats associated with the linear regression.\n",
    "    A mask is in place to detect missing values, and remove them from the regression. The fraction of samples missing the feature is listed as an additional column.\n",
    "\n",
    "\n",
    "    \n",
    "    Parameters\n",
    "    ----------\n",
    "    df : pd.DataFrame\n",
    "    metadata : pd.DataFrame\n",
    "    variable: String\n",
    "\n",
    "    Returns\n",
    "    -------\n",
    "    Dataframe with stats on linear regressions\n",
    "    \"\"\"\n",
    "    \n",
    "    samples = list(df.columns)\n",
    "    meta2 = metadata[metadata.index.isin(samples)]\n",
    "\n",
    "    #Remove non-numeric samples\n",
    "    meta3 =\tmeta2[pd.to_numeric(meta2[variable], errors='coerce').notnull()]\n",
    "    samples2 = list(meta3.index)\n",
    "    df2 = df[samples2]\n",
    "\n",
    "    df2.loc['%s'%(variable)] = meta3[variable].astype('float')\n",
    "\n",
    "    #Order patients by the variable & add linregress stats\n",
    "    Order = list(meta3[variable].sort_values().index)\n",
    "    linregstats =['slope','intercept','rvalue','pvalue','stderr']\n",
    "    for i in linregstats:\n",
    "        Order.append(i)\n",
    "\n",
    "    #Reindex to sort the data columns\n",
    "    df2 = df2.reindex(columns = Order)\n",
    "\n",
    "    #Remove the features that have no values (or are a missing value)\n",
    "    df2 = df2.dropna(axis=0,how='all')\n",
    "    df2 = df2.loc[df2.index.dropna()]\n",
    "\n",
    "    #Apply linear regressions to the variable\n",
    "    slope = []\n",
    "    intercept = []\n",
    "    rvalue = []\n",
    "    pvalue = []\n",
    "    stderr = []\n",
    "    sparsity = []\n",
    "\n",
    "    for i in df2.index:\n",
    "        a = df2.loc[i]\n",
    "        b = df2.loc[variable]\n",
    "        mask = ~np.isnan(df2.loc[i]) & ~np.isnan(df2.loc[variable])\n",
    "        linres = linregress(a[mask],b[mask])\n",
    "        #linres = linregress(a[samples],b[samples])\n",
    "        slope.append(linres.slope)\n",
    "        intercept.append(linres.intercept)\n",
    "        rvalue.append(linres.rvalue)\n",
    "        pvalue.append(linres.pvalue)\n",
    "        stderr.append(linres.stderr)\n",
    "        sparsity.append((np.isnan(df2[samples2].loc[i])).astype(int).sum()/len(a[samples2]))\n",
    "    df2['slope'] = slope\n",
    "    df2['intercept'] = intercept\n",
    "    df2['rvalue'] = rvalue\n",
    "    df2['pvalue'] = pvalue\n",
    "    df2['stderr'] = stderr\n",
    "    df2['sparsity_prcnt'] = sparsity\n",
    "\n",
    "    global df_out\n",
    "    df_out = df2  \n",
    "    return 'Linear regressions performed on %s. New dataframe stored as \"df_out\"'%(variable)"
   ]
  },
  {
   "cell_type": "code",
   "execution_count": 158,
   "metadata": {},
   "outputs": [],
   "source": [
    "def PlotByCategory_MultiSampleGroups2(df,lists,Taxa_col,category,metadata,display_number,save_descrip,human=\"True\",col_order=False):\n",
    "    \"\"\"\n",
    "    This function allows you to average the abundance of a category by the levels within that category\n",
    "    and plot stacked barplots of the relative abundance of the x most abundant groups within \n",
    "    each level. Can handle multiple groups of samples input into lists\n",
    "    \n",
    "    Parameters\n",
    "    ----------\n",
    "    df : pd.DataFrame\n",
    "    lists: list\n",
    "    Taxa_col : String\n",
    "    Sparcity: np.float\n",
    "    variable : Name of variable you're comparing ratios of\n",
    "    display_number: np.integer\n",
    "    human: String\n",
    "    save_descrip : String\n",
    "    col_order : list\n",
    "\n",
    "    Returns\n",
    "    -------\n",
    "    pdf visualization\n",
    "    global of Others and top_list for input into other functions\n",
    "    \"\"\"\n",
    "    global Others\n",
    "    global top_list\n",
    "    \n",
    "    num_lists = len(lists)\n",
    "    all_samples = []\n",
    "    for i in lists:\n",
    "        for j in i:\n",
    "            all_samples.append(j)\n",
    "\n",
    "    df_all = df[all_samples].groupby(df['%s' % Taxa_col]).agg(['sum'])\n",
    "    \n",
    "    #Find the sum per variable\n",
    "    df_all['sum'] = df_all.sum(axis=1)\n",
    "        \n",
    "    #Find the most abundantly entry within the variable, group others\n",
    "    top_list = list(df_all.sort_values('sum', ascending=False)[0:display_number].index)\n",
    "    Others = set(df_all.index) - set(top_list)\n",
    "    top_list.append('Others')\n",
    "\n",
    "    #A dictionary of dataframes will be needed to store all summed dataframes:\n",
    "    #df_dict = {}\n",
    "\n",
    "    #Initialize the figure\n",
    "    figlength = num_lists*1.75\n",
    "    fig, axes = plt.subplots(nrows=num_lists,ncols=1,figsize=(1.25,figlength))\n",
    "    \n",
    "    for num, i in enumerate(lists, start=1):       \n",
    "        #Sum your dataframe by a category of interest \n",
    "        dfcategories = df[i].groupby(df['%s' % Taxa_col]).agg(['sum'])\n",
    "        #Restructure the columns which become multilevel with the sum function                  \n",
    "        dfcategories.columns = dfcategories.columns.droplevel(1)\n",
    "\n",
    "        if human != \"True\":\n",
    "            dfcategories.drop('Homo sapiens (Human)', inplace=True)   \n",
    "        \n",
    "        #Save the postive and negative correlations per genera or eggNOG category\n",
    "        counts = dfcategories\n",
    "        \n",
    "        #Find averages according to the levels in a category of interest\n",
    "        \n",
    "        #subset metadata to only list with patients of interest\n",
    "        metadata.index = metadata.index.astype('str')\n",
    "        meta2 = metadata.loc[i]\n",
    "        #Identify the levels within the metadata category\n",
    "        levels_list = list(meta2[category].drop_duplicates().sort_values())\n",
    "        #Add new column for patients regarding the level of the category of interest.\n",
    "        counts.loc['%s' % category] = metadata['%s' % category]\n",
    "\n",
    "        #Create a new column averaging by the levels within the category\n",
    "        col_list = []\n",
    "        \n",
    "        ##NOTE - THIS STEP MAY BE REORDERING LIST SHOULD CHECK\n",
    "        for j in levels_list:\n",
    "            a = counts[i].T\n",
    "            patients_in = []\n",
    "            patients_in = list(a[a[category] == j].index.astype('str'))\n",
    "            b = counts[patients_in].drop(category)\n",
    "            b = b.astype('float')\n",
    "            counts['%s' % j] = b[patients_in].mean(axis=1)\n",
    "            col_list.append('%s' % (j))\n",
    "        \n",
    "\n",
    "        counts.loc['Others'] = counts.loc[Others].sum()\n",
    "        plot_df = counts[col_list]\n",
    "        plot_df = plot_df.loc[top_list]\n",
    "\n",
    "        #Convert to ratio for display\n",
    "        for i in col_list:\n",
    "            plot_df[i] = plot_df[i]/plot_df[i].sum()\n",
    "        \n",
    "        plot_df = plot_df[col_list]\n",
    "        \n",
    "        #Remove index name\n",
    "        del plot_df.index.name\n",
    "        \n",
    "        #Transpose\n",
    "        plot_df = plot_df.transpose()\n",
    "        #Get the dates in the correct order\n",
    "        if col_order != False:\n",
    "            plot_df = plot_df.reindex(col_order)\n",
    "        #Get variable into an order which depends on the abundance of each variable for easier interpretation\n",
    "        #plot_df = plot_df[plot_df.sum().sort_values(ascending = False).index]\n",
    "        #df_dict['Group_list%s' % (num)] = plot_df\n",
    "        \n",
    "        axenum = num-1\n",
    "        plot1 = plot_df.plot(kind='bar', ax=axes[axenum], width = 0.8, stacked=True, colors=['black','red','white'], title='')\n",
    "        #plot1.get_xaxis().set_ticklabels([])\n",
    "        plot1.get_legend().remove()\n",
    "    fig.autofmt_xdate(rotation = 90, ha = 'center')\n",
    "    plot1.legend(loc='center left', bbox_to_anchor=(1, 0.5))\n",
    "    fig.tight_layout()\n",
    "    fig.savefig('Barplot_of_%s_by_%s_%s.pdf' %(Taxa_col,category,save_descrip),bbox_inches=\"tight\")\n",
    "    "
   ]
  },
  {
   "cell_type": "code",
   "execution_count": 5,
   "metadata": {},
   "outputs": [],
   "source": [
    "def TaxaRatioCompareSigLevelGroups(df_dict,sig_level,Taxa_col,variable,Sparsity,display_number,save_descrip,human=\"True\",relative=\"True\"):\n",
    "    \"\"\"\n",
    "    This function combines several lines of code to speed up comparative analyses between two data sets.\n",
    "    Input the data frames you want to compare and the name of the taxonomic level under Taxa.\n",
    "    \n",
    "    Parameters\n",
    "    ----------\n",
    "    df_dict : pd.dict\n",
    "    Taxa_col : String\n",
    "    sig_level : np.float\n",
    "    Sparcity: np.float\n",
    "    variable : Name of variable you're comparing ratios of\n",
    "    display_number: np.integer\n",
    "    human: String\n",
    "    relative: String\n",
    "    save_descrip : String\n",
    "\n",
    "    Returns\n",
    "    -------\n",
    "    Plot of the composition of significant proteins.\n",
    "    \"\"\"\n",
    "    num_df = len(df_dict)\n",
    "    \n",
    "    #Combine all of the proteins in the dictionary and find most common categories\n",
    "    df_concat = pd.concat(df_dict)\n",
    "\n",
    "    #Remove spurious correlations with high sparsity\n",
    "    df_sig = df_concat[df_concat['sparsity_prcnt'] < Sparsity]\n",
    "\n",
    "    #Subset out the significant positive and negative correlations\n",
    "    Cal_neg = df_sig[df_sig['rvalue'] < -sig_level]\n",
    "    Cal_pos = df_sig[df_sig['rvalue'] > sig_level]    \n",
    "\n",
    "    Cal_neg['%s_Pos' % variable] = 0\n",
    "    Cal_pos['%s_Pos' % variable] = 1\n",
    "    Cal_neg['%s_Neg' % variable] = 1\n",
    "    Cal_pos['%s_Neg' % variable] = 0\n",
    "    \n",
    "    df_sig = pd.concat([Cal_neg, Cal_pos])\n",
    "    \n",
    "    #Sum by category\n",
    "\n",
    "    #Use this for summing by taxonomy\n",
    "    dfcategories = df_sig[['%s_Neg' % variable,'%s_Pos' % variable]].groupby(df_sig['%s' % Taxa_col]).agg(['sum'])\n",
    "    dfcategories.columns = dfcategories.columns.droplevel(1)\n",
    "\n",
    "    if human != \"True\":\n",
    "        dfcategories.drop('Homo', inplace=True)\n",
    "\n",
    "    #Save the postive and negative correlations per genera or eggNOG category\n",
    "    counts = dfcategories\n",
    "\n",
    "    #Find the sum per variable\n",
    "    counts['sum'] = counts.sum(axis=1)\n",
    "\n",
    "    #Find the most abundantly correlated entry within the variable, group others\n",
    "    top_list = list(counts.sort_values('sum', ascending=False)[0:display_number].index)\n",
    "    Others = set(counts.index) - set(top_list)\n",
    "    counts.loc['Others'] = counts.loc[Others].sum()\n",
    "    top_list.append('Others')\n",
    "\n",
    "    figwidth = num_df*2\n",
    "    fig, axes = plt.subplots(nrows=1,ncols=num_df,figsize=(figwidth,3))\n",
    "    \n",
    "    for num, i in enumerate(df_dict, start=1):      \n",
    "        #Remove spurious correlations with high sparsity\n",
    "        df_sig = df_dict[i][df_dict[i]['sparsity_prcnt'] < Sparsity]\n",
    "\n",
    "        #Subset out the significant positive and negative correlations\n",
    "        Cal_neg = df_sig[df_sig['rvalue'] < -sig_level]\n",
    "        Cal_pos = df_sig[df_sig['rvalue'] > sig_level]\n",
    "\n",
    "        #Subset out the significant positive and negative correlations MG\n",
    "        #Cal_neg2 = df2_sig[df2_sig['rvalue'] < 0]\n",
    "        #Cal_pos2 = df2_sig[df2_sig['rvalue'] > 0]\n",
    "\n",
    "\n",
    "        #pDB Use this code if you want to simply look at quantity of significant proteins\n",
    "        Cal_neg['%s_Pos' % variable] = 0\n",
    "        Cal_pos['%s_Pos' % variable] = 1\n",
    "        Cal_neg['%s_Neg' % variable] = 1\n",
    "        Cal_pos['%s_Neg' % variable] = 0\n",
    "\n",
    "        #MG Use this code if you want to simply look at quantity of significant proteins\n",
    "        #Cal_neg2['%s_Pos2' % variable] = 0\n",
    "        #Cal_pos2['%s_Pos2' % variable] = 1\n",
    "        #Cal_neg2['%s_Neg2' % variable] = 1\n",
    "        #Cal_pos2['%s_Neg2' % variable] = 0\n",
    "\n",
    "        df_sig = pd.concat([Cal_neg, Cal_pos])\n",
    "\n",
    "        #df_sig2 = pd.concat([Cal_neg2, Cal_pos2])\n",
    "\n",
    "        #Sum by category\n",
    "\n",
    "        #Use this for summing by taxonomy\n",
    "        dfcategories = df_sig[['%s_Neg' % variable,'%s_Pos' % variable]].groupby(df_sig['%s' % Taxa_col]).agg(['sum'])\n",
    "        dfcategories.columns = dfcategories.columns.droplevel(1)\n",
    "\n",
    "        #Use this for summing by taxonomy\n",
    "        #dfcategories2 = df_sig2[['%s_Neg2' % variable,'%s_Pos2' % variable]].groupby(df_sig2['%s' % Taxa_col]).agg(['sum'])\n",
    "        #dfcategories2.columns = dfcategories2.columns.droplevel(1)\n",
    "\n",
    "        if human != \"True\":\n",
    "            dfcategories.drop('Homo', inplace=True)\n",
    "\n",
    "\n",
    "        #Save the postive and negative correlations per genera or eggNOG category\n",
    "        counts = dfcategories\n",
    "\n",
    "        plot_df = counts.loc[top_list]\n",
    "\n",
    "        #Convert to ratio for display - switch comment activity for relative versus total correlations\n",
    "        plot_vars = ['%s_Neg' % variable,'%s_Pos' % variable]\n",
    "\n",
    "        if relative != \"True\":\n",
    "            pass\n",
    "        else:\n",
    "            for j in plot_vars:\n",
    "                plot_df[j] = plot_df[j]/plot_df[j].sum()\n",
    "\n",
    "        plot_df = plot_df[plot_vars]\n",
    "\n",
    "        #Transpose the plot to make it fit the code structure I'm following for the stacked bar chart\n",
    "\n",
    "        #Remove index name\n",
    "        del plot_df.index.name\n",
    "        #Transpose\n",
    "        plot_df = plot_df.transpose()\n",
    "        #Get the dates in the correct order\n",
    "        plot_df = plot_df.reindex(plot_vars)\n",
    "        #Get variable into an order which depends on the abundance of each variable for easier interpretation\n",
    "        plot_df = plot_df[top_list]\n",
    "        axenum = num-1   \n",
    "        plot1 = plot_df.plot(kind='bar', ax=axes[axenum], width = 0.8, stacked=True, colormap='tab20c', title='%s' %i)\n",
    "        #plot1.get_xaxis().set_ticklabels([])\n",
    "        plot1.get_legend().remove()\n",
    "    plot1.legend(loc='center left', bbox_to_anchor=(1, 0.5))\n",
    "    fig.tight_layout()\n",
    "    fig.savefig('Barplot_of_%s_correlations_at_%s_sparsity_%s.pdf' %(variable,Sparsity,save_descrip),bbox_inches=\"tight\")\n",
    "\n",
    "\n",
    "    \n",
    "    return 'New plot saved.'"
   ]
  },
  {
   "cell_type": "code",
   "execution_count": null,
   "metadata": {},
   "outputs": [],
   "source": [
    "def TaxaLogRatioCompareSigLevelGroupsCombine(df_dict,sig_level,Taxa_col,variable,Sparsity,\n",
    "                                             MinCount,human=\"True\",compareall=\"False\"):\n",
    "    \"\"\"\n",
    "    This function provides a dictionary of comparative analyses between \n",
    "    the groupings of significant features. Input a dictionary of different datasets to compare\n",
    "    under the same settings for significance level, sparsity and filtering human features.\n",
    "    Compare all switches between comparing only features above or below the absolute value\n",
    "    of the significance threshold or comparing all within a significance threshold to\n",
    "    the values below that threshold. Input the column of the category you want to compare in\n",
    "    \"Taxa_col\"\n",
    "    \n",
    "    Parameters\n",
    "    ----------\n",
    "    df_dict : pd.dict\n",
    "    Taxa_col : String\n",
    "    sig_level : np.float\n",
    "    Sparcity: np.float\n",
    "    variable : Name of variable you're comparing ratios of\n",
    "    display_number: np.integer\n",
    "    human: String\n",
    "    relative: String\n",
    "    save_descrip : String\n",
    "    MinCount : np.integer\n",
    "    compareall: String\n",
    "\n",
    "    Returns\n",
    "    -------\n",
    "    Plot of the composition of significant proteins.\n",
    "    \"\"\"\n",
    "    global ratio_dict\n",
    "    num_df = len(df_dict)\n",
    "\n",
    "    #figwidth = num_df*5\n",
    "    #fig, axes = plt.subplots(nrows=1,ncols=num_df,figsize=(figwidth,6))\n",
    "    \n",
    "    ratio_dict = {}\n",
    "    for num, i in enumerate(df_dict, start=1):      \n",
    "        #Remove spurious correlations with high sparsity\n",
    "        df_sig = df_dict[i][df_dict[i]['sparsity_prcnt'] < Sparsity]\n",
    "        \n",
    "        if compareall==\"False\":\n",
    "            #Subset out the significant positive and negative correlations\n",
    "            Cal_neg = df_sig[df_sig['rvalue'] < -abs(sig_level)]\n",
    "            Cal_pos = df_sig[df_sig['rvalue'] > abs(sig_level)]\n",
    "        else:\n",
    "            if sig_level > 0:\n",
    "                Cal_neg = df_sig[df_sig['rvalue'] < sig_level]\n",
    "                Cal_pos = df_sig[df_sig['rvalue'] >= sig_level]\n",
    "            else:\n",
    "                Cal_neg = df_sig[df_sig['rvalue'] <= sig_level]\n",
    "                Cal_pos = df_sig[df_sig['rvalue'] > sig_level]                  \n",
    "\n",
    "\n",
    "        #Subset out the significant positive and negative correlations MG\n",
    "        #Cal_neg2 = df2_sig[df2_sig['rvalue'] < 0]\n",
    "        #Cal_pos2 = df2_sig[df2_sig['rvalue'] > 0]\n",
    "\n",
    "\n",
    "        #pDB Use this code if you want to simply look at quantity of significant proteins\n",
    "        Cal_neg['%s_Pos' % variable] = 0\n",
    "        Cal_pos['%s_Pos' % variable] = 1\n",
    "        Cal_neg['%s_Neg' % variable] = 1\n",
    "        Cal_pos['%s_Neg' % variable] = 0\n",
    "\n",
    "        df_sig = pd.concat([Cal_neg, Cal_pos])\n",
    "\n",
    "        #Sum by category\n",
    "\n",
    "        #Use this for summing by taxonomy\n",
    "        dfcategories = df_sig[['%s_Neg' % variable,'%s_Pos' % variable]].groupby(df_sig['%s' % Taxa_col]).agg(['sum'])\n",
    "        dfcategories.columns = dfcategories.columns.droplevel(1)\n",
    "\n",
    "        dfcategories['sum'] = dfcategories['%s_Neg' % variable] + dfcategories['%s_Pos' % variable]\n",
    "\n",
    "\n",
    "        if human != \"True\":\n",
    "            dfcategories.drop('Homo sapiens (Human)', inplace=True)\n",
    "\n",
    "\n",
    "        #Save the postive and negative correlations per genera or eggNOG category\n",
    "        counts = dfcategories\n",
    "\n",
    "        #Add a Pseudocount of 1 so that the categories without anything are still shown\n",
    "        dfcategories = counts.replace(0,1)\n",
    "        \n",
    "        #Find the ratios necessary for calculating the ratio of ratios\n",
    "        dfcategories['%s_Percent_Neg' % variable] = \\\n",
    "        dfcategories['%s_Neg' % variable]/dfcategories['%s_Neg' % variable].sum()\n",
    "        dfcategories['%s_Percent_Pos' % variable] = \\\n",
    "        dfcategories['%s_Pos' % variable]/dfcategories['%s_Pos' % variable].sum()\n",
    "\n",
    "        dfcategories['%s_Ratio of Percentages (Pos/Neg)' % variable] = dfcategories['%s_Percent_Pos' % variable]/dfcategories['%s_Percent_Neg' % variable]\n",
    "        \n",
    "        dfcategories['Log(Pos/Neg)'] = np.log10(dfcategories['%s_Ratio of Percentages (Pos/Neg)' % variable])\n",
    "\n",
    "        dfcategories['Category'] = (\"%s\" % i)\n",
    "        dfcategories['#Proteins'] = dfcategories['sum'].astype('str')\n",
    "        #dfcategories = dfcategories.loc[top_list]\n",
    "        #dfcategories.index = dfcategories['Category and #Proteins']\n",
    "        df = dfcategories[dfcategories['sum'] > MinCount]\n",
    "        df = df.sort_values('Log(Pos/Neg)')\n",
    "        df.reset_index(inplace=True)\n",
    "        \n",
    "        ratio_dict[\"%s\"%i] = df\n",
    "\n",
    "\n",
    "    \n",
    "    return 'All ratio dataframes combined into \"ratio_dict\".'"
   ]
  },
  {
   "cell_type": "code",
   "execution_count": 76,
   "metadata": {},
   "outputs": [],
   "source": [
    "def PlotByCategory_MultiSampleGroups(df,lists,Taxa_col,category,metadata,display_number,save_descrip,human=\"True\",size=9):\n",
    "    \"\"\"\n",
    "    This function allows you to average the abundance of a category by the levels within that category\n",
    "    and plot stacked barplots of the relative abundance of the x most abundant groups within \n",
    "    each level. Can handle multiple groups of samples input into lists\n",
    "    \n",
    "    Parameters\n",
    "    ----------\n",
    "    df : pd.DataFrame\n",
    "    lists: list\n",
    "    Taxa_col : String\n",
    "    variable : Name of variable you're comparing ratios of\n",
    "    display_number: np.integer\n",
    "    human: String\n",
    "    save_descrip : String\n",
    "    size : np.integer\n",
    "\n",
    "    Returns\n",
    "    -------\n",
    "    pdf visualization\n",
    "    global of Others and top_list for input into other functions\n",
    "    \"\"\"\n",
    "    global Others\n",
    "    global top_list\n",
    "    \n",
    "    num_lists = len(lists)\n",
    "    all_samples = []\n",
    "    for i in lists:\n",
    "        for j in i:\n",
    "            all_samples.append(j)\n",
    "\n",
    "    df_all = df[all_samples].groupby(df['%s' % Taxa_col]).agg(['sum'])\n",
    "    \n",
    "    #Find the sum per variable\n",
    "    df_all['sum'] = df_all.sum(axis=1)\n",
    "        \n",
    "    #Find the most abundantly entry within the variable, group others\n",
    "    top_list = list(df_all.sort_values('sum', ascending=False)[0:display_number].index)\n",
    "    Others = set(df_all.index) - set(top_list)\n",
    "    top_list.append('Others')\n",
    "\n",
    "    #A dictionary of dataframes will be needed to store all summed dataframes:\n",
    "    #df_dict = {}\n",
    "\n",
    "    #Initialize the figure\n",
    "    figlength = num_lists*2\n",
    "    figwidth = 2*(size/9)\n",
    "    fig, axes = plt.subplots(nrows=num_lists,ncols=1,figsize=(figwidth,figlength))\n",
    "    \n",
    "    for num, i in enumerate(lists, start=1):       \n",
    "        #Sum your dataframe by a category of interest \n",
    "        dfcategories = df[i].groupby(df['%s' % Taxa_col]).agg(['sum'])\n",
    "        #Restructure the columns which become multilevel with the sum function                  \n",
    "        dfcategories.columns = dfcategories.columns.droplevel(1)\n",
    "\n",
    "        if human != \"True\":\n",
    "            dfcategories.drop('Homo', inplace=True)   \n",
    "        \n",
    "        #Save the postive and negative correlations per genera or eggNOG category\n",
    "        counts = dfcategories\n",
    "        \n",
    "        #Find averages according to the levels in a category of interest\n",
    "        \n",
    "        #subset metadata to only list with patients of interest\n",
    "        metadata.index = metadata.index.astype('str')\n",
    "        meta2 = metadata.loc[i]\n",
    "        #Identify the levels within the metadata category\n",
    "        levels_list = list(meta2[category].drop_duplicates().sort_values())\n",
    "        #Add new column for patients regarding the level of the category of interest.\n",
    "        counts.loc['%s' % category] = metadata['%s' % category]\n",
    "\n",
    "        #Create a new column averaging by the levels within the category\n",
    "        col_list = []\n",
    "        \n",
    "        ##NOTE - THIS STEP MAY BE REORDERING LIST SHOULD CHECK\n",
    "        for j in levels_list:\n",
    "            a = counts[i].T\n",
    "            patients_in = []\n",
    "            patients_in = list(a[a[category] == j].index.astype('str'))\n",
    "            b = counts[patients_in].drop(category)\n",
    "            b = b.astype('float')\n",
    "            counts['Patients_in_%s_%s_Average' % (category, j)] = b[patients_in].mean(axis=1)\n",
    "            col_list.append('Patients_in_%s_%s_Average' % (category, j))\n",
    "        \n",
    "\n",
    "        counts.loc['Others'] = counts.loc[Others].sum()\n",
    "        plot_df = counts[col_list]\n",
    "        plot_df = plot_df.loc[top_list]\n",
    "\n",
    "        #Convert to ratio for display\n",
    "        for i in col_list:\n",
    "            plot_df[i] = plot_df[i]/plot_df[i].sum()\n",
    "        \n",
    "        plot_df = plot_df[col_list]\n",
    "        \n",
    "        #Remove index name\n",
    "        del plot_df.index.name\n",
    "        \n",
    "        #Transpose\n",
    "        plot_df = plot_df.transpose()\n",
    "        #Get the dates in the correct order\n",
    "        #plot_df = plot_df.reindex(col_list)\n",
    "        #Get variable into an order which depends on the abundance of each variable for easier interpretation\n",
    "        #plot_df = plot_df[plot_df.sum().sort_values(ascending = False).index]\n",
    "        #df_dict['Group_list%s' % (num)] = plot_df\n",
    "        \n",
    "        axenum = num-1\n",
    "        plot1 = plot_df.plot(kind='bar', ax=axes[axenum], width = 0.8, stacked=True, colormap='tab20', title='')\n",
    "        plot1.get_xaxis().set_ticklabels([])\n",
    "        plot1.get_legend().remove()\n",
    "    plot1.legend(loc='center left', bbox_to_anchor=(1, 0.5))\n",
    "\n",
    "    fig.savefig('Barplot_of_%s_by_%s_%s.pdf' %(Taxa_col,category,save_descrip),bbox_inches=\"tight\")"
   ]
  },
  {
   "cell_type": "code",
   "execution_count": 102,
   "metadata": {},
   "outputs": [],
   "source": [
    "def DotPlotCategory(df,samples,Taxa_col,category,metadata,save_descrip,width=2):\n",
    "    \"\"\"\n",
    "    This function creates a dotplot based on the averages of a given category in a metadata file.\n",
    "\n",
    "    Parameters\n",
    "    ----------\n",
    "    df : pd.DataFrame\n",
    "    samples: list\n",
    "    Taxa_col : String\n",
    "    variable : String\n",
    "    display_number: np.integer\n",
    "    save_descrip : String\n",
    "    width : np.integer\n",
    "\n",
    "    Returns\n",
    "    -------\n",
    "    pdf visualization\n",
    "    \"\"\"\n",
    "    #A dictionary of dataframes will be needed to store all summed dataframes:\n",
    "    #df_dict = {}\n",
    "\n",
    "    #Initialize the figure\n",
    "    df2 = df[samples]\n",
    "    #convert to averages per category\n",
    "    #subset metadata to only list with patients of interest\n",
    "    metadata.index = metadata.index.astype('str')\n",
    "    meta2 = metadata.loc[samples]\n",
    "    #Identify the levels within the metadata category\n",
    "    \n",
    "    levels_list = list(meta2[category].drop_duplicates())\n",
    "    #Add new column for patients regarding the level of the category of interest.\n",
    "    df2.loc['%s' % category] = metadata['%s' % category]\n",
    "\n",
    "    #Create a new column averaging by the levels within the category\n",
    "    col_list = []\n",
    "    \n",
    "    ##NOTE - THIS STEP MAY BE REORDERING LIST SHOULD CHECK\n",
    "    for j in levels_list:\n",
    "        a = df2[samples].T\n",
    "        patients_in = []\n",
    "        patients_in = list(a[a[category] == j].index.astype('str'))\n",
    "        b = df2[patients_in].drop(category)\n",
    "        b = b.astype('float')\n",
    "        df2['Patients_in_%s_%s_Average' % (category, j)] = b[patients_in].mean(axis=1)\n",
    "        col_list.append('Patients_in_%s_%s_Average' % (category, j))\n",
    "\n",
    "    df2 = df2[col_list]\n",
    "\n",
    "    #Convert to ratio for display\n",
    "    for j in col_list:\n",
    "        df2[j] = df2[j]/df2[j].sum()\n",
    "    \n",
    "    df2 = df2[col_list]\n",
    "    \n",
    "    df2 = df2.T.reset_index()\n",
    "\n",
    "    df_melt = df2.melt(id_vars='index',value_vars=Taxa_col)\n",
    "    df_melt.rename(columns={'index':'Patient ID', 'value':'% MG Composition'}, inplace = True)\n",
    "    \n",
    "    fig_width = 2*(width/9)\n",
    "    fig, ax = plt.subplots(figsize = (fig_width,0.5))\n",
    "    sns.stripplot(x='Patient ID',y='% MG Composition',order=col_list, palette=['black'], data=df_melt).set(ylim=(0, 1))\n",
    "    fig.autofmt_xdate(rotation = 90, ha = 'center')\n",
    "    plt.savefig('Stripplot_of_%s_by_%s_%s.pdf' %(Taxa_col,category,save_descrip),bbox_inches=\"tight\")\n",
    "\n"
   ]
  },
  {
   "cell_type": "markdown",
   "metadata": {},
   "source": [
    "### Analysis start"
   ]
  },
  {
   "cell_type": "markdown",
   "metadata": {},
   "source": [
    "##### Metadata Correlations"
   ]
  },
  {
   "cell_type": "code",
   "execution_count": 11,
   "metadata": {},
   "outputs": [],
   "source": [
    "#Import metadata from UC patients in Cohort 1\n",
    "meta = pd.read_csv('../UC_Severity/UC_MP_Emperor_Map.txt',sep ='\\t', index_col = 'id')"
   ]
  },
  {
   "cell_type": "code",
   "execution_count": 12,
   "metadata": {},
   "outputs": [],
   "source": [
    "#Select numerical data\n",
    "numerics = ['int16', 'int32', 'int64', 'float16', 'float32', 'float64']\n",
    "newdf = meta.select_dtypes(include=numerics)"
   ]
  },
  {
   "cell_type": "code",
   "execution_count": 13,
   "metadata": {},
   "outputs": [],
   "source": [
    "#Remove some columns not wanted for the visualization\n",
    "Remove_cols = ['Relative_Activity_Index','anonymized_name',\n",
    "               'faith_pd','pielou_e','Num_85ALC_denovo_peptides',\n",
    "               'SerpinA1_SerumVFecal','TAXON_ID','ELEVATION',\n",
    "               'LATITUDE','LONGITUDE','host_taxid','shannon',\n",
    "              'observed_otus']\n",
    "newdf = newdf.drop(columns = Remove_cols)\n",
    "\n",
    "#Rename some of the columns for the visualization\n",
    "newdf.rename(columns={'histologic_remission':'Histologic Remission','Intact_crypts_without_erosions_or_ulcers':'Crypts with no Erosions or Ulcers',\n",
    "                     'height':'Height','smoker':'Smoker','current_steroids':'Current Steroids','disease_duration':'Disease Duration',\n",
    "                     'age':'Age','age_diagnosis':'Age of Diagnosis','current_IM':'Current Intramuscular','IM_exposure':'Intramuscular Exposure',\n",
    "                     'biologic_exposure':'Biologics Exposure','current_biologic':'Current Biologic','current_5ASA':'Current 5ASA',\n",
    "                     'SerpinA1_SerumVFecal':'Ratio of Serum to Fecal SerpainA1','ASA_exposure':'5ASA Exposure','stool_frequency':'Stool Frequency',\n",
    "                     'rectal_bleeding':'Rectal Bleeding','partial_Mayo':'Partial Mayo','UCEIS_endoscopic_score':'UCEIS Endoscopic Score',\n",
    "                     'PGA':'Physician General Assessment','mayo_endoscopic_score':'Mayo Endoscopic Score','steroid_exposure':'Steroid Exposure'\n",
    "                     },inplace=True)"
   ]
  },
  {
   "cell_type": "code",
   "execution_count": 29,
   "metadata": {},
   "outputs": [
    {
     "data": {
      "image/png": "[encoded data removed]",
      "text/plain": [
       "<Figure size 216x432 with 4 Axes>"
      ]
     },
     "metadata": {
      "needs_background": "light"
     },
     "output_type": "display_data"
    }
   ],
   "source": [
    "#Perform spearman correlations on each metadata variable\n",
    "corr = newdf.corr(method='spearman')\n",
    "ax=sns.clustermap(corr,figsize=(3,6))\n",
    "#plt.savefig('UC40_Spearman_correlation_metadata_heatmap_final.pdf',bbox_inches='tight')"
   ]
  },
  {
   "cell_type": "markdown",
   "metadata": {},
   "source": [
    "##### Compare compositions of metaproteome from human proteins by IBD subtypes and activity"
   ]
  },
  {
   "cell_type": "code",
   "execution_count": 148,
   "metadata": {},
   "outputs": [],
   "source": [
    "#Load in necessary data\n",
    "df = pd.read_csv('./MGDB_Proteomics/All_proteins_normalized_MGDBFinal.csv',index_col='Master Protein', low_memory=False)\n",
    "df3 = pd.read_csv('../UC_Severity/pDB_Proteomics/2Search/CSVs/NormalizedDataAll.txt', sep = '\\t', index_col=\"datarest$ProteinID\")\n",
    "\n",
    "protein_ann = pd.read_csv('./Metagenomics/MGDB/MGDB_Full_Protein_Annotations_AllProteomic_hits2.csv')\n",
    "protein_meta = pd.read_csv('./Metagenomics/MGDB/UC40_Full_Protein_Annotations_All_hitsV2.csv')\n",
    "\n",
    "meta = pd.read_csv('./Combined_Metadata_Allomics_MP_V1.txt', sep = '\\t', index_col = 'id')\n",
    "meta3 = pd.read_csv('../UC_Severity/UC_MP_Emperor_Map.txt',sep ='\\t', index_col = 'id')"
   ]
  },
  {
   "cell_type": "code",
   "execution_count": 149,
   "metadata": {},
   "outputs": [],
   "source": [
    "df2=df.merge(protein_ann,left_index=True,right_on='queryID',how='left')\n",
    "df4=df3.merge(protein_meta,left_index=True,right_on='queryID',how='left')"
   ]
  },
  {
   "cell_type": "code",
   "execution_count": 150,
   "metadata": {},
   "outputs": [],
   "source": [
    "#Remove less certain proteins:\n",
    "df2=df2[df2['Phylum']!='unknown']\n",
    "df2=df2[~df2['Phylum'].isna()]\n",
    "\n",
    "df4=df4[df4['Phylum']!='unknown']\n",
    "df4=df4[~df4['Phylum'].isna()]\n",
    "\n",
    "\n",
    "#Create a column for Human vs microbial origin\n",
    "Human_Prot=[]\n",
    "for i in df2['Phylum']:\n",
    "    if i == 'Chordata':\n",
    "        Human_Prot.append('Human')\n",
    "    else:\n",
    "        Human_Prot.append('Microbial')\n",
    "        \n",
    "Human_Prot2=[]\n",
    "for i in df4['Phylum']:\n",
    "    if i == 'Chordata':\n",
    "        Human_Prot2.append('Human')\n",
    "    else:\n",
    "        Human_Prot2.append('Microbial')\n",
    "                           \n",
    "df2['Origin'] = Human_Prot\n",
    "df4['Origin'] = Human_Prot2"
   ]
  },
  {
   "cell_type": "code",
   "execution_count": 151,
   "metadata": {},
   "outputs": [],
   "source": [
    "#Make separate metadata for healthy patients because they won't have activity\n",
    "meta2 = meta[meta[\"Relative_Activity\"] != 'Missing']\n",
    "meta2.index = meta2.index.astype('str')\n",
    "\n",
    "#Make lists of patients within categories of interest\n",
    "meta2.index = meta2.index.astype('str')\n",
    "\n",
    "#IBD200 only\n",
    "#Make lists of patient groups\n",
    "UC_patients = list(meta2[meta2['Diagnosis'] == 'UC'].index.astype('str'))\n",
    "Healthy_controls = list(meta[meta['Diagnosis'] == 'Healthy_control'].index.astype('str'))\n",
    "CD_patients =  list(meta[meta['Diagnosis'] == 'CD'].index.astype('str'))\n",
    "\n",
    "Colonic_CD = list(meta2[(meta2['Diagnosis'] == 'CD') & (meta2['Location'] == 'Colonic')].index.astype('str'))\n",
    "Ileal_CD = list(meta2[(meta2['Diagnosis'] == 'CD') & (meta2['Location'] == 'Ileal')].index.astype('str'))\n",
    "Ileocolonic_CD = list(meta2[(meta2['Diagnosis'] == 'CD') & (meta2['Location'] == 'Ileocolonic')].index.astype('str'))\n",
    "\n",
    "#IBD 200 only\n",
    "#Remove samples missing from the original dataframe\n",
    "UC_patients = list(set(UC_patients) & set(df.columns))\n",
    "Healthy_controls = list(set(Healthy_controls) & set(df.columns))\n",
    "CD_patients = list(set(CD_patients) & set(df.columns))\n",
    "Colonic_CD = list(set(Colonic_CD) & set(df.columns))\n",
    "Ileal_CD = list(set(Ileal_CD) & set(df.columns))\n",
    "Ileocolonic_CD = list(set(Ileocolonic_CD) & set(df.columns))\n",
    "\n",
    "#IBD 200 only\n",
    "#Resort the samples by the activity index\n",
    "UC_patients=list(meta2.loc[UC_patients].sort_values('Relative_Activity').index.astype('str'))\n",
    "Colonic_CD=list(meta2.loc[Colonic_CD].sort_values('Relative_Activity').index.astype('str'))\n",
    "Ileal_CD=list(meta2.loc[Ileal_CD].sort_values('Relative_Activity').index.astype('str'))\n",
    "Ileocolonic_CD=list(meta2.loc[Ileocolonic_CD].sort_values('Relative_Activity').index.astype('str'))"
   ]
  },
  {
   "cell_type": "code",
   "execution_count": 152,
   "metadata": {},
   "outputs": [],
   "source": [
    "UC_Cohort1 = list(meta3.sort_values('Relative_Activity_Index').index)"
   ]
  },
  {
   "cell_type": "code",
   "execution_count": 153,
   "metadata": {},
   "outputs": [],
   "source": [
    "Activity_cat=[]\n",
    "for i in meta3['partial_Mayo']:\n",
    "    try:\n",
    "        a = float(i)\n",
    "        if a < 3:\n",
    "            Activity_cat.append('Low')\n",
    "        elif a <6:\n",
    "            Activity_cat.append('Moderate')\n",
    "        elif a <11:\n",
    "            Activity_cat.append('High')\n",
    "        else:\n",
    "            Activity_cat.append('not applicable')\n",
    "    except ValueError:\n",
    "        Activity_cat.append('not applicable')\n",
    "    \n",
    "meta3['Activity_Level'] = Activity_cat"
   ]
  },
  {
   "cell_type": "code",
   "execution_count": 155,
   "metadata": {},
   "outputs": [],
   "source": [
    "#Combine the metadata\n",
    "combined_meta = pd.concat([meta3,meta],join='inner')\n",
    "\n",
    "#Change the indexes to contain dataset ID\n",
    "df4['index_wdataset'] = df4.index.astype(str) + 'UC40'\n",
    "df2['index_wdataset'] = df2.index.astype(str) + 'IBD200'\n",
    "df4.index = df4['index_wdataset']\n",
    "df2.index = df2['index_wdataset']\n",
    "\n",
    "#For origin plots:\n",
    "cols = ['Origin','Phylum']\n",
    "df2_key = df2[cols]\n",
    "df4_key = df4[cols]\n",
    "ind_key = pd.concat([df4_key,df2_key])\n",
    "\n",
    "#Marge data together\n",
    "df_merged = df2.merge(df4, left_index=True, right_index =True,how='outer')\n",
    "#df_merged.replace(np.nan,0,inplace=True)\n",
    "\n",
    "#Combine origin columns when one is null\n",
    "df_merged['Origin'] = np.where(df_merged['Origin_y'].isnull(), df_merged['Origin_x'],df_merged['Origin_y'])\n"
   ]
  },
  {
   "cell_type": "code",
   "execution_count": 160,
   "metadata": {},
   "outputs": [],
   "source": [
    "col_order=['Low','Moderate','High']\n",
    "lists = [UC_Cohort1,UC_patients,CD_patients]"
   ]
  },
  {
   "cell_type": "code",
   "execution_count": 162,
   "metadata": {},
   "outputs": [
    {
     "data": {
      "image/png": "[encoded data removed]",
      "text/plain": [
       "<Figure size 90x378 with 3 Axes>"
      ]
     },
     "metadata": {
      "needs_background": "light"
     },
     "output_type": "display_data"
    }
   ],
   "source": [
    "PlotByCategory_MultiSampleGroups2(df=df_merged,lists=lists,Taxa_col='Origin',\n",
    "                                 category='Activity_Level',\n",
    "                                 metadata=combined_meta,display_number=2,\n",
    "                                 save_descrip='Bothdatasets_MP_Origin_Diagnosis_ActivityLevel_Final',\n",
    "                                 human=\"True\",col_order=col_order)"
   ]
  },
  {
   "cell_type": "markdown",
   "metadata": {},
   "source": [
    "##### Correlating individual meta -omic features to severity states"
   ]
  },
  {
   "cell_type": "code",
   "execution_count": 332,
   "metadata": {},
   "outputs": [],
   "source": [
    "###LOAD DATA\n",
    "\n",
    "#Metaproteomic abundances from first cohort of patients:\n",
    "#df = pd.read_csv('../UC_Severity/pDB_Proteomics/2Search/CSVs/NormalizedDataAll.txt', sep = '\\t', index_col=\"datarest$ProteinID\")\n",
    "#meta = pd.read_csv('../UC_Severity/UC_MP_Emperor_Map.txt',sep ='\\t', index_col = 'id')\n",
    "\n",
    "##WARNING - METAGENOMIC DATA IS LARGE AND MAY TAKE SIGNIFICANT COMPUTING TIME\n",
    "#Metagenomic gene counts from first cohort of patients:\n",
    "#df=pd.read_csv('./UC40_Salmon_CPMs.csv)\n",
    "#meta = pd.read_csv('../UC_Severity/UC_MP_Emperor_Map.txt',sep ='\\t', index_col = 'id')\n",
    "\n",
    "#Metabolomic abundaces from first cohort of patients:\n",
    "#df = pd.read_csv('../UC_Severity/Metabolomics/StandardizedMzMIne2020Rerun/UC40_MB_Table_normalized.txt',\n",
    "                #sep='\\t',index_col='#OTU ID')\n",
    "#meta = pd.read_csv('../UC_Severity/UC_MP_Emperor_Map.txt',sep ='\\t', index_col = 'id')\n",
    "\n",
    "##Metaproteomic data from second cohort of patients:\n",
    "#df = pd.read_csv('./MGDB_Proteomics/All_proteins_normalized_MGDBFinal.csv',index_col='Master Protein')\n",
    "#meta = pd.read_csv('./Combined_Metadata_Allomics_MP_V1.txt', sep = '\\t', index_col = 'id')\n",
    "\n",
    "##Metabolomics data from second cohort of patients:\n",
    "df = pd.read_csv('./Metabolomics/MB_Standardized_Table_Normalized_Final.txt', sep = '\\t', index_col = '#OTU ID')\n",
    "meta = pd.read_csv('./Combined_Metadata_Allomics_MB_V2.txt',sep='\\t',index_col='#SampleID')\n",
    "\n",
    "##Metagenomic data from second cohort of patients:\n",
    "#df = pd.read_csv('./Metagenomics/Salmon_CPMs.csv',index_col='Name')\n",
    "#meta = pd.read_csv('./Combined_Metadata_Allomics_MG_V1.txt', sep = '\\t',index_col = '#SampleID')\n",
    "\n",
    "meta.index = meta.index.astype('str')"
   ]
  },
  {
   "cell_type": "code",
   "execution_count": 333,
   "metadata": {},
   "outputs": [],
   "source": [
    "#Make lists of patients within categories of interest\n",
    "\n",
    "###SECOND COHORT ONLY\n",
    "meta2=meta\n",
    "\n",
    "#Make lists of patient groups\n",
    "UC_patients = list(meta2[meta2['Diagnosis'] == 'UC'].index.astype('str'))\n",
    "Healthy_controls = list(meta[meta['Diagnosis'] == 'Healthy_control'].index.astype('str'))\n",
    "Colonic_CD = list(meta2[(meta2['Diagnosis'] == 'CD') & (meta2['Location'] == 'Colonic')].index.astype('str'))\n",
    "Ileal_CD = list(meta2[(meta2['Diagnosis'] == 'CD') & (meta2['Location'] == 'Ileal')].index.astype('str'))\n",
    "Ileocolonic_CD = list(meta2[(meta2['Diagnosis'] == 'CD') & (meta2['Location'] == 'Ileocolonic')].index.astype('str'))\n",
    "\n",
    "###SECOND COHORT ONLY\n",
    "#Remove samples missing from the original dataframe\n",
    "UC_patients = list(set(UC_patients) & set(df.columns))\n",
    "Healthy_controls = list(set(Healthy_controls) & set(df.columns))\n",
    "Colonic_CD = list(set(Colonic_CD) & set(df.columns))\n",
    "Ileal_CD = list(set(Ileal_CD) & set(df.columns))\n",
    "Ileocolonic_CD = list(set(Ileocolonic_CD) & set(df.columns))\n",
    "\n",
    "CD = Colonic_CD + Ileocolonic_CD + Ileal_CD\n",
    "\n",
    "###SECOND COHORT ONLY\n",
    "#Resort the samples by the activity index\n",
    "UC_patients=list(meta2.loc[UC_patients].sort_values('Relative_Activity').index.astype('str'))\n",
    "Colonic_CD=list(meta2.loc[Colonic_CD].sort_values('Relative_Activity').index.astype('str'))\n",
    "Ileal_CD=list(meta2.loc[Ileal_CD].sort_values('Relative_Activity').index.astype('str'))\n",
    "Ileocolonic_CD=list(meta2.loc[Ileocolonic_CD].sort_values('Relative_Activity').index.astype('str'))\n",
    "\n",
    "CD=list(meta2.loc[CD].sort_values('Relative_Activity').index.astype('str'))"
   ]
  },
  {
   "cell_type": "code",
   "execution_count": 334,
   "metadata": {},
   "outputs": [],
   "source": [
    "###ONLY For metabolite averages:\n",
    "MB_ann1 = pd.read_csv('./Metabolomics/Qemistree_IDs.txt',sep='\\t')\n",
    "MB_ann2 = pd.read_csv('../UC_Severity/Metabolomics/StandardizedMzMIne2020Rerun/UC40_MB_Annotations.txt',sep='\\t')\n",
    "\n",
    "##FIRST COHORT:\n",
    "patients=list(df.columns)\n",
    "\n",
    "#df['#OTU ID']=df.index\n",
    "\n",
    "#Change metabolite ID columns to strings\n",
    "MB_ann1['rowid']=MB_ann1['rowid'].astype('str')\n",
    "MB_ann2['rowID']=MB_ann2['rowID'].astype('str')\n",
    "\n",
    "df.index=df.index.astype('str')\n",
    "\n",
    "#Add annotation information for metabolites\n",
    "#SECOND COHORT:\n",
    "df2=df.merge(MB_ann1,left_index=True,right_on='rowid')\n",
    "#FIRST COHORT:\n",
    "#df2=df.merge(MB_ann2,left_index=True,right_on='rowID')\n",
    "\n",
    "#Find averages of r-values within checmical classes\n",
    "##SECOND COHORT BY TYPE:\n",
    "df2 = df2[CD].groupby([df2['direct_parent']]).mean()\n",
    "##FIRST COHORT:\n",
    "#df2 = df2[patients].groupby([df2['direct_parent']]).mean()\n",
    "\n",
    "#Remove 0s from metabolomics data when calculting spearman correlations\n",
    "df2.replace(np.nan,0,inplace=True)\n",
    "df = df2"
   ]
  },
  {
   "cell_type": "code",
   "execution_count": 335,
   "metadata": {},
   "outputs": [],
   "source": [
    "###SECOND COHORT ONLY\n",
    "#Subset dataframe to only patients of interest in lists above:\n",
    "\n",
    "#df = df[UC_patients]\n",
    "df = df[CD]"
   ]
  },
  {
   "cell_type": "code",
   "execution_count": 336,
   "metadata": {},
   "outputs": [
    {
     "name": "stderr",
     "output_type": "stream",
     "text": [
      "/Users/rhmills/miniconda3/envs/qiime2-2019.7/lib/python3.6/site-packages/ipykernel_launcher.py:27: SettingWithCopyWarning: \n",
      "A value is trying to be set on a copy of a slice from a DataFrame\n",
      "\n",
      "See the caveats in the documentation: http://pandas.pydata.org/pandas-docs/stable/indexing.html#indexing-view-versus-copy\n",
      "/Users/rhmills/miniconda3/envs/qiime2-2019.7/lib/python3.6/site-packages/scipy/stats/_stats_mstats_common.py:130: RuntimeWarning: invalid value encountered in double_scalars\n",
      "  slope = r_num / ssxm\n",
      "/Users/rhmills/miniconda3/envs/qiime2-2019.7/lib/python3.6/site-packages/scipy/stats/_stats_mstats_common.py:142: RuntimeWarning: divide by zero encountered in double_scalars\n",
      "  sterrest = np.sqrt((1 - r**2) * ssym / ssxm / df)\n"
     ]
    },
    {
     "data": {
      "text/plain": [
       "'Linear regressions performed on CDAI. New dataframe stored as \"df_out\"'"
      ]
     },
     "execution_count": 336,
     "metadata": {},
     "output_type": "execute_result"
    }
   ],
   "source": [
    "##USED CDAI as variable for CD patient correlations, partial_Mayo for UC\n",
    "\n",
    "LinearRegressions(df=df,metadata=meta,variable='CDAI')"
   ]
  },
  {
   "cell_type": "code",
   "execution_count": 338,
   "metadata": {},
   "outputs": [],
   "source": [
    "df_out.to_csv('./IBD200_MB_parent_CDAICorrelations.csv')"
   ]
  },
  {
   "cell_type": "markdown",
   "metadata": {},
   "source": [
    "##### Top metabolite class correlations to UC disease activity\n"
   ]
  },
  {
   "cell_type": "code",
   "execution_count": 339,
   "metadata": {},
   "outputs": [],
   "source": [
    "df_n = pd.read_csv('./IBD200_MB_parent_pMayoCorrelations.csv')\n",
    "df2 = pd.read_csv('./UC40_MB_parent_pMayoCorrelations.csv')\n",
    "df3 = pd.read_csv('./IBD200_MB_parent_CDAICorrelations.csv')"
   ]
  },
  {
   "cell_type": "code",
   "execution_count": 340,
   "metadata": {},
   "outputs": [],
   "source": [
    "#Add a column for which dataset is being represented\n",
    "df_n['Experiment'] = 'IBD200'\n",
    "df2['Experiment'] = 'UC40'\n",
    "df3['Experiment'] = 'IBD200'\n",
    "\n",
    "df_n['Diagnosis'] = 'UC (Cohort 2)'\n",
    "df2['Diagnosis'] = 'UC (Cohort 1)'\n",
    "df3['Diagnosis'] = 'CD (Cohort 2)'"
   ]
  },
  {
   "cell_type": "code",
   "execution_count": 341,
   "metadata": {},
   "outputs": [
    {
     "name": "stderr",
     "output_type": "stream",
     "text": [
      "/Users/rhmills/miniconda3/envs/qiime2-2019.7/lib/python3.6/site-packages/ipykernel_launcher.py:3: FutureWarning: Sorting because non-concatenation axis is not aligned. A future version\n",
      "of pandas will change to not sort by default.\n",
      "\n",
      "To accept the future behavior, pass 'sort=False'.\n",
      "\n",
      "To retain the current behavior and silence the warning, pass 'sort=True'.\n",
      "\n",
      "  This is separate from the ipykernel package so we can avoid doing imports until\n"
     ]
    }
   ],
   "source": [
    "#Combine UC datasets\n",
    "interest_columns = ['Experiment', 'direct_parent', 'rvalue', 'Diagnosis']\n",
    "combine_df = pd.concat([df_n,df2],names = interest_columns)"
   ]
  },
  {
   "cell_type": "code",
   "execution_count": 342,
   "metadata": {},
   "outputs": [
    {
     "name": "stderr",
     "output_type": "stream",
     "text": [
      "/Users/rhmills/miniconda3/envs/qiime2-2019.7/lib/python3.6/site-packages/ipykernel_launcher.py:16: FutureWarning: Sorting because non-concatenation axis is not aligned. A future version\n",
      "of pandas will change to not sort by default.\n",
      "\n",
      "To accept the future behavior, pass 'sort=False'.\n",
      "\n",
      "To retain the current behavior and silence the warning, pass 'sort=True'.\n",
      "\n",
      "  app.launch_new_instance()\n"
     ]
    }
   ],
   "source": [
    "combine_df = combine_df[interest_columns]\n",
    "combine_df['chemical_class'] = 'direct_parent'\n",
    "\n",
    "#Combine chemicals by rvalues to IBD severity\n",
    "combine_r = combine_df['rvalue'].groupby([combine_df['direct_parent']]).sum()\n",
    "\n",
    "#Drop non-compounds\n",
    "combine_r.drop('partial_Mayo',inplace=True)\n",
    "combine_r.drop('SMILE parse error',inplace=True)\n",
    "\n",
    "#Identify top correlations to UC\n",
    "TopCorrelations=list(combine_r.nlargest(10).index)\n",
    "BottomCorrelations=list(combine_r.nsmallest(10).index)\n",
    "\n",
    "#Make final combined df to display UC cohorts and CD patients\n",
    "combine_df2 = pd.concat([df_n,df2,df3],names = interest_columns)"
   ]
  },
  {
   "cell_type": "code",
   "execution_count": 373,
   "metadata": {},
   "outputs": [],
   "source": [
    "df_melt2.index=df_melt2['direct_parent']\n",
    "df_melt2['combinedr']=combine_r"
   ]
  },
  {
   "cell_type": "code",
   "execution_count": 365,
   "metadata": {
    "collapsed": true
   },
   "outputs": [
    {
     "name": "stderr",
     "output_type": "stream",
     "text": [
      "/Users/rhmills/miniconda3/envs/qiime2-2019.7/lib/python3.6/site-packages/ipykernel_launcher.py:10: SettingWithCopyWarning: \n",
      "A value is trying to be set on a copy of a slice from a DataFrame.\n",
      "Try using .loc[row_indexer,col_indexer] = value instead\n",
      "\n",
      "See the caveats in the documentation: http://pandas.pydata.org/pandas-docs/stable/indexing.html#indexing-view-versus-copy\n",
      "  # Remove the CWD from sys.path while we load stuff.\n",
      "/Users/rhmills/miniconda3/envs/qiime2-2019.7/lib/python3.6/site-packages/ipykernel_launcher.py:13: SettingWithCopyWarning: \n",
      "A value is trying to be set on a copy of a slice from a DataFrame.\n",
      "Try using .loc[row_indexer,col_indexer] = value instead\n",
      "\n",
      "See the caveats in the documentation: http://pandas.pydata.org/pandas-docs/stable/indexing.html#indexing-view-versus-copy\n",
      "  del sys.path[0]\n",
      "/Users/rhmills/miniconda3/envs/qiime2-2019.7/lib/python3.6/site-packages/ipykernel_launcher.py:15: SettingWithCopyWarning: \n",
      "A value is trying to be set on a copy of a slice from a DataFrame\n",
      "\n",
      "See the caveats in the documentation: http://pandas.pydata.org/pandas-docs/stable/indexing.html#indexing-view-versus-copy\n",
      "  from ipykernel import kernelapp as app\n",
      "/Users/rhmills/miniconda3/envs/qiime2-2019.7/lib/python3.6/site-packages/ipykernel_launcher.py:16: SettingWithCopyWarning: \n",
      "A value is trying to be set on a copy of a slice from a DataFrame\n",
      "\n",
      "See the caveats in the documentation: http://pandas.pydata.org/pandas-docs/stable/indexing.html#indexing-view-versus-copy\n",
      "  app.launch_new_instance()\n"
     ]
    }
   ],
   "source": [
    "#Melt into longform dataframe\n",
    "interest_cols = ['direct_parent', 'Experiment','Diagnosis']\n",
    "df_melt = pd.melt(combine_df2, value_vars = 'rvalue', id_vars = interest_cols)\n",
    "\n",
    "#Isolate top correlations\n",
    "df_melt2 = df_melt[df_melt['direct_parent'].isin(TopCorrelations)]\n",
    "df_melt3 = df_melt[df_melt['direct_parent'].isin(BottomCorrelations)]\n",
    "\n",
    "df_melt2.index=df_melt2['direct_parent']\n",
    "df_melt2['combinedr']=combine_r\n",
    "\n",
    "df_melt3.index=df_melt3['direct_parent']\n",
    "df_melt3['combinedr']=combine_r\n",
    "\n",
    "df_melt3.sort_values('combinedr',inplace=True)\n",
    "df_melt2.sort_values('combinedr',ascending=False,inplace=True)"
   ]
  },
  {
   "cell_type": "code",
   "execution_count": 371,
   "metadata": {},
   "outputs": [],
   "source": [
    "#Manual reordered the cohorts to fit color scheme\n",
    "#df_melt2.to_csv('./Metabolomics_UC_class_avgs_top.csv')\n",
    "#df_melt3.to_csv('./Metabolomics_UC_class_avgs_bot.csv')\n",
    "\n",
    "df_melt2=pd.read_csv('./Metabolomics_UC_class_avgs_top.csv')\n",
    "df_melt3=pd.read_csv('./Metabolomics_UC_class_avgs_bot.csv')"
   ]
  },
  {
   "cell_type": "code",
   "execution_count": 372,
   "metadata": {},
   "outputs": [
    {
     "data": {
      "image/png": "[encoded data removed]",
      "text/plain": [
       "<Figure size 108x432 with 2 Axes>"
      ]
     },
     "metadata": {
      "needs_background": "light"
     },
     "output_type": "display_data"
    }
   ],
   "source": [
    "fig, axes = plt.subplots(figsize=(1.5,6),nrows=2)\n",
    "ax1 = sns.barplot(x = 'value', y = 'direct_parent',ax=axes[1], hue = 'Diagnosis',palette=['blue','gray','red'], data = df_melt3).get_legend().remove()\n",
    "ax2 = sns.barplot(x = 'value', y = 'direct_parent',ax=axes[0], hue = 'Diagnosis',palette=['blue','gray','red'], data = df_melt2)#.yaxis.tick_right()\n",
    "\n",
    "axes[0].legend().remove()\n",
    "plt.savefig('./MetabolomeClass_normalized_top_correlationsbymean_to_Activity_vert_redo.pdf',bbox_inches=\"tight\")\n"
   ]
  },
  {
   "cell_type": "markdown",
   "metadata": {},
   "source": [
    "##### Annotate dataframes"
   ]
  },
  {
   "cell_type": "code",
   "execution_count": null,
   "metadata": {},
   "outputs": [],
   "source": [
    "##Load correlations to IBD severity:\n",
    "\n",
    "#df_n = pd.read_csv('./pMayo_correlations_MGDBMP_naMask.csv', index_col = 'Master Protein')\n",
    "#df_n = pd.read_csv('./pMayo_correlations_MGDBMP_naMask_UC40.csv', index_col = 'datarest$ProteinID')\n",
    "#df_n = pd.read_csv('./CDAI_Colonic_correlations_MGDB_naMask.csv', index_col = 'Master Protein')\n",
    "#df_n = pd.read_csv('./CDAI_Ileocolonic_correlations_MGDB_naMask.csv', index_col = 'Master Protein')\n",
    "#df_n = pd.read_csv('./CDAI_Ileal_correlations_MGDB_naMask.csv', index_col = 'Master Protein')\n",
    "#df_n = pd.read_csv('./CDAI_correlations_MGDB_naMask.csv', index_col = 'Master Protein')\n",
    "#df_n = pd.read_csv('./CDAI_correlations_MGDB_naMask.csv', index_col = 'Master Protein')\n",
    "\n",
    "\n",
    "#df_n = pd.read_csv('./Metagenomics/pMayo_UC40_correlations_MG_naMask_combined.csv')\n",
    "#df_n = pd.read_csv('./Metagenomics/pMayo_correlations_MG_naMask.csv', index_col='Name')\n",
    "#df_n = pd.read_csv('./Metagenomics/CDAI_Colonic_correlations_MG_naMask.csv', index_col='Name')\n",
    "#df_n = pd.read_csv('./Metagenomics/CDAI_Ileal_correlations_MG_naMask.csv', index_col='Name')\n",
    "#df_n = pd.read_csv('./Metagenomics/CDAI_Ileocolonic_correlations_MG_naMask.csv', index_col='Name')\n",
    "df_n = pd.read_csv('./Metagenomics/CDAI_correlations_MG_naMask_combined.csv', index_col='Name')"
   ]
  },
  {
   "cell_type": "code",
   "execution_count": null,
   "metadata": {},
   "outputs": [],
   "source": [
    "##Load protein/gene annotation information\n",
    "\n",
    "#IBD200 Protein Annotation Information\n",
    "#MP\n",
    "#protein_ann = pd.read_csv('./Metagenomics/MGDB/MGDB_Full_Protein_Annotations_AllProteomic_hits2.csv')\n",
    "#MG\n",
    "protein_ann = pd.read_csv('./Metagenomics/MGDB/MGDB_Full_Protein_Annotations2.txt', sep='\\t')"
   ]
  },
  {
   "cell_type": "code",
   "execution_count": null,
   "metadata": {},
   "outputs": [],
   "source": [
    "##Original UC40 Metaproteomics annotations\n",
    "\n",
    "#protein_meta = pd.read_csv('./Metagenomics/MGDB/UC40_Full_Protein_Annotations_All_hitsV2.csv')\n",
    "#protein_meta = pd.read_csv('../UC_Severity/Annotations/UniKB_Taxa_ghostKO_Merge.csv')"
   ]
  },
  {
   "cell_type": "code",
   "execution_count": null,
   "metadata": {},
   "outputs": [],
   "source": [
    "##For UC40 only\n",
    "#protein_ann = protein_meta2\n",
    "\n",
    "#Others\n",
    "protein_ann.index = protein_ann['queryID']"
   ]
  },
  {
   "cell_type": "code",
   "execution_count": null,
   "metadata": {},
   "outputs": [],
   "source": [
    "df_n = df_n.merge(protein_ann, left_index=True, right_index=True, how='left')\n",
    "len(df_n)"
   ]
  },
  {
   "cell_type": "code",
   "execution_count": null,
   "metadata": {},
   "outputs": [],
   "source": [
    "##Annotate and save dataframe\n",
    "#df_n.to_csv('./CDAI_correlations_MG_naMask_annotated.csv')"
   ]
  },
  {
   "cell_type": "markdown",
   "metadata": {},
   "source": [
    "##### Identify the biases in gene and protein level data for identifying taxa and functions related to severity within the different subtypes of IBD"
   ]
  },
  {
   "cell_type": "code",
   "execution_count": 19,
   "metadata": {},
   "outputs": [],
   "source": [
    "#UC40\n",
    "df_m40 = pd.read_csv('./pMayo_correlations_MG_MGDB_annotated_UC40.csv', index_col=0)\n",
    "df_n40 = pd.read_csv('./pMayo_correlations_MP_MGDB_annotated_UC40.csv', index_col=0)\n",
    "\n",
    "#Second cohort data:\n",
    "df_n3 = pd.read_csv('./pMayo_correlations_MP_MGDB_annotated.csv', index_col = 0)\n",
    "df_m3 = pd.read_csv('./pMayo_correlations_MG_MGDB_annotated.csv', index_col = 0)\n",
    "df_n5 = pd.read_csv('./CDAI_correlations_MP_naMask_annotated.csv', index_col = 0)\n",
    "df_m5 = pd.read_csv('./CDAI_correlations_MG_naMask_annotated.csv', index_col = 0)\n",
    "\n",
    "\n",
    "#Supplemental figures generated with these dataframes subsetting data by CD subtypes\n",
    "#df_n = pd.read_csv('./CDAI_Colonic_correlations_MP_MGDB_annotated.csv', index_col = 0)\n",
    "#df_m = pd.read_csv('./CDAI_Colonic_correlations_MG_naMask_annotated.csv', index_col = 0)\n",
    "#df_n2 = pd.read_csv('./CDAI_Ileal_correlations_MP_MGDB_annotated.csv', index_col = 0)\n",
    "#df_m2 = pd.read_csv('./CDAI_Ileal_correlations_MG_naMask_annotated.csv', index_col = 0)\n",
    "#df_n4 = pd.read_csv('./Ileolcolonic_CDAI_correlations_MP_annotated.csv', index_col = 0)\n",
    "#df_m4 = pd.read_csv('./CDAI_Ileocolonic_correlations_MG_naMask_annotated.csv', index_col = 0)\n",
    "\n"
   ]
  },
  {
   "cell_type": "code",
   "execution_count": 31,
   "metadata": {},
   "outputs": [],
   "source": [
    "df_dict = {'UC Cohort 1 (MP)':df_n40,'UC Cohort 2 (MP)':df_n3,\n",
    "           'CD (MP)':df_n5}"
   ]
  },
  {
   "cell_type": "code",
   "execution_count": 21,
   "metadata": {
    "scrolled": true
   },
   "outputs": [
    {
     "data": {
      "text/plain": [
       "'New plot saved.'"
      ]
     },
     "execution_count": 21,
     "metadata": {},
     "output_type": "execute_result"
    },
    {
     "data": {
      "image/png": "[encoded data removed]",
      "text/plain": [
       "<Figure size 432x216 with 3 Axes>"
      ]
     },
     "metadata": {
      "needs_background": "light"
     },
     "output_type": "display_data"
    }
   ],
   "source": [
    "TaxaRatioCompareSigLevelGroups(df_dict,sig_level=0.3,Taxa_col='Genus', save_descrip=\"UCswCD_MDB_MP_r03_sprc60_Genera_NoRelative_smaller3\",human=\"False\",relative=\"False\", \n",
    "                               variable='Genus',Sparsity=0.60,display_number=10)"
   ]
  },
  {
   "cell_type": "markdown",
   "metadata": {},
   "source": [
    "##### Compare the ratios of significant proteins to significant genes"
   ]
  },
  {
   "cell_type": "code",
   "execution_count": 23,
   "metadata": {},
   "outputs": [],
   "source": [
    "#Create a new dictionary including the metagenomic correlations\n",
    "df_dict = {'UC Cohort 1 (MP)':df_n40,'UC Cohort 2 (MP)':df_n3,\n",
    "           'CD (MP)':df_n5,'UC Cohort 1 (MG)':df_m40,'UC Cohort 2 (MG)':df_m3,'CD (MG)':df_m5}"
   ]
  },
  {
   "cell_type": "code",
   "execution_count": 24,
   "metadata": {},
   "outputs": [],
   "source": [
    "#To remove human proteins from all dataframes\n",
    "for i in df_dict:\n",
    "    df_dict[i] = df_dict[i][df_dict[i]['Genus'] != 'Homo']"
   ]
  },
  {
   "cell_type": "code",
   "execution_count": 25,
   "metadata": {},
   "outputs": [
    {
     "data": {
      "text/plain": [
       "'All ratio dataframes combined into \"ratio_dict\".'"
      ]
     },
     "execution_count": 25,
     "metadata": {},
     "output_type": "execute_result"
    }
   ],
   "source": [
    "#Comparing only significant proteins\n",
    "TaxaLogRatioCompareSigLevelGroupsCombine(df_dict,sig_level=0.3,Taxa_col='Genus',human=\"True\",\n",
    "                                         variable='Genus',MinCount=10,Sparsity=0.6,compareall=\"False\")"
   ]
  },
  {
   "cell_type": "code",
   "execution_count": 26,
   "metadata": {},
   "outputs": [],
   "source": [
    "#Concatenate ratio data into one dataframe\n",
    "ratio_df2=pd.concat(ratio_dict)\n",
    "\n",
    "#Create separate lists for most commonly found genera within significant proteins or genes\n",
    "top_mp_genera = ['Bacteroides','Blautia','Faecalibacterium','Clostridium','Roseburia','Eubacterium',\n",
    "                'Ruminococcus','Escherichia','Subdoligranulum','Collinsella']\n",
    "\n",
    "top_mg_genera = ['Bacteroides','Roseburia','Blautia','Anaerostipes','Escherichia','Flavonifractor',\n",
    "                 'Fusicatenibacter','Clostridium','Lachnoclostridium']\n",
    "\n",
    "#Subset out ratio dataframes to only include these top genera for plot\n",
    "top_mp_ratios = ratio_df2[ratio_df2['Genus'].isin(top_mp_genera)]\n",
    "top_mg_ratios = ratio_df2[ratio_df2['Genus'].isin(top_mg_genera)]\n",
    "\n",
    "#Optional - manually sort the dataframes by top genera and cohorts to align with manuscript figures:\n",
    "#top_mp_ratios.to_csv('./TopMPGenus_ratios.csv')\n",
    "#top_mg_ratios.to_csv('./TopMGGenus_ratios.csv')\n"
   ]
  },
  {
   "cell_type": "code",
   "execution_count": 29,
   "metadata": {},
   "outputs": [],
   "source": [
    "#Reordered for being in order of genera with most MP or MG correlations\n",
    "top_mp_ratios = pd.read_csv('./TopMPGenus_ratios.csv')\n",
    "#top_mg_ratios = pd.read_csv('./TopMGGenus_ratios.csv')"
   ]
  },
  {
   "cell_type": "code",
   "execution_count": 30,
   "metadata": {},
   "outputs": [
    {
     "data": {
      "image/png": "[encoded data removed]",
      "text/plain": [
       "<Figure size 420.389x280.8 with 1 Axes>"
      ]
     },
     "metadata": {
      "needs_background": "light"
     },
     "output_type": "display_data"
    }
   ],
   "source": [
    "#Make the plot\n",
    "plot1 = sns.catplot(x=\"Log(Pos/Neg)\", y = \"Genus\",hue=\"Category\",kind=\"bar\",palette=['blue','#BDD0FF','gray','#E1E1E1','red','#ffcccc'],\n",
    "                    data=top_mp_ratios,\n",
    "                    height=3.9,aspect=1.08)\n",
    "\n",
    "#Option to save the plot\n",
    "#plot1.savefig('./MGDB_wMG_Top10MPGenus_Log10_Plot_r03_sprc06_10min.pdf')"
   ]
  },
  {
   "cell_type": "markdown",
   "metadata": {},
   "source": [
    "##### Identify the types of proteins overrepresented in <i> Bacteroides </i> positive associations to UC activity"
   ]
  },
  {
   "cell_type": "code",
   "execution_count": null,
   "metadata": {},
   "outputs": [],
   "source": [
    "df_dict = {'UC Cohort 1 (MP)':df_n40,'UC Cohort 2 (MP)':df_n3,\n",
    "           'CD (MP)':df_n5}"
   ]
  },
  {
   "cell_type": "code",
   "execution_count": 35,
   "metadata": {},
   "outputs": [],
   "source": [
    "#Filter to leave only the Bacteroides proteins\n",
    "for i in df_dict:\n",
    "    df_dict[i] = df_dict[i][df_dict[i]['Genus'] == 'Bacteroides']"
   ]
  },
  {
   "cell_type": "code",
   "execution_count": 36,
   "metadata": {},
   "outputs": [
    {
     "data": {
      "text/plain": [
       "'All ratio dataframes combined into \"ratio_dict\".'"
      ]
     },
     "execution_count": 36,
     "metadata": {},
     "output_type": "execute_result"
    }
   ],
   "source": [
    "#Identify the functional differences (via kegg functional categories) in significant proteins and all other proteins within each genera:\n",
    "\n",
    "TaxaLogRatioCompareSigLevelGroupsCombine(df_dict,sig_level=0.3,Taxa_col='KEGG_Functional_Category',\n",
    "                                         human=\"True\", compareall=\"True\",\n",
    "                                         variable='Genus',MinCount=10,Sparsity=0.95)"
   ]
  },
  {
   "cell_type": "code",
   "execution_count": 37,
   "metadata": {},
   "outputs": [],
   "source": [
    "ratio_df = pd.concat(ratio_dict)\n",
    "ratio_df2 = ratio_df.sort_values(by=[\"Category\",\"Log(Pos/Neg)\"], ascending=[False,False])"
   ]
  },
  {
   "cell_type": "code",
   "execution_count": 40,
   "metadata": {},
   "outputs": [],
   "source": [
    "#Save and reorder by the top UC Cohort 1 findings:\n",
    "#ratio_df2.to_csv('./Bacteroides_r03vs_sprct95_KEGGRatios.csv')\n",
    "ratio_df2 = pd.read_csv('./Bacteroides_r03vs_sprct95_KEGGRatios.csv')"
   ]
  },
  {
   "cell_type": "code",
   "execution_count": 41,
   "metadata": {},
   "outputs": [
    {
     "data": {
      "image/png": "[encoded data removed]",
      "text/plain": [
       "<Figure size 461.6x230.4 with 1 Axes>"
      ]
     },
     "metadata": {
      "needs_background": "light"
     },
     "output_type": "display_data"
    }
   ],
   "source": [
    "plot1 = sns.catplot(x=\"Log(Pos/Neg)\", y = \"KEGG_Functional_Category\",hue=\"Category\",kind=\"bar\",palette=['blue','gray','red'],\n",
    "                    data=ratio_df2,\n",
    "                    height=3.2,aspect=1.5)#,order=combine_list)\n",
    "#plot1.savefig('./MGDB_MP_Bacteroides_Log10_KEGGPlot_r03_sprc95_10min_small.pdf')"
   ]
  },
  {
   "cell_type": "markdown",
   "metadata": {},
   "source": [
    "Specifically plot out the ratios of peptidases and proteases correlated with disease severity"
   ]
  },
  {
   "cell_type": "code",
   "execution_count": 52,
   "metadata": {},
   "outputs": [],
   "source": [
    "#Add a new column for when the protein name contains peptidase or protease\n",
    "for i in df_dict:\n",
    "    df_dict[i]['Peptidase'] = np.where(df_dict[i]['Protein names'].str.contains('peptidase|protease',case=False) == True, 'Peptidase', 'Not Peptidase')\n"
   ]
  },
  {
   "cell_type": "code",
   "execution_count": 59,
   "metadata": {
    "scrolled": true
   },
   "outputs": [
    {
     "data": {
      "text/plain": [
       "'All ratio dataframes combined into \"ratio_dict\".'"
      ]
     },
     "execution_count": 59,
     "metadata": {},
     "output_type": "execute_result"
    }
   ],
   "source": [
    "#Identify the differences in significant vs not significant peptidases\n",
    "TaxaLogRatioCompareSigLevelGroupsCombine(df_dict,sig_level=0.1,Taxa_col='Peptidase',\n",
    "                                         human=\"True\", compareall=\"True\",\n",
    "                                         variable='Peptidase',MinCount=10,Sparsity=0.95)"
   ]
  },
  {
   "cell_type": "code",
   "execution_count": 60,
   "metadata": {},
   "outputs": [],
   "source": [
    "pept_ratios = pd.concat(ratio_dict)"
   ]
  },
  {
   "cell_type": "code",
   "execution_count": 62,
   "metadata": {},
   "outputs": [],
   "source": [
    "##Optional: manually reordered to have data presented in order of manuscript:\n",
    "#pept_ratios.to_csv('./Bacteroides_PeptidaseProteaser03_sprct95_ratios.csv')\n",
    "pept_ratios=pd.read_csv('./Bacteroides_PeptidaseProteaser03_sprct95_ratios.csv')"
   ]
  },
  {
   "cell_type": "code",
   "execution_count": 63,
   "metadata": {},
   "outputs": [
    {
     "data": {
      "image/png": "[encoded data removed]",
      "text/plain": [
       "<Figure size 386x90 with 1 Axes>"
      ]
     },
     "metadata": {
      "needs_background": "light"
     },
     "output_type": "display_data"
    }
   ],
   "source": [
    "plot1 = sns.catplot(x=\"Log(Pos/Neg)\", y = \"Peptidase\",hue=\"Category\",kind=\"bar\",palette=['blue','gray','red'],\n",
    "                    data=pept_ratios,\n",
    "                    height=1.25,aspect=3)\n",
    "#plot1.savefig('./MGDB_MP_BacteroidesPeptidasesProteases_Log10_r03_sprc95_small.pdf')"
   ]
  },
  {
   "cell_type": "markdown",
   "metadata": {},
   "source": [
    "##### Identify Bacteroides MG abundance & composition of each Bacteroides species"
   ]
  },
  {
   "cell_type": "code",
   "execution_count": 64,
   "metadata": {},
   "outputs": [],
   "source": [
    "#Data\n",
    "df = pd.read_csv('./Metagenomics/Salmon_CPMs.csv',index_col='Name')\n",
    "df2 = pd.read_csv('../UC_Severity/Genomics/Shotgun/Salmon_CPMs.csv', index_col=\"Name\")"
   ]
  },
  {
   "cell_type": "code",
   "execution_count": 65,
   "metadata": {},
   "outputs": [],
   "source": [
    "#Patient metadata\n",
    "meta = pd.read_csv('./Combined_Metadata_Allomics_MG_V1.txt', sep = '\\t',index_col = 'id')\n",
    "meta2 = pd.read_csv('../UC_Severity/UC_MP_Emperor_Map.txt',sep ='\\t', index_col = 'id')"
   ]
  },
  {
   "cell_type": "code",
   "execution_count": 66,
   "metadata": {},
   "outputs": [],
   "source": [
    "#Protein metadata\n",
    "MG_ann = pd.read_csv('./Metagenomics/MGDB/MGDB_Full_Protein_Annotations.txt', sep = '\\t')\n",
    "MG_ann2 = pd.read_csv('../UC_Severity/Annotations/UniKB_Taxa_ghostKO_Merge.csv')"
   ]
  },
  {
   "cell_type": "code",
   "execution_count": 67,
   "metadata": {},
   "outputs": [],
   "source": [
    "#Isolate list of UC patients from cohort 1 and sort by activity\n",
    "UC_patients2 = list(meta2.index)\n",
    "UC_patients2 = list(set(UC_patients2) & set(df2.columns))\n",
    "UC_patients2=list(meta2.loc[UC_patients2].sort_values('partial_Mayo').index)\n",
    "\n",
    "#Isolate list of UC patients from cohort 2 and sort by activity\n",
    "UC_patients = list(meta[meta['Diagnosis'] == 'UC'].index)\n",
    "UC_patients = list(set(UC_patients) & set(df.columns))\n",
    "UC_patients=list(meta.loc[UC_patients].sort_values('partial_Mayo').index)\n",
    "\n",
    "#Remove duplicates\n",
    "MG_ann = MG_ann.loc[list(MG_ann['queryID'].drop_duplicates().index)]\n",
    "MG_ann2 = MG_ann2.loc[list(MG_ann2['queryID'].drop_duplicates().index)]\n",
    "\n",
    "#Merge data with annotation information\n",
    "df_merge = df.merge(MG_ann, left_index = True, right_on = 'queryID', how = 'left')\n",
    "df_merge2 = df2.merge(MG_ann2, left_index = True, right_on = 'queryID', how = 'left')\n",
    "\n",
    "#List of sample names\n",
    "samples = list(df.columns)\n",
    "samples2 = list(df2.columns)\n",
    "\n",
    "#Create dataframes for genus level sums of genes\n",
    "df_g = df_merge[samples].groupby(df_merge['Genus']).agg('sum')\n",
    "df_g2 = df_merge2[samples2].groupby(df_merge2['Genus']).agg('sum')\n",
    "\n",
    "\n",
    "#Pull out the reads for each Bacteroides species\n",
    "df_s = df_merge[df_merge['Genus'] == ' g__Bacteroides']\n",
    "df_s2 = df_merge2[df_merge2['Genus'] == ' g__Bacteroides']\n",
    "#Aggregate the species and overwrite the dataframe\n",
    "df_s = df_s[samples].groupby(df_s['Species']).agg('sum')\n",
    "df_s2 = df_s2[samples2].groupby(df_s2['Species']).agg('sum')\n",
    "\n"
   ]
  },
  {
   "cell_type": "code",
   "execution_count": 73,
   "metadata": {
    "scrolled": true
   },
   "outputs": [],
   "source": [
    "#Combine both datasets\n",
    "dfs_merge = df_s.merge(df_s2, left_index=True,right_index=True, how='outer')\n",
    "dfs_merge.replace(np.nan,0,inplace=True)\n",
    "#Change index\n",
    "dfs_merge['Species'] = dfs_merge.index"
   ]
  },
  {
   "cell_type": "code",
   "execution_count": 72,
   "metadata": {},
   "outputs": [],
   "source": [
    "#Combine both dataset metadata files\n",
    "combined_meta = pd.concat([meta,meta2],join='inner')\n",
    "lists = [UC_patients2,UC_patients]"
   ]
  },
  {
   "cell_type": "code",
   "execution_count": 74,
   "metadata": {},
   "outputs": [],
   "source": [
    "#Create a 3 tiered activity level indication\n",
    "Activity_cat=[]\n",
    "for i in combined_meta['partial_Mayo']:\n",
    "    try:\n",
    "        a = float(i)\n",
    "        if a < 3:\n",
    "            Activity_cat.append('Low')\n",
    "        elif a <6:\n",
    "            Activity_cat.append('Moderate')\n",
    "        elif a <11:\n",
    "            Activity_cat.append('High')\n",
    "        else:\n",
    "            Activity_cat.append('not applicable')\n",
    "    except ValueError:\n",
    "        Activity_cat.append('not applicable')\n",
    "    \n",
    "combined_meta['Activity_Level'] = Activity_cat"
   ]
  },
  {
   "cell_type": "code",
   "execution_count": 77,
   "metadata": {},
   "outputs": [
    {
     "data": {
      "image/png": "[encoded data removed]",
      "text/plain": [
       "<Figure size 64x288 with 2 Axes>"
      ]
     },
     "metadata": {
      "needs_background": "light"
     },
     "output_type": "display_data"
    }
   ],
   "source": [
    "#Plot stacked barplots\n",
    "PlotByCategory_MultiSampleGroups(df=dfs_merge,lists=lists,Taxa_col='Species',category='TAXON_ID',\n",
    "                                 metadata=combined_meta,display_number=10, size=4,\n",
    "                                 save_descrip='Bothdatasets_MGBacteroidesSpecies_comp_UC_OverallAvg_top10_final',\n",
    "                                 human=\"True\")"
   ]
  },
  {
   "cell_type": "code",
   "execution_count": 78,
   "metadata": {},
   "outputs": [
    {
     "data": {
      "image/png": "[encoded data removed]",
      "text/plain": [
       "<Figure size 144x288 with 2 Axes>"
      ]
     },
     "metadata": {
      "needs_background": "light"
     },
     "output_type": "display_data"
    }
   ],
   "source": [
    "PlotByCategory_MultiSampleGroups(df=dfs_merge,lists=lists,Taxa_col='Species',category='Activity_Level',\n",
    "                                 metadata=combined_meta,display_number=10,size=9,\n",
    "                                 save_descrip='Bothdatasets_MGBacteroidesSpecies_comp_UC_ActivityLevel_Averaged_top10_final',\n",
    "                                 human=\"True\")"
   ]
  },
  {
   "cell_type": "markdown",
   "metadata": {},
   "source": [
    "Plot the composition of Bacteroides in overall MG reads"
   ]
  },
  {
   "cell_type": "code",
   "execution_count": 95,
   "metadata": {},
   "outputs": [],
   "source": [
    "#Identify compositions\n",
    "df_g4 = df_g2\n",
    "for j in df_g4:\n",
    "    df_g4[j] = df_g4[j]/df_g4[j].sum()\n",
    "\n",
    "df_g3 = df_g\n",
    "for j in df_g3:\n",
    "    df_g3[j] = df_g3[j]/df_g3[j].sum()\n",
    "\n",
    "#Reset indexes\n",
    "df_g4=df_g4.T.reset_index()\n",
    "df_g3=df_g3.T.reset_index()\n",
    "\n",
    "#Change to longform dataframes\n",
    "df_melt = df_g4.melt(id_vars='index',value_vars=' g__Bacteroides')\n",
    "df_melt2 = df_g3.melt(id_vars='index',value_vars=' g__Bacteroides')\n",
    "\n",
    "#Change columns names\n",
    "df_melt.rename(columns={'index':'Patient ID', 'value':'% MG Composition'}, inplace = True)\n",
    "df_melt2.rename(columns={'index':'Patient ID', 'value':'% MG Composition'}, inplace = True)\n",
    "\n",
    "#Subset to only the UC patients in the IBD200 data\n",
    "df_melt2=df_melt2[df_melt2['Patient ID'].isin(UC_patients)]\n",
    "\n",
    "df_melt['Diagnosis'] = 'UC'\n",
    "df_melt2['Diagnosis'] = 'UC'"
   ]
  },
  {
   "cell_type": "code",
   "execution_count": 97,
   "metadata": {},
   "outputs": [
    {
     "data": {
      "image/png": "[encoded data removed]",
      "text/plain": [
       "<Figure size 64x36 with 1 Axes>"
      ]
     },
     "metadata": {
      "needs_background": "light"
     },
     "output_type": "display_data"
    }
   ],
   "source": [
    "#Make swarm plots to summarize the composition data\n",
    "fig_width = 2*(4/9)\n",
    "fig, ax = plt.subplots(figsize = (fig_width,0.5))\n",
    "sns.violinplot(x='Diagnosis',y='% MG Composition',data=df_melt,palette=['blue']).set(ylim=(0, 1))\n",
    "plt.savefig('./UC40_BacteroidesMGPrcntages_Swarmplot_final.pdf', bbox_inches='tight')"
   ]
  },
  {
   "cell_type": "code",
   "execution_count": 99,
   "metadata": {
    "scrolled": true
   },
   "outputs": [
    {
     "data": {
      "image/png": "[encoded data removed]",
      "text/plain": [
       "<Figure size 64x36 with 1 Axes>"
      ]
     },
     "metadata": {
      "needs_background": "light"
     },
     "output_type": "display_data"
    }
   ],
   "source": [
    "#Make swarm plots to summarize the composition data\n",
    "fig_width = 2*(4/9)\n",
    "fig, ax = plt.subplots(figsize = (fig_width,0.5))\n",
    "sns.violinplot(x='Diagnosis',y='% MG Composition',data=df_melt2,palette=['gray']).set(ylim=(0, 1))\n",
    "plt.savefig('./IBD200UCpatientsBacteroidesMGPrcntages_final.pdf', bbox_inches='tight')"
   ]
  },
  {
   "cell_type": "code",
   "execution_count": 110,
   "metadata": {
    "scrolled": true
   },
   "outputs": [],
   "source": [
    "#Reperform the compositions\n",
    "df_g3 = df_g\n",
    "for j in df_g3:\n",
    "    df_g3[j] = df_g3[j]/df_g3[j].sum()\n",
    "\n",
    "df_g4 = df_g2\n",
    "for j in df_g4:\n",
    "    df_g4[j] = df_g4[j]/df_g4[j].sum()\n",
    "\n",
    "\n"
   ]
  },
  {
   "cell_type": "code",
   "execution_count": 113,
   "metadata": {},
   "outputs": [
    {
     "data": {
      "image/png": "[encoded data removed]",
      "text/plain": [
       "<Figure size 144x36 with 1 Axes>"
      ]
     },
     "metadata": {
      "needs_background": "light"
     },
     "output_type": "display_data"
    }
   ],
   "source": [
    "#Use the dotplotcategory function to create plots\n",
    "DotPlotCategory(df=df_g3,samples=UC_patients,Taxa_col=' g__Bacteroides',\n",
    "                category='Activity_Level',metadata=combined_meta,\n",
    "                save_descrip='IBD200_DotPlot_Activity_final',width=9)"
   ]
  },
  {
   "cell_type": "code",
   "execution_count": 114,
   "metadata": {},
   "outputs": [
    {
     "data": {
      "image/png": "[encoded data removed]",
      "text/plain": [
       "<Figure size 144x36 with 1 Axes>"
      ]
     },
     "metadata": {
      "needs_background": "light"
     },
     "output_type": "display_data"
    }
   ],
   "source": [
    "#Use the dotplotcategory function to create plots\n",
    "DotPlotCategory(df=df_g4,samples=UC_patients2,Taxa_col=' g__Bacteroides',\n",
    "                category='Activity_Level',metadata=combined_meta,\n",
    "                save_descrip='UC40_DotPlot_Activity_final',width=9)"
   ]
  },
  {
   "cell_type": "markdown",
   "metadata": {},
   "source": [
    "##### Compare correlations to activity of Bacteroides proteases by species"
   ]
  },
  {
   "cell_type": "code",
   "execution_count": 33,
   "metadata": {},
   "outputs": [],
   "source": [
    "#Load in the correlation data\n",
    "df_n40 = pd.read_csv('./pMayo_correlations_MP_MGDB_annotated_UC40.csv', index_col=0)\n",
    "df_n3 = pd.read_csv('./pMayo_correlations_MP_MGDB_annotated.csv', index_col = 0)"
   ]
  },
  {
   "cell_type": "code",
   "execution_count": 34,
   "metadata": {},
   "outputs": [],
   "source": [
    "#Subset for Bacteroides\n",
    "df_n40=df_n40[df_n40['Genus']=='Bacteroides']\n",
    "\n",
    "#Pull out the enzymes and proteases, then concatenate them to one dataframe\n",
    "df_n40_enz = df_n40[df_n40['KEGG_Functional_Category'] == 'Enzyme Families'] \n",
    "df_n40_pept = df_n40[df_n40['Protein names'].str.contains('peptidase|protease',case=False)==True]\n",
    "df_n40_all = pd.concat([df_n40_pept,df_n40_enz])\n",
    "\n",
    "df_n3=df_n3[df_n3['Genus']=='Bacteroides']\n",
    "df_n3_enz = df_n3[df_n3['KEGG_Functional_Category'] == 'Enzyme Families'] \n",
    "df_n3_pept = df_n3[df_n3['Protein names'].str.contains('peptidase|protease',case=False)==True]\n",
    "df_n3_all = pd.concat([df_n3_pept,df_n3_enz])\n",
    "\n",
    "#Compile the correlations by both the species and the cohort, start by making new column\n",
    "df_n40_all['Species_cohort']=df_n40_all['Species']+\" (UC Cohort 1)\"\n",
    "df_n3_all['Species_cohort']=df_n3_all['Species']+\" (UC Cohort 2)\"\n",
    "\n",
    "#Identify the columns of interest\n",
    "Columns = ['Species_cohort','rvalue','Protein names']\n",
    "#Subset the columns of interest\n",
    "UC1=df_n40_all[Columns]\n",
    "UC2=df_n3_all[Columns]\n",
    "#Concatenate the two datasets\n",
    "UC_cat=pd.concat([UC1,UC2])\n",
    "\n",
    "#Aggregate by the sum of the correlations within each protein of each species\n",
    "UC_cat['sumbby']=UC_cat['Species_cohort']+UC_cat['Protein names']\n",
    "groupcols=['Protein names','Species_cohort']\n",
    "UC_cat2=UC_cat.groupby(groupcols)['rvalue'].sum().reset_index()\n",
    "\n",
    "#Pivot the table for visualization\n",
    "Bprot_rtable=UC_cat2.pivot(index='Protein names',columns='Species_cohort',values='rvalue')\n"
   ]
  },
  {
   "cell_type": "code",
   "execution_count": 6,
   "metadata": {},
   "outputs": [],
   "source": [
    "#Determine bacteria order by species abundance\n",
    "Abund_bac=[\"Bacteroides vulgatus (UC Cohort 1)\",\"Bacteroides vulgatus (UC Cohort 2)\",\"Bacteroides dorei (UC Cohort 1)\",\"Bacteroides dorei (UC Cohort 2)\",\n",
    "\"Bacteroides uniformis (UC Cohort 1)\",\"Bacteroides uniformis (UC Cohort 2)\",\n",
    "\"Bacteroides ovatus (UC Cohort 1)\",\"Bacteroides ovatus (UC Cohort 2)\",\n",
    "\"Bacteroides fragilis (UC Cohort 1)\",\"Bacteroides fragilis (UC Cohort 2)\",\n",
    "\"Bacteroides thetaiotaomicron (UC Cohort 1)\",\"Bacteroides thetaiotaomicron (UC Cohort 2)\"]\n",
    "\n",
    "abund_df=Bprot_rtable[Abund_bac]\n",
    "abund_df=abund_df.dropna(axis=0,how='all')\n",
    "abund_df['Number_missing']=abund_df.isnull().sum(axis=1)\n",
    "abund_df=abund_df[abund_df['Number_missing']<11].drop(columns='Number_missing')\n",
    "abund_df=abund_df.drop(index='Deleted.')"
   ]
  },
  {
   "cell_type": "code",
   "execution_count": 7,
   "metadata": {},
   "outputs": [],
   "source": [
    "#Determine protein order by molecular function\n",
    "proteins=abund_df.index\n",
    "dfall=pd.concat([df_n3_all,df_n40_all])\n",
    "cols=['Gene ontology (molecular function)','Protein names']\n",
    "prot_funct_df=dfall[cols].drop_duplicates()\n",
    "prot_funct_df=prot_funct_df[prot_funct_df['Protein names'].isin(proteins)]\n",
    "prot_order=list(prot_funct_df.sort_values(by='Gene ontology (molecular function)')['Protein names'])"
   ]
  },
  {
   "cell_type": "code",
   "execution_count": 8,
   "metadata": {},
   "outputs": [],
   "source": [
    "#Manually sorted by the class type activities of each protease\n",
    "#prot_funct_df.sort_values(by='Gene ontology (molecular function)').to_csv('./abundbacteroidesproteases_molfunct.csv')\n",
    "\n",
    "prot_order=[\"Dipeptidase (EC 3.4.-.-)\",\n",
    "\"Dipeptidyl aminopeptidase IV\",\n",
    "\"Dipeptidyl peptidase IV\",\n",
    "\"Dipeptidyl peptidase IV N-terminal domain protein (Fragment)\",\n",
    "\"Dipeptidyl-peptidase 7 (DPP7) (EC 3.4.14.-)\",\n",
    "\"Dipeptidyl-peptidase III (EC 3.4.14.4)\",\n",
    "\"Peptidase S9A/B/C family catalytic domain protein\",\n",
    "\"Peptidase, S9A/B/C family, catalytic domain protein (EC 3.4.-.-)\",\n",
    "\"Prolyl oligopeptidase family protein\",\n",
    "\"Prolyl tripeptidyl peptidase (EC 3.4.14.12)\",\n",
    "\"Protease Do\",\n",
    "\"Putative Tricorn-like protease\",\n",
    "\"Serine protease\",\n",
    "\"Signal peptidase I (EC 3.4.21.89)\",\n",
    "\"Signal peptide peptidase SppA, 67K type (EC 3.4.-.-)\",\n",
    "\"Tricorn protease\",\n",
    "\"Tricorn protease homolog (EC 3.4.21.-)\",\n",
    "\"Uncharacterized protein\",\n",
    "\"Aminopeptidase P domain protein (EC 3.4.-.-)\",\n",
    "\"Endothelin-converting enzyme 1 (EC 3.4.24.71)\",\n",
    "\"Leucine aminopeptidase\",\n",
    "\"Peptidase M16 inactive domain protein\",\n",
    "\"Peptidase M16 inactive domain protein (EC 3.4.24.-)\",\n",
    "\"Peptidase, M24 family (EC 3.4.-.-)\",\n",
    "\"Peptidase, M28 family (EC 3.4.-.-)\",\n",
    "\"Putative endothelin-converting enzyme\",\n",
    "\"Putative peptidyl-dipeptidase dcp\",\n",
    "\"TldD/PmbA family protein\",\n",
    "\"Xaa-His dipeptidase (EC 3.4.13.3)\",\n",
    "\"Xaa-Pro aminopeptidase (EC 3.4.11.9)\",\n",
    "\"Aminopeptidase C\",\n",
    "\"Aminopeptidase C (Bleomycin hydrolase)\",\n",
    "\"Peptidase C1-like family protein (Fragment)\",\n",
    "\"Peptidase C1A papain\",\n",
    "\"Aminoacyl-histidine dipeptidase (Cytosol non-specific dipeptidase) (EC 3.4.13.18)\",\n",
    "\"Carboxypeptidase regulatory-like domain protein\",\n",
    "\"Carboxypeptidase regulatory-like domain protein (TonB-dependent Receptor Plug Domain protein)\",\n",
    "\"Cytosol non-specific dipeptidase (EC 3.4.13.18)\"]"
   ]
  },
  {
   "cell_type": "code",
   "execution_count": 10,
   "metadata": {},
   "outputs": [
    {
     "data": {
      "image/png": "[encoded data removed]",
      "text/plain": [
       "<Figure size 230.4x576 with 2 Axes>"
      ]
     },
     "metadata": {
      "needs_background": "light"
     },
     "output_type": "display_data"
    }
   ],
   "source": [
    "#Reorder the data\n",
    "abund_df=abund_df.loc[prot_order]\n",
    "\n",
    "#Create a heatmap of the data\n",
    "ax=plt.subplots(figsize=(3.2,8))\n",
    "ax=sns.heatmap(abund_df,cmap='coolwarm',vmax=1,vmin=-1,cbar_kws = dict(use_gridspec=False,location=\"left\"))\n",
    "ax.tick_params(left=False,bottom=False,right=True, top=True, \n",
    "               labelright=True, labeltop=True,labelbottom=False,\n",
    "               labelleft=False,rotation=0)\n",
    "plt.xticks(rotation='vertical')\n",
    "bottom, top = ax.get_ylim()\n",
    "ax.set_ylim(bottom + 0.5, top - 0.5)\n",
    "plt.savefig('Combined_UC_Bacteroides_ProteasesRvaluesSum_HeatmapReds_final.pdf',bbox_inches='tight')"
   ]
  },
  {
   "cell_type": "markdown",
   "metadata": {},
   "source": [
    "##### Identify patient samples overproducing Bacteroides vulgatus proteases"
   ]
  },
  {
   "cell_type": "code",
   "execution_count": 163,
   "metadata": {},
   "outputs": [],
   "source": [
    "#Proteases from Bv or Bd overlap\n",
    "df1 = pd.read_csv('./pMayo_correlations_MP_MGDB_annotated.csv', index_col = 'Master Protein')\n",
    "df2 = pd.read_csv('./pMayo_correlations_MP_MGDB_annotated_UC40.csv', index_col=0)"
   ]
  },
  {
   "cell_type": "code",
   "execution_count": 167,
   "metadata": {},
   "outputs": [],
   "source": [
    "#Find the positive correlations\n",
    "df2 = df2[df2['rvalue'] > 0.3]\n",
    "df1 = df1[df1['rvalue'] > 0.3]\n",
    "\n",
    "#Pull out \n",
    "species_interest = ['Bacteroides dorei', 'Bacteroides vulgatus']\n",
    "df2 = df2[df2['Species'].isin(species_interest)]\n",
    "df1 = df1[df1['Species'].isin(species_interest)]\n",
    "\n",
    "df1_enz = df1[df1['KEGG_Functional_Category'] == 'Enzyme Families'] \n",
    "df1_pept = df1[df1['Protein names'].str.contains('peptidase|protease',case=False)==True]\n",
    "df1_all = pd.concat([df1_pept,df1_enz])\n",
    "#IBD200 = set(df1_all['Protein names'])\n",
    "\n",
    "df2_enz = df2[df2['KEGG_Functional_Category'] == 'Enzyme Families'] \n",
    "df2_pept = df2[df2['Protein names'].str.contains('peptidase|protease',case=False)==True]\n",
    "df2_all = pd.concat([df2_pept,df2_enz])\n",
    "#UC40 = set(df2_all['Protein names'])\n",
    "\n",
    "df1_all.index = df1_all.index + 'IBD200'\n",
    "df2_all.index = df2_all.index + 'UC40'\n",
    "\n",
    "BvBdProteasesMPdf=pd.concat([df1_all,df2_all])\n",
    "#Instead only going to match by protease names\n",
    "#UC40 = set(df2_pept['Protein names'])\n",
    "#IBD200 = set(df1_pept['Protein names'])"
   ]
  },
  {
   "cell_type": "code",
   "execution_count": 187,
   "metadata": {},
   "outputs": [],
   "source": [
    "## Bring in metagenomics data\n",
    "\n",
    "#Data\n",
    "#df = pd.read_csv('./Metagenomics/Salmon_CPMs.csv',index_col='Name')\n",
    "#df2 = pd.read_csv('../UC_Severity/Genomics/Shotgun/Salmon_CPMs.csv', index_col=\"Name\")\n",
    "\n",
    "#Patient metadata\n",
    "meta = pd.read_csv('./Combined_Metadata_Allomics_MG_V1.txt', sep = '\\t',index_col = 'id')\n",
    "meta2 = pd.read_csv('../UC_Severity/UC_MP_Emperor_Map.txt',sep ='\\t', index_col = 'id')\n",
    "meta2['Proteome_ID'] = meta2.index\n",
    "\n",
    "#Protein metadata\n",
    "#MG_ann = pd.read_csv('./Metagenomics/MGDB/MGDB_Full_Protein_Annotations.txt', sep = '\\t')\n",
    "#MG_ann2 = pd.read_csv('../UC_Severity/Annotations/UniKB_Taxa_ghostKO_Merge.csv')\n",
    "\n",
    "#Isolate list of UC patients from cohort 1 and sort by activity\n",
    "UC_patients2 = list(meta2.index)\n",
    "UC_patients2 = list(set(UC_patients2) & set(df2.columns))\n",
    "UC_patients2=list(meta2.loc[UC_patients2].sort_values('partial_Mayo').index)\n",
    "\n",
    "#Isolate list of UC patients from cohort 2 and sort by activity\n",
    "UC_patients = list(meta[meta['Diagnosis'] == 'UC'].index)\n",
    "UC_patients = list(set(UC_patients) & set(df.columns))\n",
    "UC_patients=list(meta.loc[UC_patients].sort_values('partial_Mayo').index)\n",
    "\n",
    "#Remove duplicates\n",
    "MG_ann = MG_ann.loc[list(MG_ann['queryID'].drop_duplicates().index)]\n",
    "MG_ann2 = MG_ann2.loc[list(MG_ann2['queryID'].drop_duplicates().index)]\n",
    "\n",
    "#Merge data with annotation information\n",
    "df_merge = df.merge(MG_ann, left_index = True, right_on = 'queryID', how = 'left')\n",
    "df_merge2 = df2.merge(MG_ann2, left_index = True, right_on = 'queryID', how = 'left')\n",
    "\n",
    "#List of sample names\n",
    "samples = list(df.columns)\n",
    "samples2 = list(df2.columns)\n",
    "\n",
    "#Pull out the reads for each Bacteroides species\n",
    "df_s = df_merge[df_merge['Genus'] == ' g__Bacteroides']\n",
    "df_s2 = df_merge2[df_merge2['Genus'] == ' g__Bacteroides']\n",
    "#Aggregate the species and overwrite the dataframe\n",
    "df_s = df_s[samples].groupby(df_s['Species']).agg('sum')\n",
    "df_s2 = df_s2[samples2].groupby(df_s2['Species']).agg('sum')\n",
    "\n",
    "\n",
    "#Combine both datasets\n",
    "dfs_merge = df_s.merge(df_s2, left_index=True,right_index=True, how='outer')\n",
    "dfs_merge.replace(np.nan,0,inplace=True)\n",
    "#Change index\n",
    "dfs_merge['Species'] = dfs_merge.index\n",
    "\n",
    "#Combine both dataset metadata files\n",
    "combined_meta = pd.concat([meta,meta2],join='inner')"
   ]
  },
  {
   "cell_type": "code",
   "execution_count": 198,
   "metadata": {},
   "outputs": [],
   "source": [
    "#Subset out species of interest from above\n",
    "BvBd = [' s__Bacteroides vulgatus',' s__Bacteroides dorei']\n",
    "BvMGdf = dfs_merge[dfs_merge.index.isin(BvBd)]\n",
    "\n",
    "#Sum the MG abundances\n",
    "BvMGdf.loc['sum'] = BvMGdf.sum(axis=0)\n",
    "\n",
    "#Identify sum of Bacteroides species\n",
    "samples=set(BvMGdf.columns)&set(combined_meta.index)\n",
    "\n",
    "#Subset out to only listed samples\n",
    "BvMGdf2=BvMGdf[samples]\n",
    "combined_meta2 = combined_meta.loc[samples]\n",
    "#Change sample names to be compatible with proteome data\n",
    "BvMGdf2.columns = combined_meta2['Proteome_ID']\n",
    "#Drop unused samples\n",
    "BvMGdf2.drop(columns='not_analyzed',inplace=True)\n",
    "#Rename\n",
    "BvMGdf2.rename({'sum':'BvandBdMGSum'},axis='index',inplace=True)\n",
    "#Save and reload for column names error\n",
    "BvMGdf2.to_csv('./BvBdMGSums2.csv')\n",
    "#Couldn't figure how to get axis labels proper but this worked to save and load\n",
    "BvMGdf2 = pd.read_csv('./BvBdMGSums2.csv',index_col='Species')\n",
    "BvBdProteasesMPdf.loc['BvBdMGSum'] = BvMGdf2.loc['BvandBdMGSum']\n",
    "\n",
    "#Remove unnecessary data in metadata\n",
    "combined_meta2.index = combined_meta2['Proteome_ID']\n",
    "combined_meta2=combined_meta2[combined_meta2.index!='not_analyzed']\n",
    "combined_meta3=combined_meta2\n",
    "combined_meta3=combined_meta3[combined_meta3['Proteome_ID']!='not_analyzed']\n",
    "combined_meta3.index = combined_meta3['Proteome_ID']\n",
    "combined_meta4 = combined_meta3[combined_meta3['partial_Mayo']!='Missing']\n",
    "combined_meta4 = combined_meta4[combined_meta4['partial_Mayo']!='Healthy_control']\n",
    "UC_patients = list(combined_meta4.index)\n",
    "\n",
    "#Subset out dataframes to overlapping patients\n",
    "df = BvBdProteasesMPdf[set(UC_patients)&set(BvBdProteasesMPdf.columns)]\n",
    "combined_meta4 = combined_meta4.loc[combined_meta4.index.isin(set(UC_patients)&set(BvBdProteasesMPdf.columns))]\n",
    "combined_meta4=combined_meta4.drop_duplicates()\n",
    "df.loc['Relative_Disease_Activity'] = combined_meta4['Relative_Activity_Index']\n",
    "\n",
    "dfT=df.T\n",
    "bvproteases=list(dfT.columns)\n",
    "bvproteases.remove('BvBdMGSum')\n",
    "bvproteases.remove('Relative_Disease_Activity')\n",
    "\n",
    "dfT['MPsum']=dfT[bvproteases].sum(axis=1)\n",
    "dfT['MPaverage']=dfT[bvproteases].mean(axis=1)\n",
    "dfT['Relative_Disease_Activity']=dfT['Relative_Disease_Activity'].astype('float')"
   ]
  },
  {
   "cell_type": "code",
   "execution_count": 213,
   "metadata": {
    "scrolled": true
   },
   "outputs": [],
   "source": [
    "dfT['BvBdMGSum']=dfT['BvBdMGSum'].astype('float')\n",
    "dfT['MPsum']=dfT['MPsum'].astype('float')\n"
   ]
  },
  {
   "cell_type": "code",
   "execution_count": 214,
   "metadata": {},
   "outputs": [
    {
     "data": {
      "text/plain": [
       "<seaborn.axisgrid.FacetGrid at 0x4a806a5f8>"
      ]
     },
     "execution_count": 214,
     "metadata": {},
     "output_type": "execute_result"
    },
    {
     "data": {
      "image/png": "[encoded data removed]",
      "text/plain": [
       "<Figure size 360x360 with 1 Axes>"
      ]
     },
     "metadata": {
      "needs_background": "light"
     },
     "output_type": "display_data"
    }
   ],
   "source": [
    "sns.lmplot(x='BvBdMGSum', y='MPsum', data=dfT)\n",
    "#plot1.legend(loc='center left', bbox_to_anchor=(1, 0.5))\n",
    "#plt.tight_layout()\n",
    "#plt.savefig('BVMGabund_BVProteaseSum_lmplot.pdf',bbox_inches=\"tight\")"
   ]
  },
  {
   "cell_type": "code",
   "execution_count": null,
   "metadata": {},
   "outputs": [],
   "source": [
    "#dfT.to_csv('./MGvsProteaseAbundances_.csv')"
   ]
  },
  {
   "cell_type": "markdown",
   "metadata": {},
   "source": [
    "##### Identify strength of associations between disease activity, endoscopic, and histology and Bacteroides protease production\n"
   ]
  },
  {
   "cell_type": "code",
   "execution_count": 43,
   "metadata": {},
   "outputs": [],
   "source": [
    "#List of patient samples by BV protease abundance category:\n",
    "High_overpros = ['H19','L18','H9','59','H5','77', 'H2','H7']\n",
    "Med_overpros = ['57','H4','193','25']\n",
    "Low_overpros = ['H10','137','12','H11']\n",
    "Low_underpros = ['129','8','154']\n",
    "Med_underpros = ['102','60','138','L7','179','60','L10','132']\n",
    "High_underpros = ['200','L11','L19','L1','H15','L4','H20']"
   ]
  },
  {
   "cell_type": "code",
   "execution_count": 234,
   "metadata": {},
   "outputs": [],
   "source": [
    "meta = pd.read_csv('./Combined_metadata_metaproteome_metabolome_v1.txt', sep = '\\t', index_col='Proteome_ID')\n",
    "meta2 = pd.read_csv('../UC_Severity/UC_MP_Emperor_Map.txt',sep ='\\t', index_col = 'id')"
   ]
  },
  {
   "cell_type": "code",
   "execution_count": 239,
   "metadata": {},
   "outputs": [],
   "source": [
    "meta2.rename(columns={'UCEIS_endoscopic_score':'UCEIS'},inplace=True)\n",
    "\n",
    "meta['Experiment'] = 'IBD200'\n",
    "meta2['Experiment'] = 'UC40'\n",
    "\n",
    "cols = ['Experiment','partial_Mayo','UCEIS']\n",
    "\n",
    "meta = meta[cols]\n",
    "meta2 = meta2[cols]\n",
    "\n",
    "meta3 = pd.concat([meta,meta2])\n",
    "meta3 = meta3[meta3['partial_Mayo'] != 'Missing'] \n",
    "meta3 = meta3[meta3['partial_Mayo'] != 'Follow_up_with_MD']\n",
    "meta3 = meta3[meta3['partial_Mayo'] != 'Healthy_control']\n",
    "\n",
    "meta3['partial_Mayo'] = meta3['partial_Mayo'].astype('float')\n",
    "\n",
    "palette = {'IBD200':'gray','UC40':'blue'}"
   ]
  },
  {
   "cell_type": "code",
   "execution_count": 242,
   "metadata": {},
   "outputs": [],
   "source": [
    "Protease_cat = []\n",
    "for i in meta3.index:\n",
    "    if i in High_overpros:\n",
    "        Protease_cat.append('Overproducer')\n",
    "    elif i in Med_overpros:\n",
    "        Protease_cat.append('Overproducer')\n",
    "    elif i in Low_overpros:\n",
    "        Protease_cat.append('Overproducer')    \n",
    "    elif i in Med_underpros:\n",
    "        Protease_cat.append('Underproducer')\n",
    "    elif i in Low_underpros:\n",
    "        Protease_cat.append('Others')\n",
    "    elif i in High_underpros:\n",
    "        Protease_cat.append('Underproducer')    \n",
    "    else:\n",
    "        Protease_cat.append('Others')    \n",
    "meta3['Bv Protease Producer Category'] = Protease_cat"
   ]
  },
  {
   "cell_type": "code",
   "execution_count": 243,
   "metadata": {},
   "outputs": [
    {
     "data": {
      "text/plain": [
       "[Text(0, 0, 'Others'), Text(0, 0, 'Underproducer'), Text(0, 0, 'Overproducer')]"
      ]
     },
     "execution_count": 243,
     "metadata": {},
     "output_type": "execute_result"
    },
    {
     "data": {
      "image/png": "[encoded data removed]",
      "text/plain": [
       "<Figure size 144x288 with 1 Axes>"
      ]
     },
     "metadata": {},
     "output_type": "display_data"
    }
   ],
   "source": [
    "sns.set(rc={'figure.figsize':(2,4)})\n",
    "sns.set_style(\"whitegrid\")\n",
    "plot1 = sns.swarmplot(x='Bv Protease Producer Category', y='partial_Mayo',hue='Experiment', palette=palette, data=meta3, size=7)\n",
    "ax = sns.boxplot(x='Bv Protease Producer Category', y='partial_Mayo',color='white', linewidth='2',data=meta3)\n",
    "# iterate over boxes\n",
    "for i,box in enumerate(ax.artists):\n",
    "    box.set_edgecolor('black')\n",
    "    box.set_facecolor('white')\n",
    "\n",
    "    # iterate over whiskers and median lines\n",
    "    for j in range(6*i,6*(i+1)):\n",
    "         ax.lines[j].set_color('black')\n",
    "\n",
    "plot1.legend(loc='center left', bbox_to_anchor=(1, 0.5))\n",
    "\n",
    "plot1.set_xticklabels(plot1.get_xticklabels(),rotation=90)\n",
    "#plt.savefig('Bv_protease_outliers_analysis_boxplots.pdf', bbox_inches=\"tight\")\n",
    "\n"
   ]
  },
  {
   "cell_type": "markdown",
   "metadata": {},
   "source": [
    "Stats on association to disease activity"
   ]
  },
  {
   "cell_type": "code",
   "execution_count": 244,
   "metadata": {},
   "outputs": [
    {
     "data": {
      "text/plain": [
       "Ttest_indResult(statistic=3.782479069637194, pvalue=0.0007505816369892496)"
      ]
     },
     "execution_count": 244,
     "metadata": {},
     "output_type": "execute_result"
    }
   ],
   "source": [
    "a = list(meta3[meta3['Bv Protease Producer Category'] == 'Overproducer']['partial_Mayo'])\n",
    "b = list(meta3[meta3['Bv Protease Producer Category'] == 'Underproducer']['partial_Mayo'])\n",
    "\n",
    "scipy.stats.ttest_ind(a=a,b=b)"
   ]
  },
  {
   "cell_type": "code",
   "execution_count": 245,
   "metadata": {},
   "outputs": [
    {
     "data": {
      "text/plain": [
       "Ttest_indResult(statistic=5.036173141634479, pvalue=2.390131497985491e-06)"
      ]
     },
     "execution_count": 245,
     "metadata": {},
     "output_type": "execute_result"
    }
   ],
   "source": [
    "a = list(meta3[meta3['Bv Protease Producer Category'] == 'Overproducer']['partial_Mayo'])\n",
    "b = list(meta3[meta3['Bv Protease Producer Category'] == 'Others']['partial_Mayo'])\n",
    "\n",
    "scipy.stats.ttest_ind(a=a,b=b)"
   ]
  },
  {
   "cell_type": "code",
   "execution_count": 246,
   "metadata": {},
   "outputs": [
    {
     "data": {
      "text/plain": [
       "Ttest_indResult(statistic=-0.25970869519310863, pvalue=0.7956883134787964)"
      ]
     },
     "execution_count": 246,
     "metadata": {},
     "output_type": "execute_result"
    }
   ],
   "source": [
    "a = list(meta3[meta3['Bv Protease Producer Category'] == 'Underproducer']['partial_Mayo'])\n",
    "b = list(meta3[meta3['Bv Protease Producer Category'] == 'Others']['partial_Mayo'])\n",
    "\n",
    "scipy.stats.ttest_ind(a=a,b=b)"
   ]
  },
  {
   "cell_type": "markdown",
   "metadata": {},
   "source": [
    "Relationship to protease producing categories and endoscopy"
   ]
  },
  {
   "cell_type": "code",
   "execution_count": 247,
   "metadata": {},
   "outputs": [],
   "source": [
    "meta4 = meta3[meta3['UCEIS']!='Missing']\n",
    "meta4['UCEIS']=meta4['UCEIS'].astype('float')"
   ]
  },
  {
   "cell_type": "code",
   "execution_count": 248,
   "metadata": {},
   "outputs": [
    {
     "data": {
      "text/plain": [
       "[Text(0, 0, 'Others'), Text(0, 0, 'Underproducer'), Text(0, 0, 'Overproducer')]"
      ]
     },
     "execution_count": 248,
     "metadata": {},
     "output_type": "execute_result"
    },
    {
     "data": {
      "image/png": "[encoded data removed]",
      "text/plain": [
       "<Figure size 144x288 with 1 Axes>"
      ]
     },
     "metadata": {},
     "output_type": "display_data"
    }
   ],
   "source": [
    "sns.set(rc={'figure.figsize':(2,4)})\n",
    "sns.set_style(\"whitegrid\")\n",
    "plot1 = sns.swarmplot(x='Bv Protease Producer Category', y='UCEIS',hue='Experiment', palette=palette, data=meta4, size=7)\n",
    "ax = sns.boxplot(x='Bv Protease Producer Category', y='UCEIS',color='white', linewidth='2',data=meta4)\n",
    "# iterate over boxes\n",
    "for i,box in enumerate(ax.artists):\n",
    "    box.set_edgecolor('black')\n",
    "    box.set_facecolor('white')\n",
    "\n",
    "    # iterate over whiskers and median lines\n",
    "    for j in range(6*i,6*(i+1)):\n",
    "         ax.lines[j].set_color('black')\n",
    "\n",
    "plot1.legend(loc='center left', bbox_to_anchor=(1, 0.5))\n",
    "\n",
    "plot1.set_xticklabels(plot1.get_xticklabels(),rotation=90)\n",
    "#plt.savefig('Bv_protease_outliers_analysis_boxplots_UCEIS.pdf', bbox_inches=\"tight\")"
   ]
  },
  {
   "cell_type": "code",
   "execution_count": 249,
   "metadata": {},
   "outputs": [
    {
     "data": {
      "text/plain": [
       "Ttest_indResult(statistic=5.291233533028236, pvalue=1.2514208976853215e-05)"
      ]
     },
     "execution_count": 249,
     "metadata": {},
     "output_type": "execute_result"
    }
   ],
   "source": [
    "a = list(meta4[meta4['Bv Protease Producer Category'] == 'Overproducer']['UCEIS'])\n",
    "b = list(meta4[meta4['Bv Protease Producer Category'] == 'Underproducer']['UCEIS'])\n",
    "\n",
    "scipy.stats.ttest_ind(a=a,b=b)"
   ]
  },
  {
   "cell_type": "code",
   "execution_count": 250,
   "metadata": {},
   "outputs": [
    {
     "data": {
      "text/plain": [
       "Ttest_indResult(statistic=4.803777892838683, pvalue=6.625328700792065e-06)"
      ]
     },
     "execution_count": 250,
     "metadata": {},
     "output_type": "execute_result"
    }
   ],
   "source": [
    "a = list(meta4[meta4['Bv Protease Producer Category'] == 'Overproducer']['UCEIS'])\n",
    "b = list(meta4[meta4['Bv Protease Producer Category'] == 'Others']['UCEIS'])\n",
    "\n",
    "scipy.stats.ttest_ind(a=a,b=b)"
   ]
  },
  {
   "cell_type": "code",
   "execution_count": 251,
   "metadata": {},
   "outputs": [
    {
     "data": {
      "text/plain": [
       "Ttest_indResult(statistic=-0.9403747677770924, pvalue=0.34975416602861975)"
      ]
     },
     "execution_count": 251,
     "metadata": {},
     "output_type": "execute_result"
    }
   ],
   "source": [
    "a = list(meta4[meta4['Bv Protease Producer Category'] == 'Underproducer']['UCEIS'])\n",
    "b = list(meta4[meta4['Bv Protease Producer Category'] == 'Others']['UCEIS'])\n",
    "\n",
    "scipy.stats.ttest_ind(a=a,b=b)"
   ]
  },
  {
   "cell_type": "markdown",
   "metadata": {},
   "source": [
    "Proportions of histological remission in producer categories"
   ]
  },
  {
   "cell_type": "code",
   "execution_count": 44,
   "metadata": {},
   "outputs": [],
   "source": [
    "meta = pd.read_csv('./Combined_metadata_allomics_hist.txt', sep = '\\t', index_col='Proteome_ID')\n",
    "meta2 = pd.read_csv('../UC_Severity/UC_MP_Emperor_Map_v2_2020.txt',sep ='\\t', index_col = 'id')\n",
    "\n",
    "meta['Experiment'] = 'IBD200'\n",
    "meta2['Experiment'] = 'UC40'\n",
    "\n",
    "cols = ['Experiment','partial_Mayo','Geboes_Grade_3_Numeric']\n",
    "\n",
    "meta = meta[cols]\n",
    "meta2 = meta2[cols]\n",
    "\n",
    "meta3 = pd.concat([meta,meta2])\n",
    "\n",
    "Protease_cat = []\n",
    "for i in meta3.index:\n",
    "    if i in High_overpros:\n",
    "        Protease_cat.append('Overproducer')\n",
    "    elif i in Med_overpros:\n",
    "        Protease_cat.append('Overproducer')\n",
    "    elif i in Low_overpros:\n",
    "        Protease_cat.append('Overproducer')    \n",
    "    elif i in Med_underpros:\n",
    "        Protease_cat.append('Underproducer')\n",
    "    elif i in Low_underpros:\n",
    "        Protease_cat.append('Others')\n",
    "    elif i in High_underpros:\n",
    "        Protease_cat.append('Underproducer')    \n",
    "    else:\n",
    "        Protease_cat.append('Others')\n",
    "\n",
    "meta3['Bv Protease Producer Category'] = Protease_cat\n",
    "\n",
    "meta3 = meta3[meta3['Geboes_Grade_3_Numeric']!='not applicable']\n",
    "meta3['Geboes_Grade_3_Numeric']=meta3['Geboes_Grade_3_Numeric'].astype('float')\n",
    "meta3 = meta3[meta3['Geboes_Grade_3_Numeric'].isna()==False]\n"
   ]
  },
  {
   "cell_type": "code",
   "execution_count": 45,
   "metadata": {},
   "outputs": [],
   "source": [
    "#Categorize patients as having histological remission\n",
    "\n",
    "hist_rem=[]\n",
    "for i in meta3['Geboes_Grade_3_Numeric']:\n",
    "    if i >0:\n",
    "        hist_rem.append('no')\n",
    "    else:\n",
    "        hist_rem.append('yes')\n",
    "meta3['Histological_Remission'] = hist_rem"
   ]
  },
  {
   "cell_type": "code",
   "execution_count": 52,
   "metadata": {},
   "outputs": [
    {
     "data": {
      "text/plain": [
       "81.25"
      ]
     },
     "execution_count": 52,
     "metadata": {},
     "output_type": "execute_result"
    }
   ],
   "source": [
    "#Percentage of patients with overproduction in not in remission:\n",
    "Total=len(meta3[meta3['Bv Protease Producer Category']=='Overproducer'])\n",
    "meta4 = meta3[meta3['Bv Protease Producer Category']=='Overproducer']\n",
    "NotHistRemission = len(meta4[meta4['Geboes_Grade_3_Numeric']>0])\n",
    "\n",
    "100*(NotHistRemission/Total)"
   ]
  },
  {
   "cell_type": "code",
   "execution_count": 47,
   "metadata": {},
   "outputs": [
    {
     "data": {
      "text/plain": [
       "18.75"
      ]
     },
     "execution_count": 47,
     "metadata": {},
     "output_type": "execute_result"
    }
   ],
   "source": [
    "100-81.25"
   ]
  },
  {
   "cell_type": "code",
   "execution_count": 54,
   "metadata": {},
   "outputs": [
    {
     "data": {
      "text/plain": [
       "61.53846153846154"
      ]
     },
     "execution_count": 54,
     "metadata": {},
     "output_type": "execute_result"
    }
   ],
   "source": [
    "#Percentage of patients with underproduction in not in remission:\n",
    "Total=len(meta3[meta3['Bv Protease Producer Category']=='Underproducer'])\n",
    "meta4 = meta3[meta3['Bv Protease Producer Category']=='Underproducer']\n",
    "NotHistRemission = len(meta4[meta4['Geboes_Grade_3_Numeric']>0])\n",
    "\n",
    "100*(NotHistRemission/Total)"
   ]
  },
  {
   "cell_type": "code",
   "execution_count": 48,
   "metadata": {},
   "outputs": [
    {
     "data": {
      "text/plain": [
       "38.462"
      ]
     },
     "execution_count": 48,
     "metadata": {},
     "output_type": "execute_result"
    }
   ],
   "source": [
    "100-61.538"
   ]
  },
  {
   "cell_type": "code",
   "execution_count": 56,
   "metadata": {},
   "outputs": [
    {
     "data": {
      "text/plain": [
       "55.00000000000001"
      ]
     },
     "execution_count": 56,
     "metadata": {},
     "output_type": "execute_result"
    }
   ],
   "source": [
    "#Percentage of other patients not in remission:\n",
    "Total=len(meta3[meta3['Bv Protease Producer Category']=='Others'])\n",
    "meta4 = meta3[meta3['Bv Protease Producer Category']=='Others']\n",
    "NotHistRemission = len(meta4[meta4['Geboes_Grade_3_Numeric']>0])\n",
    "\n",
    "100*(NotHistRemission/Total)"
   ]
  },
  {
   "cell_type": "code",
   "execution_count": 49,
   "metadata": {},
   "outputs": [
    {
     "data": {
      "text/plain": [
       "45"
      ]
     },
     "execution_count": 49,
     "metadata": {},
     "output_type": "execute_result"
    }
   ],
   "source": [
    "100-55"
   ]
  },
  {
   "cell_type": "code",
   "execution_count": 57,
   "metadata": {},
   "outputs": [
    {
     "data": {
      "text/plain": [
       "60"
      ]
     },
     "execution_count": 57,
     "metadata": {},
     "output_type": "execute_result"
    }
   ],
   "source": [
    "Total"
   ]
  },
  {
   "cell_type": "code",
   "execution_count": null,
   "metadata": {},
   "outputs": [],
   "source": []
  }
 ],
 "metadata": {
  "kernelspec": {
   "display_name": "Python 3",
   "language": "python",
   "name": "python3"
  },
  "language_info": {
   "codemirror_mode": {
    "name": "ipython",
    "version": 3
   },
   "file_extension": ".py",
   "mimetype": "text/x-python",
   "name": "python",
   "nbconvert_exporter": "python",
   "pygments_lexer": "ipython3",
   "version": "3.6.7"
  }
 },
 "nbformat": 4,
 "nbformat_minor": 2
}
